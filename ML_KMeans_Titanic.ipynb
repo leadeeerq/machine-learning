{
  "nbformat": 4,
  "nbformat_minor": 0,
  "metadata": {
    "colab": {
      "provenance": [],
      "collapsed_sections": [],
      "toc_visible": true,
      "mount_file_id": "18CAsUq5KXe7vf4MljK9bYhQD1OKXCo57",
      "authorship_tag": "ABX9TyNsajzCuaShhnKgSQVcajvl",
      "include_colab_link": true
    },
    "kernelspec": {
      "name": "python3",
      "display_name": "Python 3"
    },
    "language_info": {
      "name": "python"
    }
  },
  "cells": [
    {
      "cell_type": "markdown",
      "metadata": {
        "id": "view-in-github",
        "colab_type": "text"
      },
      "source": [
        "<a href=\"https://colab.research.google.com/github/leadeeerq/machine-learning/blob/main/ML_KMeans_Titanic.ipynb\" target=\"_parent\"><img src=\"https://colab.research.google.com/assets/colab-badge.svg\" alt=\"Open In Colab\"/></a>"
      ]
    },
    {
      "cell_type": "markdown",
      "source": [
        "#K-Means algorithm"
      ],
      "metadata": {
        "id": "y_8oJ9WWQ4ml"
      }
    },
    {
      "cell_type": "markdown",
      "source": [
        "![image.png](data:image/png;base64,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)"
      ],
      "metadata": {
        "id": "GpAxM-eEnrMB"
      }
    },
    {
      "cell_type": "markdown",
      "source": [
        "##K-means example"
      ],
      "metadata": {
        "id": "zhDX0wy9ZFcR"
      }
    },
    {
      "cell_type": "code",
      "execution_count": 19,
      "metadata": {
        "id": "P2pycmkOQ2yC"
      },
      "outputs": [],
      "source": [
        "import pandas as pd\n",
        "import numpy as np\n",
        "import matplotlib.pyplot as plt\n",
        "from matplotlib import style\n",
        "style.use('ggplot')\n",
        "from sklearn.cluster import KMeans\n",
        "from sklearn import preprocessing\n",
        "# from sklearn.model_selection import train_test_split"
      ]
    },
    {
      "cell_type": "code",
      "source": [
        "X = np.array([[1, 2],\n",
        "              [1.5, 1.8],\n",
        "              [5, 8],\n",
        "              [8, 8],\n",
        "              [1, 0.6],\n",
        "              [9, 11]])"
      ],
      "metadata": {
        "id": "3iFqSWP-RG2g"
      },
      "execution_count": 2,
      "outputs": []
    },
    {
      "cell_type": "code",
      "source": [
        "plt.scatter(X[:,0], X[:,1], s = 50, linewidths = 5) #All rows from first col, all rows from 2nd col\n",
        "plt.show()"
      ],
      "metadata": {
        "colab": {
          "base_uri": "https://localhost:8080/",
          "height": 265
        },
        "id": "doad05e0RUsS",
        "outputId": "5076f411-2e84-4840-9c04-e64322cdbfc3"
      },
      "execution_count": 3,
      "outputs": [
        {
          "output_type": "display_data",
          "data": {
            "text/plain": [
              "<Figure size 432x288 with 1 Axes>"
            ],
            "image/png": "[encoded data removed]"
          },
          "metadata": {}
        }
      ]
    },
    {
      "cell_type": "code",
      "source": [
        "clf = KMeans(n_clusters = 2)\n",
        "clf.fit(X)"
      ],
      "metadata": {
        "colab": {
          "base_uri": "https://localhost:8080/"
        },
        "id": "GaLhu6p7Rx8i",
        "outputId": "28dc5834-5413-489a-c484-927cefe5e457"
      },
      "execution_count": 4,
      "outputs": [
        {
          "output_type": "execute_result",
          "data": {
            "text/plain": [
              "KMeans(n_clusters=2)"
            ]
          },
          "metadata": {},
          "execution_count": 4
        }
      ]
    },
    {
      "cell_type": "code",
      "source": [
        "centroids = clf.cluster_centers_\n",
        "labels = clf.labels_"
      ],
      "metadata": {
        "id": "_hUZkrasSAAx"
      },
      "execution_count": 5,
      "outputs": []
    },
    {
      "cell_type": "code",
      "source": [
        "colors = ['g.', 'r.', 'c.', 'b.', 'k.', 'o.']"
      ],
      "metadata": {
        "id": "7UfWauWGTJ_D"
      },
      "execution_count": 6,
      "outputs": []
    },
    {
      "cell_type": "code",
      "source": [
        "for i in range(len(X)):\n",
        "  plt.plot(X[i][0], X[i][1], colors[labels[i]], markersize = 10)\n",
        "plt.scatter(centroids[:,0], centroids[:,1], marker = 'x', s = 50, linewidths = 5)\n",
        "plt.show()"
      ],
      "metadata": {
        "colab": {
          "base_uri": "https://localhost:8080/",
          "height": 265
        },
        "id": "RCMOhbhZTgfh",
        "outputId": "c6c982f6-2367-468a-f97b-61f80fc1cbbb"
      },
      "execution_count": 7,
      "outputs": [
        {
          "output_type": "display_data",
          "data": {
            "text/plain": [
              "<Figure size 432x288 with 1 Axes>"
            ],
            "image/png": "[encoded data removed]"
          },
          "metadata": {}
        }
      ]
    },
    {
      "cell_type": "markdown",
      "source": [
        "##Titanic dataset"
      ],
      "metadata": {
        "id": "NNBg2GbfZInC"
      }
    },
    {
      "cell_type": "code",
      "source": [
        "!pip install --upgrade xlrd"
      ],
      "metadata": {
        "colab": {
          "base_uri": "https://localhost:8080/"
        },
        "id": "Kwi3dor4b42y",
        "outputId": "f7d29d27-62d2-481a-c368-9b5677c3c590"
      },
      "execution_count": 8,
      "outputs": [
        {
          "output_type": "stream",
          "name": "stdout",
          "text": [
            "Looking in indexes: https://pypi.org/simple, https://us-python.pkg.dev/colab-wheels/public/simple/\n",
            "Requirement already satisfied: xlrd in /usr/local/lib/python3.7/dist-packages (1.1.0)\n",
            "Collecting xlrd\n",
            "  Downloading xlrd-2.0.1-py2.py3-none-any.whl (96 kB)\n",
            "\u001b[K     |████████████████████████████████| 96 kB 2.1 MB/s \n",
            "\u001b[?25hInstalling collected packages: xlrd\n",
            "  Attempting uninstall: xlrd\n",
            "    Found existing installation: xlrd 1.1.0\n",
            "    Uninstalling xlrd-1.1.0:\n",
            "      Successfully uninstalled xlrd-1.1.0\n",
            "Successfully installed xlrd-2.0.1\n"
          ]
        }
      ]
    },
    {
      "cell_type": "markdown",
      "source": [
        "\n",
        "* pclass - passenger class (1, 2, 3)\n",
        "* survival - survival (0 = no, 1 = yes)\n",
        "*   sibsp - number of siblings/spouses aboard\n",
        "*   parch - number of parents/children aborad\n",
        "* ticket - ticket number\n",
        "* fare - passenger fare (british pounds)\n",
        "* cabin\n",
        "* embarked - port of embarkation (C = Cherbourg, Q = Queenstown, S = Southampton)\n",
        "* boat - lifeboat\n",
        "* body - body identification number\n",
        "* home.dest - home/destination\n"
      ],
      "metadata": {
        "id": "eM748WdzcIRQ"
      }
    },
    {
      "cell_type": "code",
      "source": [
        "df = pd.read_excel('/content/drive/MyDrive/Projekty Machine Learning/ML_KMeans/titanic.xls')\n",
        "df.head()"
      ],
      "metadata": {
        "colab": {
          "base_uri": "https://localhost:8080/",
          "height": 206
        },
        "id": "4u2dVsIsalNw",
        "outputId": "b12c3a1c-927a-481f-cdf7-44a154abc721"
      },
      "execution_count": 58,
      "outputs": [
        {
          "output_type": "execute_result",
          "data": {
            "text/plain": [
              "   pclass  survived                                             name     sex  \\\n",
              "0       1         1                    Allen, Miss. Elisabeth Walton  female   \n",
              "1       1         1                   Allison, Master. Hudson Trevor    male   \n",
              "2       1         0                     Allison, Miss. Helen Loraine  female   \n",
              "3       1         0             Allison, Mr. Hudson Joshua Creighton    male   \n",
              "4       1         0  Allison, Mrs. Hudson J C (Bessie Waldo Daniels)  female   \n",
              "\n",
              "       age  sibsp  parch  ticket      fare    cabin embarked boat   body  \\\n",
              "0  29.0000      0      0   24160  211.3375       B5        S    2    NaN   \n",
              "1   0.9167      1      2  113781  151.5500  C22 C26        S   11    NaN   \n",
              "2   2.0000      1      2  113781  151.5500  C22 C26        S  NaN    NaN   \n",
              "3  30.0000      1      2  113781  151.5500  C22 C26        S  NaN  135.0   \n",
              "4  25.0000      1      2  113781  151.5500  C22 C26        S  NaN    NaN   \n",
              "\n",
              "                         home.dest  \n",
              "0                     St Louis, MO  \n",
              "1  Montreal, PQ / Chesterville, ON  \n",
              "2  Montreal, PQ / Chesterville, ON  \n",
              "3  Montreal, PQ / Chesterville, ON  \n",
              "4  Montreal, PQ / Chesterville, ON  "
            ],
            "text/html": [
              "\n",
              "  <div id=\"df-d84192fe-1eb8-4492-9351-86fa5f288f0e\">\n",
              "    <div class=\"colab-df-container\">\n",
              "      <div>\n",
              "<style scoped>\n",
              "    .dataframe tbody tr th:only-of-type {\n",
              "        vertical-align: middle;\n",
              "    }\n",
              "\n",
              "    .dataframe tbody tr th {\n",
              "        vertical-align: top;\n",
              "    }\n",
              "\n",
              "    .dataframe thead th {\n",
              "        text-align: right;\n",
              "    }\n",
              "</style>\n",
              "<table border=\"1\" class=\"dataframe\">\n",
              "  <thead>\n",
              "    <tr style=\"text-align: right;\">\n",
              "      <th></th>\n",
              "      <th>pclass</th>\n",
              "      <th>survived</th>\n",
              "      <th>name</th>\n",
              "      <th>sex</th>\n",
              "      <th>age</th>\n",
              "      <th>sibsp</th>\n",
              "      <th>parch</th>\n",
              "      <th>ticket</th>\n",
              "      <th>fare</th>\n",
              "      <th>cabin</th>\n",
              "      <th>embarked</th>\n",
              "      <th>boat</th>\n",
              "      <th>body</th>\n",
              "      <th>home.dest</th>\n",
              "    </tr>\n",
              "  </thead>\n",
              "  <tbody>\n",
              "    <tr>\n",
              "      <th>0</th>\n",
              "      <td>1</td>\n",
              "      <td>1</td>\n",
              "      <td>Allen, Miss. Elisabeth Walton</td>\n",
              "      <td>female</td>\n",
              "      <td>29.0000</td>\n",
              "      <td>0</td>\n",
              "      <td>0</td>\n",
              "      <td>24160</td>\n",
              "      <td>211.3375</td>\n",
              "      <td>B5</td>\n",
              "      <td>S</td>\n",
              "      <td>2</td>\n",
              "      <td>NaN</td>\n",
              "      <td>St Louis, MO</td>\n",
              "    </tr>\n",
              "    <tr>\n",
              "      <th>1</th>\n",
              "      <td>1</td>\n",
              "      <td>1</td>\n",
              "      <td>Allison, Master. Hudson Trevor</td>\n",
              "      <td>male</td>\n",
              "      <td>0.9167</td>\n",
              "      <td>1</td>\n",
              "      <td>2</td>\n",
              "      <td>113781</td>\n",
              "      <td>151.5500</td>\n",
              "      <td>C22 C26</td>\n",
              "      <td>S</td>\n",
              "      <td>11</td>\n",
              "      <td>NaN</td>\n",
              "      <td>Montreal, PQ / Chesterville, ON</td>\n",
              "    </tr>\n",
              "    <tr>\n",
              "      <th>2</th>\n",
              "      <td>1</td>\n",
              "      <td>0</td>\n",
              "      <td>Allison, Miss. Helen Loraine</td>\n",
              "      <td>female</td>\n",
              "      <td>2.0000</td>\n",
              "      <td>1</td>\n",
              "      <td>2</td>\n",
              "      <td>113781</td>\n",
              "      <td>151.5500</td>\n",
              "      <td>C22 C26</td>\n",
              "      <td>S</td>\n",
              "      <td>NaN</td>\n",
              "      <td>NaN</td>\n",
              "      <td>Montreal, PQ / Chesterville, ON</td>\n",
              "    </tr>\n",
              "    <tr>\n",
              "      <th>3</th>\n",
              "      <td>1</td>\n",
              "      <td>0</td>\n",
              "      <td>Allison, Mr. Hudson Joshua Creighton</td>\n",
              "      <td>male</td>\n",
              "      <td>30.0000</td>\n",
              "      <td>1</td>\n",
              "      <td>2</td>\n",
              "      <td>113781</td>\n",
              "      <td>151.5500</td>\n",
              "      <td>C22 C26</td>\n",
              "      <td>S</td>\n",
              "      <td>NaN</td>\n",
              "      <td>135.0</td>\n",
              "      <td>Montreal, PQ / Chesterville, ON</td>\n",
              "    </tr>\n",
              "    <tr>\n",
              "      <th>4</th>\n",
              "      <td>1</td>\n",
              "      <td>0</td>\n",
              "      <td>Allison, Mrs. Hudson J C (Bessie Waldo Daniels)</td>\n",
              "      <td>female</td>\n",
              "      <td>25.0000</td>\n",
              "      <td>1</td>\n",
              "      <td>2</td>\n",
              "      <td>113781</td>\n",
              "      <td>151.5500</td>\n",
              "      <td>C22 C26</td>\n",
              "      <td>S</td>\n",
              "      <td>NaN</td>\n",
              "      <td>NaN</td>\n",
              "      <td>Montreal, PQ / Chesterville, ON</td>\n",
              "    </tr>\n",
              "  </tbody>\n",
              "</table>\n",
              "</div>\n",
              "      <button class=\"colab-df-convert\" onclick=\"convertToInteractive('df-d84192fe-1eb8-4492-9351-86fa5f288f0e')\"\n",
              "              title=\"Convert this dataframe to an interactive table.\"\n",
              "              style=\"display:none;\">\n",
              "        \n",
              "  <svg xmlns=\"http://www.w3.org/2000/svg\" height=\"24px\"viewBox=\"0 0 24 24\"\n",
              "       width=\"24px\">\n",
              "    <path d=\"M0 0h24v24H0V0z\" fill=\"none\"/>\n",
              "    <path d=\"M18.56 5.44l.94 2.06.94-2.06 2.06-.94-2.06-.94-.94-2.06-.94 2.06-2.06.94zm-11 1L8.5 8.5l.94-2.06 2.06-.94-2.06-.94L8.5 2.5l-.94 2.06-2.06.94zm10 10l.94 2.06.94-2.06 2.06-.94-2.06-.94-.94-2.06-.94 2.06-2.06.94z\"/><path d=\"M17.41 7.96l-1.37-1.37c-.4-.4-.92-.59-1.43-.59-.52 0-1.04.2-1.43.59L10.3 9.45l-7.72 7.72c-.78.78-.78 2.05 0 2.83L4 21.41c.39.39.9.59 1.41.59.51 0 1.02-.2 1.41-.59l7.78-7.78 2.81-2.81c.8-.78.8-2.07 0-2.86zM5.41 20L4 18.59l7.72-7.72 1.47 1.35L5.41 20z\"/>\n",
              "  </svg>\n",
              "      </button>\n",
              "      \n",
              "  <style>\n",
              "    .colab-df-container {\n",
              "      display:flex;\n",
              "      flex-wrap:wrap;\n",
              "      gap: 12px;\n",
              "    }\n",
              "\n",
              "    .colab-df-convert {\n",
              "      background-color: #E8F0FE;\n",
              "      border: none;\n",
              "      border-radius: 50%;\n",
              "      cursor: pointer;\n",
              "      display: none;\n",
              "      fill: #1967D2;\n",
              "      height: 32px;\n",
              "      padding: 0 0 0 0;\n",
              "      width: 32px;\n",
              "    }\n",
              "\n",
              "    .colab-df-convert:hover {\n",
              "      background-color: #E2EBFA;\n",
              "      box-shadow: 0px 1px 2px rgba(60, 64, 67, 0.3), 0px 1px 3px 1px rgba(60, 64, 67, 0.15);\n",
              "      fill: #174EA6;\n",
              "    }\n",
              "\n",
              "    [theme=dark] .colab-df-convert {\n",
              "      background-color: #3B4455;\n",
              "      fill: #D2E3FC;\n",
              "    }\n",
              "\n",
              "    [theme=dark] .colab-df-convert:hover {\n",
              "      background-color: #434B5C;\n",
              "      box-shadow: 0px 1px 3px 1px rgba(0, 0, 0, 0.15);\n",
              "      filter: drop-shadow(0px 1px 2px rgba(0, 0, 0, 0.3));\n",
              "      fill: #FFFFFF;\n",
              "    }\n",
              "  </style>\n",
              "\n",
              "      <script>\n",
              "        const buttonEl =\n",
              "          document.querySelector('#df-d84192fe-1eb8-4492-9351-86fa5f288f0e button.colab-df-convert');\n",
              "        buttonEl.style.display =\n",
              "          google.colab.kernel.accessAllowed ? 'block' : 'none';\n",
              "\n",
              "        async function convertToInteractive(key) {\n",
              "          const element = document.querySelector('#df-d84192fe-1eb8-4492-9351-86fa5f288f0e');\n",
              "          const dataTable =\n",
              "            await google.colab.kernel.invokeFunction('convertToInteractive',\n",
              "                                                     [key], {});\n",
              "          if (!dataTable) return;\n",
              "\n",
              "          const docLinkHtml = 'Like what you see? Visit the ' +\n",
              "            '<a target=\"_blank\" href=https://colab.research.google.com/notebooks/data_table.ipynb>data table notebook</a>'\n",
              "            + ' to learn more about interactive tables.';\n",
              "          element.innerHTML = '';\n",
              "          dataTable['output_type'] = 'display_data';\n",
              "          await google.colab.output.renderOutput(dataTable, element);\n",
              "          const docLink = document.createElement('div');\n",
              "          docLink.innerHTML = docLinkHtml;\n",
              "          element.appendChild(docLink);\n",
              "        }\n",
              "      </script>\n",
              "    </div>\n",
              "  </div>\n",
              "  "
            ]
          },
          "metadata": {},
          "execution_count": 58
        }
      ]
    },
    {
      "cell_type": "markdown",
      "source": [
        "###Data preprocessing"
      ],
      "metadata": {
        "id": "vTl2WuBMdxwu"
      }
    },
    {
      "cell_type": "code",
      "source": [
        "df.drop(['body', 'name'], axis = 1, inplace = True)"
      ],
      "metadata": {
        "id": "ZZyWZ-Ggd1VY"
      },
      "execution_count": 59,
      "outputs": []
    },
    {
      "cell_type": "code",
      "source": [
        "df.head()"
      ],
      "metadata": {
        "colab": {
          "base_uri": "https://localhost:8080/",
          "height": 206
        },
        "id": "DMndZzX9d-3z",
        "outputId": "90dec7d9-d456-4df6-8f75-c59b42ffdb13"
      },
      "execution_count": 60,
      "outputs": [
        {
          "output_type": "execute_result",
          "data": {
            "text/plain": [
              "   pclass  survived     sex      age  sibsp  parch  ticket      fare    cabin  \\\n",
              "0       1         1  female  29.0000      0      0   24160  211.3375       B5   \n",
              "1       1         1    male   0.9167      1      2  113781  151.5500  C22 C26   \n",
              "2       1         0  female   2.0000      1      2  113781  151.5500  C22 C26   \n",
              "3       1         0    male  30.0000      1      2  113781  151.5500  C22 C26   \n",
              "4       1         0  female  25.0000      1      2  113781  151.5500  C22 C26   \n",
              "\n",
              "  embarked boat                        home.dest  \n",
              "0        S    2                     St Louis, MO  \n",
              "1        S   11  Montreal, PQ / Chesterville, ON  \n",
              "2        S  NaN  Montreal, PQ / Chesterville, ON  \n",
              "3        S  NaN  Montreal, PQ / Chesterville, ON  \n",
              "4        S  NaN  Montreal, PQ / Chesterville, ON  "
            ],
            "text/html": [
              "\n",
              "  <div id=\"df-a8d9a069-f80e-4112-9e75-4980b949b52f\">\n",
              "    <div class=\"colab-df-container\">\n",
              "      <div>\n",
              "<style scoped>\n",
              "    .dataframe tbody tr th:only-of-type {\n",
              "        vertical-align: middle;\n",
              "    }\n",
              "\n",
              "    .dataframe tbody tr th {\n",
              "        vertical-align: top;\n",
              "    }\n",
              "\n",
              "    .dataframe thead th {\n",
              "        text-align: right;\n",
              "    }\n",
              "</style>\n",
              "<table border=\"1\" class=\"dataframe\">\n",
              "  <thead>\n",
              "    <tr style=\"text-align: right;\">\n",
              "      <th></th>\n",
              "      <th>pclass</th>\n",
              "      <th>survived</th>\n",
              "      <th>sex</th>\n",
              "      <th>age</th>\n",
              "      <th>sibsp</th>\n",
              "      <th>parch</th>\n",
              "      <th>ticket</th>\n",
              "      <th>fare</th>\n",
              "      <th>cabin</th>\n",
              "      <th>embarked</th>\n",
              "      <th>boat</th>\n",
              "      <th>home.dest</th>\n",
              "    </tr>\n",
              "  </thead>\n",
              "  <tbody>\n",
              "    <tr>\n",
              "      <th>0</th>\n",
              "      <td>1</td>\n",
              "      <td>1</td>\n",
              "      <td>female</td>\n",
              "      <td>29.0000</td>\n",
              "      <td>0</td>\n",
              "      <td>0</td>\n",
              "      <td>24160</td>\n",
              "      <td>211.3375</td>\n",
              "      <td>B5</td>\n",
              "      <td>S</td>\n",
              "      <td>2</td>\n",
              "      <td>St Louis, MO</td>\n",
              "    </tr>\n",
              "    <tr>\n",
              "      <th>1</th>\n",
              "      <td>1</td>\n",
              "      <td>1</td>\n",
              "      <td>male</td>\n",
              "      <td>0.9167</td>\n",
              "      <td>1</td>\n",
              "      <td>2</td>\n",
              "      <td>113781</td>\n",
              "      <td>151.5500</td>\n",
              "      <td>C22 C26</td>\n",
              "      <td>S</td>\n",
              "      <td>11</td>\n",
              "      <td>Montreal, PQ / Chesterville, ON</td>\n",
              "    </tr>\n",
              "    <tr>\n",
              "      <th>2</th>\n",
              "      <td>1</td>\n",
              "      <td>0</td>\n",
              "      <td>female</td>\n",
              "      <td>2.0000</td>\n",
              "      <td>1</td>\n",
              "      <td>2</td>\n",
              "      <td>113781</td>\n",
              "      <td>151.5500</td>\n",
              "      <td>C22 C26</td>\n",
              "      <td>S</td>\n",
              "      <td>NaN</td>\n",
              "      <td>Montreal, PQ / Chesterville, ON</td>\n",
              "    </tr>\n",
              "    <tr>\n",
              "      <th>3</th>\n",
              "      <td>1</td>\n",
              "      <td>0</td>\n",
              "      <td>male</td>\n",
              "      <td>30.0000</td>\n",
              "      <td>1</td>\n",
              "      <td>2</td>\n",
              "      <td>113781</td>\n",
              "      <td>151.5500</td>\n",
              "      <td>C22 C26</td>\n",
              "      <td>S</td>\n",
              "      <td>NaN</td>\n",
              "      <td>Montreal, PQ / Chesterville, ON</td>\n",
              "    </tr>\n",
              "    <tr>\n",
              "      <th>4</th>\n",
              "      <td>1</td>\n",
              "      <td>0</td>\n",
              "      <td>female</td>\n",
              "      <td>25.0000</td>\n",
              "      <td>1</td>\n",
              "      <td>2</td>\n",
              "      <td>113781</td>\n",
              "      <td>151.5500</td>\n",
              "      <td>C22 C26</td>\n",
              "      <td>S</td>\n",
              "      <td>NaN</td>\n",
              "      <td>Montreal, PQ / Chesterville, ON</td>\n",
              "    </tr>\n",
              "  </tbody>\n",
              "</table>\n",
              "</div>\n",
              "      <button class=\"colab-df-convert\" onclick=\"convertToInteractive('df-a8d9a069-f80e-4112-9e75-4980b949b52f')\"\n",
              "              title=\"Convert this dataframe to an interactive table.\"\n",
              "              style=\"display:none;\">\n",
              "        \n",
              "  <svg xmlns=\"http://www.w3.org/2000/svg\" height=\"24px\"viewBox=\"0 0 24 24\"\n",
              "       width=\"24px\">\n",
              "    <path d=\"M0 0h24v24H0V0z\" fill=\"none\"/>\n",
              "    <path d=\"M18.56 5.44l.94 2.06.94-2.06 2.06-.94-2.06-.94-.94-2.06-.94 2.06-2.06.94zm-11 1L8.5 8.5l.94-2.06 2.06-.94-2.06-.94L8.5 2.5l-.94 2.06-2.06.94zm10 10l.94 2.06.94-2.06 2.06-.94-2.06-.94-.94-2.06-.94 2.06-2.06.94z\"/><path d=\"M17.41 7.96l-1.37-1.37c-.4-.4-.92-.59-1.43-.59-.52 0-1.04.2-1.43.59L10.3 9.45l-7.72 7.72c-.78.78-.78 2.05 0 2.83L4 21.41c.39.39.9.59 1.41.59.51 0 1.02-.2 1.41-.59l7.78-7.78 2.81-2.81c.8-.78.8-2.07 0-2.86zM5.41 20L4 18.59l7.72-7.72 1.47 1.35L5.41 20z\"/>\n",
              "  </svg>\n",
              "      </button>\n",
              "      \n",
              "  <style>\n",
              "    .colab-df-container {\n",
              "      display:flex;\n",
              "      flex-wrap:wrap;\n",
              "      gap: 12px;\n",
              "    }\n",
              "\n",
              "    .colab-df-convert {\n",
              "      background-color: #E8F0FE;\n",
              "      border: none;\n",
              "      border-radius: 50%;\n",
              "      cursor: pointer;\n",
              "      display: none;\n",
              "      fill: #1967D2;\n",
              "      height: 32px;\n",
              "      padding: 0 0 0 0;\n",
              "      width: 32px;\n",
              "    }\n",
              "\n",
              "    .colab-df-convert:hover {\n",
              "      background-color: #E2EBFA;\n",
              "      box-shadow: 0px 1px 2px rgba(60, 64, 67, 0.3), 0px 1px 3px 1px rgba(60, 64, 67, 0.15);\n",
              "      fill: #174EA6;\n",
              "    }\n",
              "\n",
              "    [theme=dark] .colab-df-convert {\n",
              "      background-color: #3B4455;\n",
              "      fill: #D2E3FC;\n",
              "    }\n",
              "\n",
              "    [theme=dark] .colab-df-convert:hover {\n",
              "      background-color: #434B5C;\n",
              "      box-shadow: 0px 1px 3px 1px rgba(0, 0, 0, 0.15);\n",
              "      filter: drop-shadow(0px 1px 2px rgba(0, 0, 0, 0.3));\n",
              "      fill: #FFFFFF;\n",
              "    }\n",
              "  </style>\n",
              "\n",
              "      <script>\n",
              "        const buttonEl =\n",
              "          document.querySelector('#df-a8d9a069-f80e-4112-9e75-4980b949b52f button.colab-df-convert');\n",
              "        buttonEl.style.display =\n",
              "          google.colab.kernel.accessAllowed ? 'block' : 'none';\n",
              "\n",
              "        async function convertToInteractive(key) {\n",
              "          const element = document.querySelector('#df-a8d9a069-f80e-4112-9e75-4980b949b52f');\n",
              "          const dataTable =\n",
              "            await google.colab.kernel.invokeFunction('convertToInteractive',\n",
              "                                                     [key], {});\n",
              "          if (!dataTable) return;\n",
              "\n",
              "          const docLinkHtml = 'Like what you see? Visit the ' +\n",
              "            '<a target=\"_blank\" href=https://colab.research.google.com/notebooks/data_table.ipynb>data table notebook</a>'\n",
              "            + ' to learn more about interactive tables.';\n",
              "          element.innerHTML = '';\n",
              "          dataTable['output_type'] = 'display_data';\n",
              "          await google.colab.output.renderOutput(dataTable, element);\n",
              "          const docLink = document.createElement('div');\n",
              "          docLink.innerHTML = docLinkHtml;\n",
              "          element.appendChild(docLink);\n",
              "        }\n",
              "      </script>\n",
              "    </div>\n",
              "  </div>\n",
              "  "
            ]
          },
          "metadata": {},
          "execution_count": 60
        }
      ]
    },
    {
      "cell_type": "markdown",
      "source": [
        "###Handling categorical data - converting to numbers"
      ],
      "metadata": {
        "id": "kPSVkNGDdogS"
      }
    },
    {
      "cell_type": "code",
      "source": [
        "df.apply(pd.to_numeric, errors='ignore')\n",
        "df.fillna(0, inplace = True)\n",
        "df.head()"
      ],
      "metadata": {
        "colab": {
          "base_uri": "https://localhost:8080/",
          "height": 206
        },
        "id": "pmWwr8LPdrir",
        "outputId": "97fd93ea-8c54-4edc-c8aa-b68deb496572"
      },
      "execution_count": 61,
      "outputs": [
        {
          "output_type": "execute_result",
          "data": {
            "text/plain": [
              "   pclass  survived     sex      age  sibsp  parch  ticket      fare    cabin  \\\n",
              "0       1         1  female  29.0000      0      0   24160  211.3375       B5   \n",
              "1       1         1    male   0.9167      1      2  113781  151.5500  C22 C26   \n",
              "2       1         0  female   2.0000      1      2  113781  151.5500  C22 C26   \n",
              "3       1         0    male  30.0000      1      2  113781  151.5500  C22 C26   \n",
              "4       1         0  female  25.0000      1      2  113781  151.5500  C22 C26   \n",
              "\n",
              "  embarked boat                        home.dest  \n",
              "0        S    2                     St Louis, MO  \n",
              "1        S   11  Montreal, PQ / Chesterville, ON  \n",
              "2        S    0  Montreal, PQ / Chesterville, ON  \n",
              "3        S    0  Montreal, PQ / Chesterville, ON  \n",
              "4        S    0  Montreal, PQ / Chesterville, ON  "
            ],
            "text/html": [
              "\n",
              "  <div id=\"df-a490d73d-0e2c-494c-97a2-0a8ca471c24a\">\n",
              "    <div class=\"colab-df-container\">\n",
              "      <div>\n",
              "<style scoped>\n",
              "    .dataframe tbody tr th:only-of-type {\n",
              "        vertical-align: middle;\n",
              "    }\n",
              "\n",
              "    .dataframe tbody tr th {\n",
              "        vertical-align: top;\n",
              "    }\n",
              "\n",
              "    .dataframe thead th {\n",
              "        text-align: right;\n",
              "    }\n",
              "</style>\n",
              "<table border=\"1\" class=\"dataframe\">\n",
              "  <thead>\n",
              "    <tr style=\"text-align: right;\">\n",
              "      <th></th>\n",
              "      <th>pclass</th>\n",
              "      <th>survived</th>\n",
              "      <th>sex</th>\n",
              "      <th>age</th>\n",
              "      <th>sibsp</th>\n",
              "      <th>parch</th>\n",
              "      <th>ticket</th>\n",
              "      <th>fare</th>\n",
              "      <th>cabin</th>\n",
              "      <th>embarked</th>\n",
              "      <th>boat</th>\n",
              "      <th>home.dest</th>\n",
              "    </tr>\n",
              "  </thead>\n",
              "  <tbody>\n",
              "    <tr>\n",
              "      <th>0</th>\n",
              "      <td>1</td>\n",
              "      <td>1</td>\n",
              "      <td>female</td>\n",
              "      <td>29.0000</td>\n",
              "      <td>0</td>\n",
              "      <td>0</td>\n",
              "      <td>24160</td>\n",
              "      <td>211.3375</td>\n",
              "      <td>B5</td>\n",
              "      <td>S</td>\n",
              "      <td>2</td>\n",
              "      <td>St Louis, MO</td>\n",
              "    </tr>\n",
              "    <tr>\n",
              "      <th>1</th>\n",
              "      <td>1</td>\n",
              "      <td>1</td>\n",
              "      <td>male</td>\n",
              "      <td>0.9167</td>\n",
              "      <td>1</td>\n",
              "      <td>2</td>\n",
              "      <td>113781</td>\n",
              "      <td>151.5500</td>\n",
              "      <td>C22 C26</td>\n",
              "      <td>S</td>\n",
              "      <td>11</td>\n",
              "      <td>Montreal, PQ / Chesterville, ON</td>\n",
              "    </tr>\n",
              "    <tr>\n",
              "      <th>2</th>\n",
              "      <td>1</td>\n",
              "      <td>0</td>\n",
              "      <td>female</td>\n",
              "      <td>2.0000</td>\n",
              "      <td>1</td>\n",
              "      <td>2</td>\n",
              "      <td>113781</td>\n",
              "      <td>151.5500</td>\n",
              "      <td>C22 C26</td>\n",
              "      <td>S</td>\n",
              "      <td>0</td>\n",
              "      <td>Montreal, PQ / Chesterville, ON</td>\n",
              "    </tr>\n",
              "    <tr>\n",
              "      <th>3</th>\n",
              "      <td>1</td>\n",
              "      <td>0</td>\n",
              "      <td>male</td>\n",
              "      <td>30.0000</td>\n",
              "      <td>1</td>\n",
              "      <td>2</td>\n",
              "      <td>113781</td>\n",
              "      <td>151.5500</td>\n",
              "      <td>C22 C26</td>\n",
              "      <td>S</td>\n",
              "      <td>0</td>\n",
              "      <td>Montreal, PQ / Chesterville, ON</td>\n",
              "    </tr>\n",
              "    <tr>\n",
              "      <th>4</th>\n",
              "      <td>1</td>\n",
              "      <td>0</td>\n",
              "      <td>female</td>\n",
              "      <td>25.0000</td>\n",
              "      <td>1</td>\n",
              "      <td>2</td>\n",
              "      <td>113781</td>\n",
              "      <td>151.5500</td>\n",
              "      <td>C22 C26</td>\n",
              "      <td>S</td>\n",
              "      <td>0</td>\n",
              "      <td>Montreal, PQ / Chesterville, ON</td>\n",
              "    </tr>\n",
              "  </tbody>\n",
              "</table>\n",
              "</div>\n",
              "      <button class=\"colab-df-convert\" onclick=\"convertToInteractive('df-a490d73d-0e2c-494c-97a2-0a8ca471c24a')\"\n",
              "              title=\"Convert this dataframe to an interactive table.\"\n",
              "              style=\"display:none;\">\n",
              "        \n",
              "  <svg xmlns=\"http://www.w3.org/2000/svg\" height=\"24px\"viewBox=\"0 0 24 24\"\n",
              "       width=\"24px\">\n",
              "    <path d=\"M0 0h24v24H0V0z\" fill=\"none\"/>\n",
              "    <path d=\"M18.56 5.44l.94 2.06.94-2.06 2.06-.94-2.06-.94-.94-2.06-.94 2.06-2.06.94zm-11 1L8.5 8.5l.94-2.06 2.06-.94-2.06-.94L8.5 2.5l-.94 2.06-2.06.94zm10 10l.94 2.06.94-2.06 2.06-.94-2.06-.94-.94-2.06-.94 2.06-2.06.94z\"/><path d=\"M17.41 7.96l-1.37-1.37c-.4-.4-.92-.59-1.43-.59-.52 0-1.04.2-1.43.59L10.3 9.45l-7.72 7.72c-.78.78-.78 2.05 0 2.83L4 21.41c.39.39.9.59 1.41.59.51 0 1.02-.2 1.41-.59l7.78-7.78 2.81-2.81c.8-.78.8-2.07 0-2.86zM5.41 20L4 18.59l7.72-7.72 1.47 1.35L5.41 20z\"/>\n",
              "  </svg>\n",
              "      </button>\n",
              "      \n",
              "  <style>\n",
              "    .colab-df-container {\n",
              "      display:flex;\n",
              "      flex-wrap:wrap;\n",
              "      gap: 12px;\n",
              "    }\n",
              "\n",
              "    .colab-df-convert {\n",
              "      background-color: #E8F0FE;\n",
              "      border: none;\n",
              "      border-radius: 50%;\n",
              "      cursor: pointer;\n",
              "      display: none;\n",
              "      fill: #1967D2;\n",
              "      height: 32px;\n",
              "      padding: 0 0 0 0;\n",
              "      width: 32px;\n",
              "    }\n",
              "\n",
              "    .colab-df-convert:hover {\n",
              "      background-color: #E2EBFA;\n",
              "      box-shadow: 0px 1px 2px rgba(60, 64, 67, 0.3), 0px 1px 3px 1px rgba(60, 64, 67, 0.15);\n",
              "      fill: #174EA6;\n",
              "    }\n",
              "\n",
              "    [theme=dark] .colab-df-convert {\n",
              "      background-color: #3B4455;\n",
              "      fill: #D2E3FC;\n",
              "    }\n",
              "\n",
              "    [theme=dark] .colab-df-convert:hover {\n",
              "      background-color: #434B5C;\n",
              "      box-shadow: 0px 1px 3px 1px rgba(0, 0, 0, 0.15);\n",
              "      filter: drop-shadow(0px 1px 2px rgba(0, 0, 0, 0.3));\n",
              "      fill: #FFFFFF;\n",
              "    }\n",
              "  </style>\n",
              "\n",
              "      <script>\n",
              "        const buttonEl =\n",
              "          document.querySelector('#df-a490d73d-0e2c-494c-97a2-0a8ca471c24a button.colab-df-convert');\n",
              "        buttonEl.style.display =\n",
              "          google.colab.kernel.accessAllowed ? 'block' : 'none';\n",
              "\n",
              "        async function convertToInteractive(key) {\n",
              "          const element = document.querySelector('#df-a490d73d-0e2c-494c-97a2-0a8ca471c24a');\n",
              "          const dataTable =\n",
              "            await google.colab.kernel.invokeFunction('convertToInteractive',\n",
              "                                                     [key], {});\n",
              "          if (!dataTable) return;\n",
              "\n",
              "          const docLinkHtml = 'Like what you see? Visit the ' +\n",
              "            '<a target=\"_blank\" href=https://colab.research.google.com/notebooks/data_table.ipynb>data table notebook</a>'\n",
              "            + ' to learn more about interactive tables.';\n",
              "          element.innerHTML = '';\n",
              "          dataTable['output_type'] = 'display_data';\n",
              "          await google.colab.output.renderOutput(dataTable, element);\n",
              "          const docLink = document.createElement('div');\n",
              "          docLink.innerHTML = docLinkHtml;\n",
              "          element.appendChild(docLink);\n",
              "        }\n",
              "      </script>\n",
              "    </div>\n",
              "  </div>\n",
              "  "
            ]
          },
          "metadata": {},
          "execution_count": 61
        }
      ]
    },
    {
      "cell_type": "markdown",
      "source": [
        "####LabelEncoder"
      ],
      "metadata": {
        "id": "20DgpxO9fztq"
      }
    },
    {
      "cell_type": "code",
      "source": [
        "from sklearn.preprocessing import LabelEncoder\n",
        "le = LabelEncoder()"
      ],
      "metadata": {
        "id": "F2lwX6R7f1RB"
      },
      "execution_count": 62,
      "outputs": []
    },
    {
      "cell_type": "code",
      "source": [
        "df.info()"
      ],
      "metadata": {
        "colab": {
          "base_uri": "https://localhost:8080/"
        },
        "id": "G9I8dQA_gY93",
        "outputId": "c39f44ae-bf9b-4fbe-9076-f6fb6127669c"
      },
      "execution_count": 63,
      "outputs": [
        {
          "output_type": "stream",
          "name": "stdout",
          "text": [
            "<class 'pandas.core.frame.DataFrame'>\n",
            "RangeIndex: 1309 entries, 0 to 1308\n",
            "Data columns (total 12 columns):\n",
            " #   Column     Non-Null Count  Dtype  \n",
            "---  ------     --------------  -----  \n",
            " 0   pclass     1309 non-null   int64  \n",
            " 1   survived   1309 non-null   int64  \n",
            " 2   sex        1309 non-null   object \n",
            " 3   age        1309 non-null   float64\n",
            " 4   sibsp      1309 non-null   int64  \n",
            " 5   parch      1309 non-null   int64  \n",
            " 6   ticket     1309 non-null   object \n",
            " 7   fare       1309 non-null   float64\n",
            " 8   cabin      1309 non-null   object \n",
            " 9   embarked   1309 non-null   object \n",
            " 10  boat       1309 non-null   object \n",
            " 11  home.dest  1309 non-null   object \n",
            "dtypes: float64(2), int64(4), object(6)\n",
            "memory usage: 122.8+ KB\n"
          ]
        }
      ]
    },
    {
      "cell_type": "code",
      "source": [
        "import pickle\n",
        "\n",
        "columns = df.columns.values\n",
        "\n",
        "for column in columns:\n",
        "  if df[column].dtype != np.int64 and df[column].dtype != np.float64:\n",
        "    le = LabelEncoder()\n",
        "    df[column] = df[column].astype('string')\n",
        "    df[column] = le.fit_transform(df[column])\n",
        "\n",
        "    filehandler = open(f'/content/drive/MyDrive/Projekty Machine Learning/ML_KMeans/{df[column].name}.obj','wb')\n",
        "    pickle.dump(le, filehandler)\n",
        "    filehandler.close()\n",
        "\n",
        "    df[column] = le.fit_transform(df[column])"
      ],
      "metadata": {
        "id": "OV8MQ8eplqv8"
      },
      "execution_count": 64,
      "outputs": []
    },
    {
      "cell_type": "code",
      "source": [
        "df.info()"
      ],
      "metadata": {
        "colab": {
          "base_uri": "https://localhost:8080/"
        },
        "id": "R9UYE-jUh7rt",
        "outputId": "551f3644-cee2-4f8e-8dbc-2f6e8492e24c"
      },
      "execution_count": 65,
      "outputs": [
        {
          "output_type": "stream",
          "name": "stdout",
          "text": [
            "<class 'pandas.core.frame.DataFrame'>\n",
            "RangeIndex: 1309 entries, 0 to 1308\n",
            "Data columns (total 12 columns):\n",
            " #   Column     Non-Null Count  Dtype  \n",
            "---  ------     --------------  -----  \n",
            " 0   pclass     1309 non-null   int64  \n",
            " 1   survived   1309 non-null   int64  \n",
            " 2   sex        1309 non-null   int64  \n",
            " 3   age        1309 non-null   float64\n",
            " 4   sibsp      1309 non-null   int64  \n",
            " 5   parch      1309 non-null   int64  \n",
            " 6   ticket     1309 non-null   int64  \n",
            " 7   fare       1309 non-null   float64\n",
            " 8   cabin      1309 non-null   int64  \n",
            " 9   embarked   1309 non-null   int64  \n",
            " 10  boat       1309 non-null   int64  \n",
            " 11  home.dest  1309 non-null   int64  \n",
            "dtypes: float64(2), int64(10)\n",
            "memory usage: 122.8 KB\n"
          ]
        }
      ]
    },
    {
      "cell_type": "code",
      "source": [
        "df.head()"
      ],
      "metadata": {
        "colab": {
          "base_uri": "https://localhost:8080/",
          "height": 206
        },
        "id": "qdLkNDgkiJIl",
        "outputId": "5c1438fa-e6f1-4991-c420-9ab1ae748ab8"
      },
      "execution_count": 66,
      "outputs": [
        {
          "output_type": "execute_result",
          "data": {
            "text/plain": [
              "   pclass  survived  sex      age  sibsp  parch  ticket      fare  cabin  \\\n",
              "0       1         1    0  29.0000      0      0     187  211.3375     44   \n",
              "1       1         1    1   0.9167      1      2      49  151.5500     80   \n",
              "2       1         0    0   2.0000      1      2      49  151.5500     80   \n",
              "3       1         0    1  30.0000      1      2      49  151.5500     80   \n",
              "4       1         0    0  25.0000      1      2      49  151.5500     80   \n",
              "\n",
              "   embarked  boat  home.dest  \n",
              "0         3    12        309  \n",
              "1         3     3        231  \n",
              "2         3     0        231  \n",
              "3         3     0        231  \n",
              "4         3     0        231  "
            ],
            "text/html": [
              "\n",
              "  <div id=\"df-c13cc4a0-9acc-40a5-84c1-d394846b26fc\">\n",
              "    <div class=\"colab-df-container\">\n",
              "      <div>\n",
              "<style scoped>\n",
              "    .dataframe tbody tr th:only-of-type {\n",
              "        vertical-align: middle;\n",
              "    }\n",
              "\n",
              "    .dataframe tbody tr th {\n",
              "        vertical-align: top;\n",
              "    }\n",
              "\n",
              "    .dataframe thead th {\n",
              "        text-align: right;\n",
              "    }\n",
              "</style>\n",
              "<table border=\"1\" class=\"dataframe\">\n",
              "  <thead>\n",
              "    <tr style=\"text-align: right;\">\n",
              "      <th></th>\n",
              "      <th>pclass</th>\n",
              "      <th>survived</th>\n",
              "      <th>sex</th>\n",
              "      <th>age</th>\n",
              "      <th>sibsp</th>\n",
              "      <th>parch</th>\n",
              "      <th>ticket</th>\n",
              "      <th>fare</th>\n",
              "      <th>cabin</th>\n",
              "      <th>embarked</th>\n",
              "      <th>boat</th>\n",
              "      <th>home.dest</th>\n",
              "    </tr>\n",
              "  </thead>\n",
              "  <tbody>\n",
              "    <tr>\n",
              "      <th>0</th>\n",
              "      <td>1</td>\n",
              "      <td>1</td>\n",
              "      <td>0</td>\n",
              "      <td>29.0000</td>\n",
              "      <td>0</td>\n",
              "      <td>0</td>\n",
              "      <td>187</td>\n",
              "      <td>211.3375</td>\n",
              "      <td>44</td>\n",
              "      <td>3</td>\n",
              "      <td>12</td>\n",
              "      <td>309</td>\n",
              "    </tr>\n",
              "    <tr>\n",
              "      <th>1</th>\n",
              "      <td>1</td>\n",
              "      <td>1</td>\n",
              "      <td>1</td>\n",
              "      <td>0.9167</td>\n",
              "      <td>1</td>\n",
              "      <td>2</td>\n",
              "      <td>49</td>\n",
              "      <td>151.5500</td>\n",
              "      <td>80</td>\n",
              "      <td>3</td>\n",
              "      <td>3</td>\n",
              "      <td>231</td>\n",
              "    </tr>\n",
              "    <tr>\n",
              "      <th>2</th>\n",
              "      <td>1</td>\n",
              "      <td>0</td>\n",
              "      <td>0</td>\n",
              "      <td>2.0000</td>\n",
              "      <td>1</td>\n",
              "      <td>2</td>\n",
              "      <td>49</td>\n",
              "      <td>151.5500</td>\n",
              "      <td>80</td>\n",
              "      <td>3</td>\n",
              "      <td>0</td>\n",
              "      <td>231</td>\n",
              "    </tr>\n",
              "    <tr>\n",
              "      <th>3</th>\n",
              "      <td>1</td>\n",
              "      <td>0</td>\n",
              "      <td>1</td>\n",
              "      <td>30.0000</td>\n",
              "      <td>1</td>\n",
              "      <td>2</td>\n",
              "      <td>49</td>\n",
              "      <td>151.5500</td>\n",
              "      <td>80</td>\n",
              "      <td>3</td>\n",
              "      <td>0</td>\n",
              "      <td>231</td>\n",
              "    </tr>\n",
              "    <tr>\n",
              "      <th>4</th>\n",
              "      <td>1</td>\n",
              "      <td>0</td>\n",
              "      <td>0</td>\n",
              "      <td>25.0000</td>\n",
              "      <td>1</td>\n",
              "      <td>2</td>\n",
              "      <td>49</td>\n",
              "      <td>151.5500</td>\n",
              "      <td>80</td>\n",
              "      <td>3</td>\n",
              "      <td>0</td>\n",
              "      <td>231</td>\n",
              "    </tr>\n",
              "  </tbody>\n",
              "</table>\n",
              "</div>\n",
              "      <button class=\"colab-df-convert\" onclick=\"convertToInteractive('df-c13cc4a0-9acc-40a5-84c1-d394846b26fc')\"\n",
              "              title=\"Convert this dataframe to an interactive table.\"\n",
              "              style=\"display:none;\">\n",
              "        \n",
              "  <svg xmlns=\"http://www.w3.org/2000/svg\" height=\"24px\"viewBox=\"0 0 24 24\"\n",
              "       width=\"24px\">\n",
              "    <path d=\"M0 0h24v24H0V0z\" fill=\"none\"/>\n",
              "    <path d=\"M18.56 5.44l.94 2.06.94-2.06 2.06-.94-2.06-.94-.94-2.06-.94 2.06-2.06.94zm-11 1L8.5 8.5l.94-2.06 2.06-.94-2.06-.94L8.5 2.5l-.94 2.06-2.06.94zm10 10l.94 2.06.94-2.06 2.06-.94-2.06-.94-.94-2.06-.94 2.06-2.06.94z\"/><path d=\"M17.41 7.96l-1.37-1.37c-.4-.4-.92-.59-1.43-.59-.52 0-1.04.2-1.43.59L10.3 9.45l-7.72 7.72c-.78.78-.78 2.05 0 2.83L4 21.41c.39.39.9.59 1.41.59.51 0 1.02-.2 1.41-.59l7.78-7.78 2.81-2.81c.8-.78.8-2.07 0-2.86zM5.41 20L4 18.59l7.72-7.72 1.47 1.35L5.41 20z\"/>\n",
              "  </svg>\n",
              "      </button>\n",
              "      \n",
              "  <style>\n",
              "    .colab-df-container {\n",
              "      display:flex;\n",
              "      flex-wrap:wrap;\n",
              "      gap: 12px;\n",
              "    }\n",
              "\n",
              "    .colab-df-convert {\n",
              "      background-color: #E8F0FE;\n",
              "      border: none;\n",
              "      border-radius: 50%;\n",
              "      cursor: pointer;\n",
              "      display: none;\n",
              "      fill: #1967D2;\n",
              "      height: 32px;\n",
              "      padding: 0 0 0 0;\n",
              "      width: 32px;\n",
              "    }\n",
              "\n",
              "    .colab-df-convert:hover {\n",
              "      background-color: #E2EBFA;\n",
              "      box-shadow: 0px 1px 2px rgba(60, 64, 67, 0.3), 0px 1px 3px 1px rgba(60, 64, 67, 0.15);\n",
              "      fill: #174EA6;\n",
              "    }\n",
              "\n",
              "    [theme=dark] .colab-df-convert {\n",
              "      background-color: #3B4455;\n",
              "      fill: #D2E3FC;\n",
              "    }\n",
              "\n",
              "    [theme=dark] .colab-df-convert:hover {\n",
              "      background-color: #434B5C;\n",
              "      box-shadow: 0px 1px 3px 1px rgba(0, 0, 0, 0.15);\n",
              "      filter: drop-shadow(0px 1px 2px rgba(0, 0, 0, 0.3));\n",
              "      fill: #FFFFFF;\n",
              "    }\n",
              "  </style>\n",
              "\n",
              "      <script>\n",
              "        const buttonEl =\n",
              "          document.querySelector('#df-c13cc4a0-9acc-40a5-84c1-d394846b26fc button.colab-df-convert');\n",
              "        buttonEl.style.display =\n",
              "          google.colab.kernel.accessAllowed ? 'block' : 'none';\n",
              "\n",
              "        async function convertToInteractive(key) {\n",
              "          const element = document.querySelector('#df-c13cc4a0-9acc-40a5-84c1-d394846b26fc');\n",
              "          const dataTable =\n",
              "            await google.colab.kernel.invokeFunction('convertToInteractive',\n",
              "                                                     [key], {});\n",
              "          if (!dataTable) return;\n",
              "\n",
              "          const docLinkHtml = 'Like what you see? Visit the ' +\n",
              "            '<a target=\"_blank\" href=https://colab.research.google.com/notebooks/data_table.ipynb>data table notebook</a>'\n",
              "            + ' to learn more about interactive tables.';\n",
              "          element.innerHTML = '';\n",
              "          dataTable['output_type'] = 'display_data';\n",
              "          await google.colab.output.renderOutput(dataTable, element);\n",
              "          const docLink = document.createElement('div');\n",
              "          docLink.innerHTML = docLinkHtml;\n",
              "          element.appendChild(docLink);\n",
              "        }\n",
              "      </script>\n",
              "    </div>\n",
              "  </div>\n",
              "  "
            ]
          },
          "metadata": {},
          "execution_count": 66
        }
      ]
    },
    {
      "cell_type": "markdown",
      "source": [
        "####Reversal of mapping"
      ],
      "metadata": {
        "id": "hi9_SQpClWp8"
      }
    },
    {
      "cell_type": "code",
      "source": [
        "file = open('/content/drive/MyDrive/Projekty Machine Learning/ML_KMeans/sex.obj','rb')\n",
        "le_loaded = pickle.load(file)\n",
        "file.close()\n",
        "\n",
        "# df['sex'] = le_loaded.inverse_transform(df['sex'])\n",
        "# df.head()"
      ],
      "metadata": {
        "id": "eLNtcDAglaoS"
      },
      "execution_count": 67,
      "outputs": []
    },
    {
      "cell_type": "markdown",
      "source": [
        "###Feeding K-means algorithm with data"
      ],
      "metadata": {
        "id": "rs4HGmnWPW8I"
      }
    },
    {
      "cell_type": "markdown",
      "source": [
        "####Processing and **scaling** the data"
      ],
      "metadata": {
        "id": "P8bwghpuUB4p"
      }
    },
    {
      "cell_type": "code",
      "source": [
        "X = np.array(df.drop(['survived'], axis = 1).astype(float))\n",
        "X = preprocessing.scale(X)\n",
        "y = np.array(df['survived'])"
      ],
      "metadata": {
        "id": "X5nymY5oPWE4"
      },
      "execution_count": 68,
      "outputs": []
    },
    {
      "cell_type": "code",
      "source": [
        "X[0]"
      ],
      "metadata": {
        "colab": {
          "base_uri": "https://localhost:8080/"
        },
        "id": "m4_3WztmTe-M",
        "outputId": "0a3c2d35-326f-4fb0-8eba-ee970a45b8a7"
      },
      "execution_count": 69,
      "outputs": [
        {
          "output_type": "execute_result",
          "data": {
            "text/plain": [
              "array([-1.54609786, -1.34499549,  0.29131302, -0.47908676, -0.4449995 ,\n",
              "       -0.9951879 ,  3.44242751,  0.45937395,  0.62364835,  0.87831713,\n",
              "        1.58086456])"
            ]
          },
          "metadata": {},
          "execution_count": 69
        }
      ]
    },
    {
      "cell_type": "code",
      "source": [
        "clf = KMeans(n_clusters = 2)\n",
        "clf.fit(X)"
      ],
      "metadata": {
        "colab": {
          "base_uri": "https://localhost:8080/"
        },
        "id": "CQMAPOGqPxj6",
        "outputId": "d9f12b7a-c4e2-45f2-a36c-1f1b051d7d1e"
      },
      "execution_count": 70,
      "outputs": [
        {
          "output_type": "execute_result",
          "data": {
            "text/plain": [
              "KMeans(n_clusters=2)"
            ]
          },
          "metadata": {},
          "execution_count": 70
        }
      ]
    },
    {
      "cell_type": "code",
      "source": [
        "correct = 0\n",
        "for i in range(len(X)):\n",
        "  # to_predict = np.array(X[i].astype(float))\n",
        "  to_predict = X[i]\n",
        "  to_predict = to_predict.reshape(-1, len(to_predict))\n",
        "  prediction = clf.predict(to_predict)\n",
        "  if prediction[0] == y[i]:\n",
        "    correct += 1\n",
        "\n",
        "print(correct/len(X))"
      ],
      "metadata": {
        "colab": {
          "base_uri": "https://localhost:8080/"
        },
        "id": "RRY6TkeiQDG4",
        "outputId": "54f193bf-321f-49b3-8162-502760ae9456"
      },
      "execution_count": 71,
      "outputs": [
        {
          "output_type": "stream",
          "name": "stdout",
          "text": [
            "0.29411764705882354\n"
          ]
        }
      ]
    },
    {
      "cell_type": "code",
      "source": [
        "np.array(X[i].astype(float)) == X[i]"
      ],
      "metadata": {
        "colab": {
          "base_uri": "https://localhost:8080/"
        },
        "id": "6j7eBMpTSLs5",
        "outputId": "7065d634-f034-47e9-c202-e53c659914e9"
      },
      "execution_count": 72,
      "outputs": [
        {
          "output_type": "execute_result",
          "data": {
            "text/plain": [
              "array([ True,  True,  True,  True,  True,  True,  True,  True,  True,\n",
              "        True,  True])"
            ]
          },
          "metadata": {},
          "execution_count": 72
        }
      ]
    },
    {
      "cell_type": "markdown",
      "source": [
        "The result can be different, for example, once 0.7 or 0.3. It does not matter, because the cluster \"0\" can be associated with the value \"0\" or \"1\". There are only two clusters."
      ],
      "metadata": {
        "id": "PRq27xQKSvU5"
      }
    },
    {
      "cell_type": "markdown",
      "source": [
        "####Dropping columns to improve the result\n"
      ],
      "metadata": {
        "id": "snhHPzG1T4nr"
      }
    },
    {
      "cell_type": "code",
      "source": [
        "copy = df.copy()"
      ],
      "metadata": {
        "id": "EzhnXzY4VmUR"
      },
      "execution_count": 75,
      "outputs": []
    },
    {
      "cell_type": "code",
      "source": [
        "X = np.array(copy.drop(['ticket', 'embarked', 'survived'], axis = 1).astype(float))\n",
        "X = preprocessing.scale(X)\n",
        "y = np.array(copy['survived'])\n",
        "\n",
        "clf = KMeans(n_clusters = 2)\n",
        "clf.fit(X)\n",
        "\n",
        "correct = 0\n",
        "for i in range(len(X)):\n",
        "  # to_predict = np.array(X[i].astype(float))\n",
        "  to_predict = X[i]\n",
        "  to_predict = to_predict.reshape(-1, len(to_predict))\n",
        "  prediction = clf.predict(to_predict)\n",
        "  if prediction[0] == y[i]:\n",
        "    correct += 1\n",
        "\n",
        "print(correct/len(X))"
      ],
      "metadata": {
        "colab": {
          "base_uri": "https://localhost:8080/"
        },
        "id": "SHMr7JsyT_Bf",
        "outputId": "05dcbaaa-2538-4a7c-a1da-781ab2e1ce20"
      },
      "execution_count": 76,
      "outputs": [
        {
          "output_type": "stream",
          "name": "stdout",
          "text": [
            "0.7135217723453018\n"
          ]
        }
      ]
    },
    {
      "cell_type": "markdown",
      "source": [
        " The algorithm shows with 70% of accuracy which passenger would survive."
      ],
      "metadata": {
        "id": "eMfDAA6eWT1L"
      }
    },
    {
      "cell_type": "markdown",
      "source": [
        "##Custom K-means algorithm"
      ],
      "metadata": {
        "id": "czP-Aqg5XRkW"
      }
    },
    {
      "cell_type": "code",
      "source": [
        "Z = np.array([[1, 2],\n",
        "              [1.5, 1.8],\n",
        "              [5, 8],\n",
        "              [8, 8],\n",
        "              [1, 0.6],\n",
        "              [9, 11],\n",
        "              [1, 3],\n",
        "              [8,9],\n",
        "              [0,2],\n",
        "              [3,4],\n",
        "              [1,9]])\n",
        "\n",
        "plt.scatter(Z[:,0], Z[:,1], marker = 'x', color = color, s=100, linewidth = 5) #All rows from first col, all rows from 2nd col\n",
        "plt.show()\n",
        "\n",
        "colors = ['g', 'r', 'c', 'b', 'k', 'o']"
      ],
      "metadata": {
        "colab": {
          "base_uri": "https://localhost:8080/",
          "height": 265
        },
        "id": "UymCWqQdXTWH",
        "outputId": "77d4afe7-4156-42a4-c258-362e245f94b2"
      },
      "execution_count": 133,
      "outputs": [
        {
          "output_type": "display_data",
          "data": {
            "text/plain": [
              "<Figure size 432x288 with 1 Axes>"
            ],
            "image/png": "[encoded data removed]"
          },
          "metadata": {}
        }
      ]
    },
    {
      "cell_type": "code",
      "source": [
        "class K_means:\n",
        "  def __init__(self, k = 2, tol = 0.001, max_iter = 300):\n",
        "    self.k = k\n",
        "    self.tol = tol\n",
        "    self.max_iter = max_iter\n",
        "\n",
        "  def fit(self, data):\n",
        "    self.centroids = {}\n",
        "\n",
        "    for i in range(self.k):\n",
        "      self.centroids[i] = data[i]\n",
        "\n",
        "    for i in range(self.max_iter):\n",
        "      self.classifications = {}\n",
        "\n",
        "      for i in range(self.k):\n",
        "        self.classifications[i] = []\n",
        "\n",
        "      for featureset in data:\n",
        "        distances = [np.linalg.norm(featureset - self.centroids[centroid]) for centroid in self.centroids]\n",
        "        classification = distances.index(min(distances))\n",
        "        self.classifications[classification].append(featureset)\n",
        "\n",
        "      prev_centroids = dict(self.centroids) #how much they changed\n",
        "\n",
        "      for classification in self.classifications:\n",
        "        # pass\n",
        "        self.centroids[classification] = np.average(self.classifications[classification], axis = 0)\n",
        "      \n",
        "      optimized = True\n",
        "      for c in self.centroids:\n",
        "        original_centroid = prev_centroids[c]\n",
        "        current_centroid = self.centroids[c]\n",
        "        if np.sum((current_centroid - original_centroid)/original_centroid*100.0) > self.tol:\n",
        "          optimized = False\n",
        "\n",
        "      if optimized:\n",
        "        break\n",
        "\n",
        "\n",
        "  def predict(self, data):\n",
        "    distances = [np.linalg.norm(data - self.centroids[centroid]) for centroid in self.centroids]\n",
        "    classification = distances.index(min(distances))\n",
        "    return classification"
      ],
      "metadata": {
        "id": "iv9PaPuqYVkT"
      },
      "execution_count": 100,
      "outputs": []
    },
    {
      "cell_type": "code",
      "source": [
        "clf = K_means()\n",
        "clf.fit(Z)"
      ],
      "metadata": {
        "id": "zAkPEuLocze3"
      },
      "execution_count": 101,
      "outputs": []
    },
    {
      "cell_type": "code",
      "source": [
        "for centroid in clf.centroids:\n",
        "  plt.scatter(clf.centroids[centroid][0], clf.centroids[centroid][1], marker = 'o', color = 'k', s=100, linewidths = 5)\n",
        "\n",
        "for classification in clf.classifications:\n",
        "  color = colors[classification]\n",
        "  for featureset in clf.classifications[classification]:\n",
        "    plt.scatter(featureset[0], featureset[1], marker = 'x', color = color, s=100, linewidth = 5)\n",
        "\n",
        "plt.show()"
      ],
      "metadata": {
        "colab": {
          "base_uri": "https://localhost:8080/",
          "height": 265
        },
        "id": "W3iRgClxc1To",
        "outputId": "5bd101f4-249a-4b1b-bacb-66f91cec6933"
      },
      "execution_count": 102,
      "outputs": [
        {
          "output_type": "display_data",
          "data": {
            "text/plain": [
              "<Figure size 432x288 with 1 Axes>"
            ],
            "image/png": "[encoded data removed]"
          },
          "metadata": {}
        }
      ]
    },
    {
      "cell_type": "markdown",
      "source": [
        "####Comparison with scikit K-means"
      ],
      "metadata": {
        "id": "DG6Aq3WklBTr"
      }
    },
    {
      "cell_type": "code",
      "source": [
        "kmeans = KMeans(n_clusters=2)\n",
        "kmeans.fit(Z)\n",
        "y_kmeans = np.array(kmeans.predict(Z))\n",
        "y_kmeans"
      ],
      "metadata": {
        "colab": {
          "base_uri": "https://localhost:8080/"
        },
        "id": "CR2pzKCaiF7j",
        "outputId": "69cc000f-1c70-4221-d181-6ddadc704685"
      },
      "execution_count": 123,
      "outputs": [
        {
          "output_type": "execute_result",
          "data": {
            "text/plain": [
              "array([0, 0, 1, 1, 0, 1, 0, 1, 0, 0, 1], dtype=int32)"
            ]
          },
          "metadata": {},
          "execution_count": 123
        }
      ]
    },
    {
      "cell_type": "code",
      "source": [
        "for point in range(len(Z)):\n",
        "  result = y_kmeans[point]\n",
        "  plt.scatter(Z[point][0], Z[point][1], color = colors[result], marker = 'x', s=100, linewidth = 5)\n",
        "plt.scatter(kmeans.cluster_centers_[:, 0], kmeans.cluster_centers_[:, 1], marker = 'o', color = 'k', s=100, linewidths = 5)\n",
        "\n",
        "plt.show()"
      ],
      "metadata": {
        "colab": {
          "base_uri": "https://localhost:8080/",
          "height": 265
        },
        "id": "YZgtjDZSjF-9",
        "outputId": "2db217a0-d952-4506-802b-173dfb1296ea"
      },
      "execution_count": 132,
      "outputs": [
        {
          "output_type": "display_data",
          "data": {
            "text/plain": [
              "<Figure size 432x288 with 1 Axes>"
            ],
            "image/png": "[encoded data removed]"
          },
          "metadata": {}
        }
      ]
    },
    {
      "cell_type": "markdown",
      "source": [
        "####Predictions"
      ],
      "metadata": {
        "id": "hj8qWT2elFeF"
      }
    },
    {
      "cell_type": "code",
      "source": [
        "unknowns = np.array([[4, 1],\n",
        "                     [5,4],\n",
        "                     [6,6],\n",
        "                     [8,4],\n",
        "                     [2,8]])\n",
        "\n",
        "for centroid in clf.centroids:\n",
        "  plt.scatter(clf.centroids[centroid][0], clf.centroids[centroid][1], marker = 'o', color = 'k', s=100, linewidths = 5)\n",
        "\n",
        "for classification in clf.classifications:\n",
        "  color = colors[classification]\n",
        "  for featureset in clf.classifications[classification]:\n",
        "    plt.scatter(featureset[0], featureset[1], marker = 'x', color = color, s=100, linewidth = 5)\n",
        "\n",
        "for unknown in unknowns:\n",
        "  classification = clf.predict(unknown)\n",
        "  plt.scatter(unknown[0], unknown[1], marker = '*', color = colors[classification], s=150, linewidths = 3)\n",
        "\n",
        "plt.show()"
      ],
      "metadata": {
        "colab": {
          "base_uri": "https://localhost:8080/",
          "height": 265
        },
        "id": "hIsL0C7Kd-sI",
        "outputId": "80559873-9ea4-4424-fc1b-8ebc0e29de24"
      },
      "execution_count": 136,
      "outputs": [
        {
          "output_type": "display_data",
          "data": {
            "text/plain": [
              "<Figure size 432x288 with 1 Axes>"
            ],
            "image/png": "[encoded data removed]"
          },
          "metadata": {}
        }
      ]
    },
    {
      "cell_type": "code",
      "source": [
        "clf.classifications"
      ],
      "metadata": {
        "colab": {
          "base_uri": "https://localhost:8080/"
        },
        "id": "dY1b7q-ZgjYs",
        "outputId": "6fa70cb1-436b-4693-e581-0e9cbeb8f2ec"
      },
      "execution_count": 107,
      "outputs": [
        {
          "output_type": "execute_result",
          "data": {
            "text/plain": [
              "{0: [array([1., 2.]),\n",
              "  array([1.5, 1.8]),\n",
              "  array([1. , 0.6]),\n",
              "  array([1., 3.]),\n",
              "  array([0., 2.]),\n",
              "  array([3., 4.]),\n",
              "  array([1., 9.])],\n",
              " 1: [array([5., 8.]), array([8., 8.]), array([ 9., 11.]), array([8., 9.])]}"
            ]
          },
          "metadata": {},
          "execution_count": 107
        }
      ]
    },
    {
      "cell_type": "code",
      "source": [
        "predictions = kmeans.predict(unknowns)\n",
        "\n",
        "for point in range(len(Z)):\n",
        "  result = y_kmeans[point]\n",
        "  plt.scatter(Z[point][0], Z[point][1], color = colors[result], marker = 'x', s=100, linewidth = 5)\n",
        "\n",
        "for point in range(len(unknowns)):\n",
        "  prediction = predictions[point]\n",
        "  plt.scatter(unknowns[point][0], unknowns[point][1], color = colors[prediction], marker = '*', s=150, linewidth = 3)\n",
        "\n",
        "plt.scatter(kmeans.cluster_centers_[:, 0], kmeans.cluster_centers_[:, 1], marker = 'o', color = 'k', s=100, linewidths = 5)\n",
        "\n",
        "plt.show()"
      ],
      "metadata": {
        "colab": {
          "base_uri": "https://localhost:8080/",
          "height": 265
        },
        "id": "OXcK50n4mYWb",
        "outputId": "7f4967a4-3702-43b5-de1f-212505e7fabb"
      },
      "execution_count": 152,
      "outputs": [
        {
          "output_type": "display_data",
          "data": {
            "text/plain": [
              "<Figure size 432x288 with 1 Axes>"
            ],
            "image/png": "[encoded data removed]"
          },
          "metadata": {}
        }
      ]
    },
    {
      "cell_type": "markdown",
      "source": [
        "####Decision boundaries"
      ],
      "metadata": {
        "id": "qWGOaawDmK8k"
      }
    },
    {
      "cell_type": "code",
      "source": [
        "from sklearn.cluster import KMeans\n",
        "from mlxtend.plotting import plot_decision_regions\n",
        "\n",
        "kmeans = KMeans(n_clusters=2)\n",
        "kmeans.fit(Z)\n",
        "y_kmeans = kmeans.predict(Z)\n",
        "\n",
        "plt.figure(figsize=(10, 5))\n",
        "plt.title('Decision boundaries')\n",
        "plot_decision_regions(Z, y_kmeans, clf=kmeans, legend=1)\n",
        "plt.scatter(kmeans.cluster_centers_[:, 0], kmeans.cluster_centers_[:, 1], marker = 'o', color = 'k', s=100, linewidths = 5)\n",
        "plt.show()"
      ],
      "metadata": {
        "colab": {
          "base_uri": "https://localhost:8080/",
          "height": 372
        },
        "id": "lxAhc_Rmf5M0",
        "outputId": "a729df76-6057-4bb2-c811-2da8d045ea99"
      },
      "execution_count": 141,
      "outputs": [
        {
          "output_type": "stream",
          "name": "stderr",
          "text": [
            "/usr/local/lib/python3.7/dist-packages/mlxtend/plotting/decision_regions.py:244: MatplotlibDeprecationWarning: Passing unsupported keyword arguments to axis() will raise a TypeError in 3.3.\n",
            "  ax.axis(xmin=xx.min(), xmax=xx.max(), y_min=yy.min(), y_max=yy.max())\n"
          ]
        },
        {
          "output_type": "display_data",
          "data": {
            "text/plain": [
              "<Figure size 720x360 with 1 Axes>"
            ],
            "image/png": "[encoded data removed]"
          },
          "metadata": {}
        }
      ]
    }
  ]
}