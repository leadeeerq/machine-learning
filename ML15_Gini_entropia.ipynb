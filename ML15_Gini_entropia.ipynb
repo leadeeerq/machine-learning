{
  "nbformat": 4,
  "nbformat_minor": 0,
  "metadata": {
    "colab": {
      "provenance": [],
      "authorship_tag": "ABX9TyPJAhRUBEDXvCc7nTfUv9h6",
      "include_colab_link": true
    },
    "kernelspec": {
      "name": "python3",
      "display_name": "Python 3"
    },
    "language_info": {
      "name": "python"
    }
  },
  "cells": [
    {
      "cell_type": "markdown",
      "metadata": {
        "id": "view-in-github",
        "colab_type": "text"
      },
      "source": [
        "<a href=\"https://colab.research.google.com/github/leadeeerq/machine-learning/blob/main/ML15_Gini_entropia.ipynb\" target=\"_parent\"><img src=\"https://colab.research.google.com/assets/colab-badge.svg\" alt=\"Open In Colab\"/></a>"
      ]
    },
    {
      "cell_type": "code",
      "execution_count": null,
      "metadata": {
        "id": "_q5BYd7vzZ9T"
      },
      "outputs": [],
      "source": [
        "import numpy as np\n",
        "import pandas as pd\n",
        "import matplotlib.pyplot as plt\n",
        "import seaborn as sns\n",
        "from IPython.display import Image\n",
        "from scipy.stats import entropy\n",
        "\n",
        "sns.set(font_scale=1.3)"
      ]
    },
    {
      "cell_type": "code",
      "source": [
        "p = np.arange(0.01, 1.0, 0.1)\n",
        "q = 1 - p"
      ],
      "metadata": {
        "id": "mP8q-1BxzjAV"
      },
      "execution_count": null,
      "outputs": []
    },
    {
      "cell_type": "code",
      "source": [
        "p"
      ],
      "metadata": {
        "colab": {
          "base_uri": "https://localhost:8080/"
        },
        "id": "JmKf6R_6zpih",
        "outputId": "d12d33bc-f042-40d1-85b3-e674fb089f76"
      },
      "execution_count": null,
      "outputs": [
        {
          "output_type": "execute_result",
          "data": {
            "text/plain": [
              "array([0.01, 0.11, 0.21, 0.31, 0.41, 0.51, 0.61, 0.71, 0.81, 0.91])"
            ]
          },
          "metadata": {},
          "execution_count": 3
        }
      ]
    },
    {
      "cell_type": "code",
      "source": [
        "q"
      ],
      "metadata": {
        "colab": {
          "base_uri": "https://localhost:8080/"
        },
        "id": "lSdC10zWzqtw",
        "outputId": "3d0f7d1c-7bc4-4d82-fac7-f4f56ba21814"
      },
      "execution_count": null,
      "outputs": [
        {
          "output_type": "execute_result",
          "data": {
            "text/plain": [
              "array([0.99, 0.89, 0.79, 0.69, 0.59, 0.49, 0.39, 0.29, 0.19, 0.09])"
            ]
          },
          "metadata": {},
          "execution_count": 4
        }
      ]
    },
    {
      "cell_type": "code",
      "source": [
        "pq = np.c_[p, q]\n",
        "pq"
      ],
      "metadata": {
        "colab": {
          "base_uri": "https://localhost:8080/"
        },
        "id": "v2vkZS72zrnS",
        "outputId": "a6407087-107a-4176-b128-fff89d416de4"
      },
      "execution_count": null,
      "outputs": [
        {
          "output_type": "execute_result",
          "data": {
            "text/plain": [
              "array([[0.01, 0.99],\n",
              "       [0.11, 0.89],\n",
              "       [0.21, 0.79],\n",
              "       [0.31, 0.69],\n",
              "       [0.41, 0.59],\n",
              "       [0.51, 0.49],\n",
              "       [0.61, 0.39],\n",
              "       [0.71, 0.29],\n",
              "       [0.81, 0.19],\n",
              "       [0.91, 0.09]])"
            ]
          },
          "metadata": {},
          "execution_count": 5
        }
      ]
    },
    {
      "cell_type": "code",
      "source": [
        "entropy(pq[0])"
      ],
      "metadata": {
        "colab": {
          "base_uri": "https://localhost:8080/"
        },
        "id": "fUeoH3OM0IHC",
        "outputId": "ae60ded5-f16f-4462-c015-c476ce1629dc"
      },
      "execution_count": null,
      "outputs": [
        {
          "output_type": "execute_result",
          "data": {
            "text/plain": [
              "0.056001534354847345"
            ]
          },
          "metadata": {},
          "execution_count": 12
        }
      ]
    },
    {
      "cell_type": "code",
      "source": [
        "entropies = [entropy(pair, base=2) for pair in pq]\n",
        "entropies[:10]"
      ],
      "metadata": {
        "colab": {
          "base_uri": "https://localhost:8080/"
        },
        "id": "TahXVZEczw2_",
        "outputId": "34cf1934-0e5b-4095-a580-c3f43c0eba65"
      },
      "execution_count": null,
      "outputs": [
        {
          "output_type": "execute_result",
          "data": {
            "text/plain": [
              "[0.08079313589591118,\n",
              " 0.499915958164528,\n",
              " 0.7414827399312738,\n",
              " 0.8931734583778568,\n",
              " 0.9765004687578241,\n",
              " 0.99971144175281,\n",
              " 0.9647995485050871,\n",
              " 0.8687212463394045,\n",
              " 0.7014714598838973,\n",
              " 0.43646981706410287]"
            ]
          },
          "metadata": {},
          "execution_count": 20
        }
      ]
    },
    {
      "cell_type": "code",
      "source": [
        "plt.plot(p, entropies)"
      ],
      "metadata": {
        "colab": {
          "base_uri": "https://localhost:8080/",
          "height": 289
        },
        "id": "-gsujZ1L0P1G",
        "outputId": "4c58cd04-73e7-4d41-d63f-899e1690c5e8"
      },
      "execution_count": null,
      "outputs": [
        {
          "output_type": "execute_result",
          "data": {
            "text/plain": [
              "[<matplotlib.lines.Line2D at 0x7ffb7fc75210>]"
            ]
          },
          "metadata": {},
          "execution_count": 21
        },
        {
          "output_type": "display_data",
          "data": {
            "text/plain": [
              "<Figure size 432x288 with 1 Axes>"
            ],
            "image/png": "[encoded data removed]"
          },
          "metadata": {}
        }
      ]
    },
    {
      "cell_type": "markdown",
      "source": [
        "#Rozważenie danych"
      ],
      "metadata": {
        "id": "G9uNXOXO1mDL"
      }
    },
    {
      "cell_type": "markdown",
      "source": [
        "| ID | Dochód | Liczba osób w gospodarstwie | Wiarygodność | Udzielenie pożyczki |\n",
        "|----|--------|-----------------------------|--------------|---------------------|\n",
        "| 1  | niski  | 1                           | niska        | 0                   |\n",
        "| 2  | niski  | 3                           | niska        | 0                   |\n",
        "| 3  | średni | 4                           | niska        | 0                   |\n",
        "| 4  | wysoki | 3                           | średnia      | 0                   |\n",
        "| 5  | wysoki | 4                           | wysoka       | 1                   |\n",
        "| 6  | niski  | 4                           | niska        | 0                   |\n",
        "| 7  | średni | 2                           | średnia      | 1                   |\n",
        "| 8  | wysoki | 3                           | wysoka       | 1                   |\n",
        "| 9  | średni | 5                           | niska        | 0                   |\n",
        "| 10 | średni | 1                           | wysoka       | 1                   |\n",
        "\n",
        "\n",
        "Rozkład zmiennej Udzienie pożyczki:\n",
        "\n",
        "| Udzielenie pożyczki | 0    | 1    |\n",
        "|---------------------|------|------|\n",
        "| $p_{i}$               | 6/10 | 4/10 |\n",
        "\n",
        "\n",
        "Wzór na entropię:\n",
        "###  $E = - \\sum_{i=1}^{n}p_{i} \\cdot log_{2}p_{i}$\n",
        "\n",
        "Entropia po podziale:\n",
        "\n",
        "###  $E_{after}  = \\sum_{i=1}^{m} \\frac{S_{i}}{S}Entropia(S_{i})$\n",
        "\n",
        "gdzie \n",
        "$S$ - podział\n",
        "$m$ - liczba podziałów"
      ],
      "metadata": {
        "id": "BI_H7_F31sAP"
      }
    },
    {
      "cell_type": "code",
      "source": [
        "# pk = [0.6, 0.4]\n",
        "# entropy(pk)\n",
        "entropy([0.6, 0.4], base = 2)"
      ],
      "metadata": {
        "colab": {
          "base_uri": "https://localhost:8080/"
        },
        "id": "j19E2B321qNH",
        "outputId": "cee64b0f-f5e2-4877-eef1-20f18318e26f"
      },
      "execution_count": null,
      "outputs": [
        {
          "output_type": "execute_result",
          "data": {
            "text/plain": [
              "0.9709505944546688"
            ]
          },
          "metadata": {},
          "execution_count": 22
        }
      ]
    },
    {
      "cell_type": "code",
      "source": [
        "entropy([0.5, 0.5], base = 2)"
      ],
      "metadata": {
        "colab": {
          "base_uri": "https://localhost:8080/"
        },
        "id": "pXLfzjCk2JfZ",
        "outputId": "9c3178a0-ab9c-4f9c-e45e-7e036dbedd89"
      },
      "execution_count": null,
      "outputs": [
        {
          "output_type": "execute_result",
          "data": {
            "text/plain": [
              "1.0"
            ]
          },
          "metadata": {},
          "execution_count": 23
        }
      ]
    },
    {
      "cell_type": "code",
      "source": [
        "entropia = -(6/10 * np.log2(6/10) + (4/10) * np.log2(4/10))\n",
        "entropia"
      ],
      "metadata": {
        "id": "_BElI-t33IT-",
        "outputId": "583a2196-5336-44ef-813a-2c45fa49c47e",
        "colab": {
          "base_uri": "https://localhost:8080/"
        }
      },
      "execution_count": null,
      "outputs": [
        {
          "output_type": "execute_result",
          "data": {
            "text/plain": [
              "0.9709505944546686"
            ]
          },
          "metadata": {},
          "execution_count": 27
        }
      ]
    },
    {
      "cell_type": "markdown",
      "source": [
        "# Rozkład zmiennej `Wiarygodność`\n",
        "\n",
        "|         | udział | udzielenie pożyczki = 0 | udzielenie pożyczki = 1 |  Entropia\n",
        "|---------|--------|-------------------------|-------------------------|--------|\n",
        "| niska   | 5/10   | 1                       | 0                       | 0\n",
        "| średnia | 2/10   | 1/2                     | 1/2                     | 1\n",
        "| wysoka  | 3/10   | 0                       | 1                       | 0\n",
        "\n",
        "Entropia po podziale"
      ],
      "metadata": {
        "id": "bu2AlFEl22Ry"
      }
    },
    {
      "cell_type": "code",
      "source": [
        "entropia_wiarygodnosc = 5/10 * 0 + 2/10 * 1 + 3/10 * 0\n",
        "entropia_wiarygodnosc"
      ],
      "metadata": {
        "colab": {
          "base_uri": "https://localhost:8080/"
        },
        "id": "UJxhZPbQ24Ia",
        "outputId": "7e683da9-3dd9-4d03-f876-053c0917c2b7"
      },
      "execution_count": null,
      "outputs": [
        {
          "output_type": "execute_result",
          "data": {
            "text/plain": [
              "0.2"
            ]
          },
          "metadata": {},
          "execution_count": 24
        }
      ]
    },
    {
      "cell_type": "markdown",
      "source": [
        "### Rozkład zmiennej  `Dochód`\n",
        "\n",
        "|        | udział | udzielenie pożyczki = 0 | udzielenie pożyczki = 1 | Entropia\n",
        "|--------|--------|-------------------------|-------------------------|----------|\n",
        "| niski  | 3/10   | 1                       | 0                       |0\n",
        "| sredni | 4/10   | 2/4                     | 2/4                     |1\n",
        "| wysoki | 3/10   | 1/3                     | 2/3                     | 0.9183\n",
        "\n",
        "Entropia po podziale"
      ],
      "metadata": {
        "id": "XVIRTCMD28oI"
      }
    },
    {
      "cell_type": "code",
      "source": [
        "entropia_dochod = 3/10 * 0 + 4/10 * 1 + 3/10 * 0.9183\n",
        "entropia_dochod"
      ],
      "metadata": {
        "colab": {
          "base_uri": "https://localhost:8080/"
        },
        "id": "HOwbXqGK29OO",
        "outputId": "ab5e1c82-13dc-4bf5-d220-958a79ad11dd"
      },
      "execution_count": null,
      "outputs": [
        {
          "output_type": "execute_result",
          "data": {
            "text/plain": [
              "0.67549"
            ]
          },
          "metadata": {},
          "execution_count": 25
        }
      ]
    },
    {
      "cell_type": "markdown",
      "source": [
        "#Zysk informacyjny\n",
        "\n",
        "\n",
        "$IG (Information\\ Gain) = Entropia\\ przed\\ podziałem - Entropia\\ po\\ podziale$"
      ],
      "metadata": {
        "id": "Vj0o7b-33APD"
      }
    },
    {
      "cell_type": "code",
      "source": [
        "ig_wiarygodnosc = entropia - entropia_wiarygodnosc\n",
        "ig_dochod = entropia - entropia_dochod\n",
        "\n",
        "print('Zysk informacyjny (IG): wiarygodność:', ig_wiarygodnosc)\n",
        "print('Zysk informacyjny (IG): dochód:', ig_dochod)"
      ],
      "metadata": {
        "colab": {
          "base_uri": "https://localhost:8080/"
        },
        "id": "NQyZAs2B3B_5",
        "outputId": "f8d271ee-e8f0-4d3d-98b7-c2ebb6059c47"
      },
      "execution_count": null,
      "outputs": [
        {
          "output_type": "stream",
          "name": "stdout",
          "text": [
            "Zysk informacyjny (IG): wiarygodność: 0.7709505944546686\n",
            "Zysk informacyjny (IG): dochód: 0.29546059445466855\n"
          ]
        }
      ]
    }
  ]
}