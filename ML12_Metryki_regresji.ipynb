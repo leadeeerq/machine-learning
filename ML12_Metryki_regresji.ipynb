{
  "nbformat": 4,
  "nbformat_minor": 0,
  "metadata": {
    "colab": {
      "name": "ML12 - Metryki regresji.ipynb",
      "provenance": [],
      "authorship_tag": "ABX9TyOfeDpFFQnCsnO8vtCX3g/5",
      "include_colab_link": true
    },
    "kernelspec": {
      "name": "python3",
      "display_name": "Python 3"
    },
    "language_info": {
      "name": "python"
    }
  },
  "cells": [
    {
      "cell_type": "markdown",
      "metadata": {
        "id": "view-in-github",
        "colab_type": "text"
      },
      "source": [
        "<a href=\"https://colab.research.google.com/github/leadeeerq/machine-learning/blob/main/ML12_Metryki_regresji.ipynb\" target=\"_parent\"><img src=\"https://colab.research.google.com/assets/colab-badge.svg\" alt=\"Open In Colab\"/></a>"
      ]
    },
    {
      "cell_type": "code",
      "execution_count": 6,
      "metadata": {
        "id": "IpCzWyPgkaZm"
      },
      "outputs": [],
      "source": [
        "import numpy as np\n",
        "import pandas as pd\n",
        "import matplotlib.pyplot as plt\n",
        "import plotly.express as px\n",
        "import plotly.graph_objects as go\n",
        "\n",
        "np.random.seed(42)"
      ]
    },
    {
      "cell_type": "markdown",
      "source": [
        "#Generowanie zmiennych"
      ],
      "metadata": {
        "id": "pGp3X5wNko46"
      }
    },
    {
      "cell_type": "code",
      "source": [
        "y_true = 100 + 20 * np.random.randn(50)\n",
        "y_true"
      ],
      "metadata": {
        "colab": {
          "base_uri": "https://localhost:8080/"
        },
        "id": "LS0pwuBGkp4e",
        "outputId": "5df9e8ba-b7aa-4fdf-a1d2-4c3f45786884"
      },
      "execution_count": 2,
      "outputs": [
        {
          "output_type": "execute_result",
          "data": {
            "text/plain": [
              "array([109.93428306,  97.23471398, 112.95377076, 130.46059713,\n",
              "        95.31693251,  95.31726086, 131.58425631, 115.34869458,\n",
              "        90.61051228, 110.85120087,  90.73164614,  90.68540493,\n",
              "       104.83924543,  61.73439511,  65.50164335,  88.75424942,\n",
              "        79.74337759, 106.28494665,  81.83951849,  71.75392597,\n",
              "       129.31297538,  95.48447399, 101.35056409,  71.50503628,\n",
              "        89.11234551, 102.21845179,  76.98012845, 107.51396037,\n",
              "        87.9872262 ,  94.166125  ,  87.96586776, 137.04556369,\n",
              "        99.73005551,  78.84578142, 116.45089824,  75.583127  ,\n",
              "       104.1772719 ,  60.80659752,  73.43627902, 103.93722472,\n",
              "       114.7693316 , 103.42736562,  97.68703435,  93.97792609,\n",
              "        70.42956019,  85.60311583,  90.78722458, 121.14244452,\n",
              "       106.87236579,  64.73919689])"
            ]
          },
          "metadata": {},
          "execution_count": 2
        }
      ]
    },
    {
      "cell_type": "code",
      "source": [
        "y_pred = y_true + 10 * np.random.randn(50)\n",
        "y_pred"
      ],
      "metadata": {
        "colab": {
          "base_uri": "https://localhost:8080/"
        },
        "id": "a-J686MJkt93",
        "outputId": "3f7024a9-1157-47de-cf31-4c51683c6c14"
      },
      "execution_count": 13,
      "outputs": [
        {
          "output_type": "execute_result",
          "data": {
            "text/plain": [
              "array([124.59077075,  94.97695097, 113.62905281, 116.21311527,\n",
              "        89.87310526,  96.42648676, 120.07432054, 119.10567477,\n",
              "        84.60412538, 107.93426337,  84.71458002, 109.20818677,\n",
              "       104.70427318,  51.15728582,  73.72709247,  76.54581292,\n",
              "        81.83201354,  86.68824541,  68.557658  ,  73.72253833,\n",
              "       136.69764118,  97.1981568 , 100.19408127,  68.49399932,\n",
              "        74.32712561,  95.02000971,  72.37374074, 118.08518263,\n",
              "        91.4234091 ,  76.53572345,  91.20670745, 133.19474089,\n",
              "        92.9608355 ,  84.96254431, 126.76089347,  84.89592819,\n",
              "        95.78509667,  57.71447376,  76.74891334, 113.69267599,\n",
              "       109.97758922, 101.57077586,  86.62368461,  82.01585985,\n",
              "        78.55481842,  99.16551612,  90.06712337, 131.1777735 ,\n",
              "       110.48872604,  58.28799935])"
            ]
          },
          "metadata": {},
          "execution_count": 13
        }
      ]
    },
    {
      "cell_type": "code",
      "source": [
        "results = pd.DataFrame(data={'y_true': y_true, 'y_pred': y_pred})\n",
        "results.head()"
      ],
      "metadata": {
        "colab": {
          "base_uri": "https://localhost:8080/",
          "height": 206
        },
        "id": "BKYT8_LGljGw",
        "outputId": "b2baf3aa-ba64-4954-8e76-5a0174a87c87"
      },
      "execution_count": 14,
      "outputs": [
        {
          "output_type": "execute_result",
          "data": {
            "text/plain": [
              "       y_true      y_pred\n",
              "0  109.934283  124.590771\n",
              "1   97.234714   94.976951\n",
              "2  112.953771  113.629053\n",
              "3  130.460597  116.213115\n",
              "4   95.316933   89.873105"
            ],
            "text/html": [
              "\n",
              "  <div id=\"df-4d1733c4-4768-414f-b251-af1740ee67a1\">\n",
              "    <div class=\"colab-df-container\">\n",
              "      <div>\n",
              "<style scoped>\n",
              "    .dataframe tbody tr th:only-of-type {\n",
              "        vertical-align: middle;\n",
              "    }\n",
              "\n",
              "    .dataframe tbody tr th {\n",
              "        vertical-align: top;\n",
              "    }\n",
              "\n",
              "    .dataframe thead th {\n",
              "        text-align: right;\n",
              "    }\n",
              "</style>\n",
              "<table border=\"1\" class=\"dataframe\">\n",
              "  <thead>\n",
              "    <tr style=\"text-align: right;\">\n",
              "      <th></th>\n",
              "      <th>y_true</th>\n",
              "      <th>y_pred</th>\n",
              "    </tr>\n",
              "  </thead>\n",
              "  <tbody>\n",
              "    <tr>\n",
              "      <th>0</th>\n",
              "      <td>109.934283</td>\n",
              "      <td>124.590771</td>\n",
              "    </tr>\n",
              "    <tr>\n",
              "      <th>1</th>\n",
              "      <td>97.234714</td>\n",
              "      <td>94.976951</td>\n",
              "    </tr>\n",
              "    <tr>\n",
              "      <th>2</th>\n",
              "      <td>112.953771</td>\n",
              "      <td>113.629053</td>\n",
              "    </tr>\n",
              "    <tr>\n",
              "      <th>3</th>\n",
              "      <td>130.460597</td>\n",
              "      <td>116.213115</td>\n",
              "    </tr>\n",
              "    <tr>\n",
              "      <th>4</th>\n",
              "      <td>95.316933</td>\n",
              "      <td>89.873105</td>\n",
              "    </tr>\n",
              "  </tbody>\n",
              "</table>\n",
              "</div>\n",
              "      <button class=\"colab-df-convert\" onclick=\"convertToInteractive('df-4d1733c4-4768-414f-b251-af1740ee67a1')\"\n",
              "              title=\"Convert this dataframe to an interactive table.\"\n",
              "              style=\"display:none;\">\n",
              "        \n",
              "  <svg xmlns=\"http://www.w3.org/2000/svg\" height=\"24px\"viewBox=\"0 0 24 24\"\n",
              "       width=\"24px\">\n",
              "    <path d=\"M0 0h24v24H0V0z\" fill=\"none\"/>\n",
              "    <path d=\"M18.56 5.44l.94 2.06.94-2.06 2.06-.94-2.06-.94-.94-2.06-.94 2.06-2.06.94zm-11 1L8.5 8.5l.94-2.06 2.06-.94-2.06-.94L8.5 2.5l-.94 2.06-2.06.94zm10 10l.94 2.06.94-2.06 2.06-.94-2.06-.94-.94-2.06-.94 2.06-2.06.94z\"/><path d=\"M17.41 7.96l-1.37-1.37c-.4-.4-.92-.59-1.43-.59-.52 0-1.04.2-1.43.59L10.3 9.45l-7.72 7.72c-.78.78-.78 2.05 0 2.83L4 21.41c.39.39.9.59 1.41.59.51 0 1.02-.2 1.41-.59l7.78-7.78 2.81-2.81c.8-.78.8-2.07 0-2.86zM5.41 20L4 18.59l7.72-7.72 1.47 1.35L5.41 20z\"/>\n",
              "  </svg>\n",
              "      </button>\n",
              "      \n",
              "  <style>\n",
              "    .colab-df-container {\n",
              "      display:flex;\n",
              "      flex-wrap:wrap;\n",
              "      gap: 12px;\n",
              "    }\n",
              "\n",
              "    .colab-df-convert {\n",
              "      background-color: #E8F0FE;\n",
              "      border: none;\n",
              "      border-radius: 50%;\n",
              "      cursor: pointer;\n",
              "      display: none;\n",
              "      fill: #1967D2;\n",
              "      height: 32px;\n",
              "      padding: 0 0 0 0;\n",
              "      width: 32px;\n",
              "    }\n",
              "\n",
              "    .colab-df-convert:hover {\n",
              "      background-color: #E2EBFA;\n",
              "      box-shadow: 0px 1px 2px rgba(60, 64, 67, 0.3), 0px 1px 3px 1px rgba(60, 64, 67, 0.15);\n",
              "      fill: #174EA6;\n",
              "    }\n",
              "\n",
              "    [theme=dark] .colab-df-convert {\n",
              "      background-color: #3B4455;\n",
              "      fill: #D2E3FC;\n",
              "    }\n",
              "\n",
              "    [theme=dark] .colab-df-convert:hover {\n",
              "      background-color: #434B5C;\n",
              "      box-shadow: 0px 1px 3px 1px rgba(0, 0, 0, 0.15);\n",
              "      filter: drop-shadow(0px 1px 2px rgba(0, 0, 0, 0.3));\n",
              "      fill: #FFFFFF;\n",
              "    }\n",
              "  </style>\n",
              "\n",
              "      <script>\n",
              "        const buttonEl =\n",
              "          document.querySelector('#df-4d1733c4-4768-414f-b251-af1740ee67a1 button.colab-df-convert');\n",
              "        buttonEl.style.display =\n",
              "          google.colab.kernel.accessAllowed ? 'block' : 'none';\n",
              "\n",
              "        async function convertToInteractive(key) {\n",
              "          const element = document.querySelector('#df-4d1733c4-4768-414f-b251-af1740ee67a1');\n",
              "          const dataTable =\n",
              "            await google.colab.kernel.invokeFunction('convertToInteractive',\n",
              "                                                     [key], {});\n",
              "          if (!dataTable) return;\n",
              "\n",
              "          const docLinkHtml = 'Like what you see? Visit the ' +\n",
              "            '<a target=\"_blank\" href=https://colab.research.google.com/notebooks/data_table.ipynb>data table notebook</a>'\n",
              "            + ' to learn more about interactive tables.';\n",
              "          element.innerHTML = '';\n",
              "          dataTable['output_type'] = 'display_data';\n",
              "          await google.colab.output.renderOutput(dataTable, element);\n",
              "          const docLink = document.createElement('div');\n",
              "          docLink.innerHTML = docLinkHtml;\n",
              "          element.appendChild(docLink);\n",
              "        }\n",
              "      </script>\n",
              "    </div>\n",
              "  </div>\n",
              "  "
            ]
          },
          "metadata": {},
          "execution_count": 14
        }
      ]
    },
    {
      "cell_type": "code",
      "source": [
        "results['error'] = results['y_true'] - results['y_pred']\n",
        "results['error_sq'] = results['error'] ** 2\n",
        "results.head()"
      ],
      "metadata": {
        "colab": {
          "base_uri": "https://localhost:8080/",
          "height": 206
        },
        "id": "5wRob3K6lwLa",
        "outputId": "8a44c8bd-44d8-431a-baf0-d48e5f9ac543"
      },
      "execution_count": 17,
      "outputs": [
        {
          "output_type": "execute_result",
          "data": {
            "text/plain": [
              "       y_true      y_pred      error    error_sq\n",
              "0  109.934283  124.590771 -14.656488  214.812631\n",
              "1   97.234714   94.976951   2.257763    5.097494\n",
              "2  112.953771  113.629053  -0.675282    0.456006\n",
              "3  130.460597  116.213115  14.247482  202.990739\n",
              "4   95.316933   89.873105   5.443827   29.635255"
            ],
            "text/html": [
              "\n",
              "  <div id=\"df-3e8a5240-b992-424e-a7e1-f5befb6c8251\">\n",
              "    <div class=\"colab-df-container\">\n",
              "      <div>\n",
              "<style scoped>\n",
              "    .dataframe tbody tr th:only-of-type {\n",
              "        vertical-align: middle;\n",
              "    }\n",
              "\n",
              "    .dataframe tbody tr th {\n",
              "        vertical-align: top;\n",
              "    }\n",
              "\n",
              "    .dataframe thead th {\n",
              "        text-align: right;\n",
              "    }\n",
              "</style>\n",
              "<table border=\"1\" class=\"dataframe\">\n",
              "  <thead>\n",
              "    <tr style=\"text-align: right;\">\n",
              "      <th></th>\n",
              "      <th>y_true</th>\n",
              "      <th>y_pred</th>\n",
              "      <th>error</th>\n",
              "      <th>error_sq</th>\n",
              "    </tr>\n",
              "  </thead>\n",
              "  <tbody>\n",
              "    <tr>\n",
              "      <th>0</th>\n",
              "      <td>109.934283</td>\n",
              "      <td>124.590771</td>\n",
              "      <td>-14.656488</td>\n",
              "      <td>214.812631</td>\n",
              "    </tr>\n",
              "    <tr>\n",
              "      <th>1</th>\n",
              "      <td>97.234714</td>\n",
              "      <td>94.976951</td>\n",
              "      <td>2.257763</td>\n",
              "      <td>5.097494</td>\n",
              "    </tr>\n",
              "    <tr>\n",
              "      <th>2</th>\n",
              "      <td>112.953771</td>\n",
              "      <td>113.629053</td>\n",
              "      <td>-0.675282</td>\n",
              "      <td>0.456006</td>\n",
              "    </tr>\n",
              "    <tr>\n",
              "      <th>3</th>\n",
              "      <td>130.460597</td>\n",
              "      <td>116.213115</td>\n",
              "      <td>14.247482</td>\n",
              "      <td>202.990739</td>\n",
              "    </tr>\n",
              "    <tr>\n",
              "      <th>4</th>\n",
              "      <td>95.316933</td>\n",
              "      <td>89.873105</td>\n",
              "      <td>5.443827</td>\n",
              "      <td>29.635255</td>\n",
              "    </tr>\n",
              "  </tbody>\n",
              "</table>\n",
              "</div>\n",
              "      <button class=\"colab-df-convert\" onclick=\"convertToInteractive('df-3e8a5240-b992-424e-a7e1-f5befb6c8251')\"\n",
              "              title=\"Convert this dataframe to an interactive table.\"\n",
              "              style=\"display:none;\">\n",
              "        \n",
              "  <svg xmlns=\"http://www.w3.org/2000/svg\" height=\"24px\"viewBox=\"0 0 24 24\"\n",
              "       width=\"24px\">\n",
              "    <path d=\"M0 0h24v24H0V0z\" fill=\"none\"/>\n",
              "    <path d=\"M18.56 5.44l.94 2.06.94-2.06 2.06-.94-2.06-.94-.94-2.06-.94 2.06-2.06.94zm-11 1L8.5 8.5l.94-2.06 2.06-.94-2.06-.94L8.5 2.5l-.94 2.06-2.06.94zm10 10l.94 2.06.94-2.06 2.06-.94-2.06-.94-.94-2.06-.94 2.06-2.06.94z\"/><path d=\"M17.41 7.96l-1.37-1.37c-.4-.4-.92-.59-1.43-.59-.52 0-1.04.2-1.43.59L10.3 9.45l-7.72 7.72c-.78.78-.78 2.05 0 2.83L4 21.41c.39.39.9.59 1.41.59.51 0 1.02-.2 1.41-.59l7.78-7.78 2.81-2.81c.8-.78.8-2.07 0-2.86zM5.41 20L4 18.59l7.72-7.72 1.47 1.35L5.41 20z\"/>\n",
              "  </svg>\n",
              "      </button>\n",
              "      \n",
              "  <style>\n",
              "    .colab-df-container {\n",
              "      display:flex;\n",
              "      flex-wrap:wrap;\n",
              "      gap: 12px;\n",
              "    }\n",
              "\n",
              "    .colab-df-convert {\n",
              "      background-color: #E8F0FE;\n",
              "      border: none;\n",
              "      border-radius: 50%;\n",
              "      cursor: pointer;\n",
              "      display: none;\n",
              "      fill: #1967D2;\n",
              "      height: 32px;\n",
              "      padding: 0 0 0 0;\n",
              "      width: 32px;\n",
              "    }\n",
              "\n",
              "    .colab-df-convert:hover {\n",
              "      background-color: #E2EBFA;\n",
              "      box-shadow: 0px 1px 2px rgba(60, 64, 67, 0.3), 0px 1px 3px 1px rgba(60, 64, 67, 0.15);\n",
              "      fill: #174EA6;\n",
              "    }\n",
              "\n",
              "    [theme=dark] .colab-df-convert {\n",
              "      background-color: #3B4455;\n",
              "      fill: #D2E3FC;\n",
              "    }\n",
              "\n",
              "    [theme=dark] .colab-df-convert:hover {\n",
              "      background-color: #434B5C;\n",
              "      box-shadow: 0px 1px 3px 1px rgba(0, 0, 0, 0.15);\n",
              "      filter: drop-shadow(0px 1px 2px rgba(0, 0, 0, 0.3));\n",
              "      fill: #FFFFFF;\n",
              "    }\n",
              "  </style>\n",
              "\n",
              "      <script>\n",
              "        const buttonEl =\n",
              "          document.querySelector('#df-3e8a5240-b992-424e-a7e1-f5befb6c8251 button.colab-df-convert');\n",
              "        buttonEl.style.display =\n",
              "          google.colab.kernel.accessAllowed ? 'block' : 'none';\n",
              "\n",
              "        async function convertToInteractive(key) {\n",
              "          const element = document.querySelector('#df-3e8a5240-b992-424e-a7e1-f5befb6c8251');\n",
              "          const dataTable =\n",
              "            await google.colab.kernel.invokeFunction('convertToInteractive',\n",
              "                                                     [key], {});\n",
              "          if (!dataTable) return;\n",
              "\n",
              "          const docLinkHtml = 'Like what you see? Visit the ' +\n",
              "            '<a target=\"_blank\" href=https://colab.research.google.com/notebooks/data_table.ipynb>data table notebook</a>'\n",
              "            + ' to learn more about interactive tables.';\n",
              "          element.innerHTML = '';\n",
              "          dataTable['output_type'] = 'display_data';\n",
              "          await google.colab.output.renderOutput(dataTable, element);\n",
              "          const docLink = document.createElement('div');\n",
              "          docLink.innerHTML = docLinkHtml;\n",
              "          element.appendChild(docLink);\n",
              "        }\n",
              "      </script>\n",
              "    </div>\n",
              "  </div>\n",
              "  "
            ]
          },
          "metadata": {},
          "execution_count": 17
        }
      ]
    },
    {
      "cell_type": "code",
      "source": [
        "print(f\"MAE - mean absolute error: {results['error'].abs().sum()/len(results):.4f}\")\n",
        "print(f\"MSE - mean squared error: {results['error_sq'].sum()/len(results):4f}\")\n",
        "print(f\"RMSE - root mean squared error: {np.sqrt(results['error_sq'].sum()/len(results)):.4f}\")"
      ],
      "metadata": {
        "colab": {
          "base_uri": "https://localhost:8080/"
        },
        "id": "BSwHKRQ0mB2G",
        "outputId": "2850665c-6476-4334-f378-a7c59cad5676"
      },
      "execution_count": 20,
      "outputs": [
        {
          "output_type": "stream",
          "name": "stdout",
          "text": [
            "MAE - mean absolute error: 7.2607\n",
            "MSE - mean squared error: 78.027568\n",
            "RMSE - root mean squared error: 8.8333\n"
          ]
        }
      ]
    },
    {
      "cell_type": "markdown",
      "source": [
        "#Interpretacja graficzna"
      ],
      "metadata": {
        "id": "zFSwOQ3Fm_h5"
      }
    },
    {
      "cell_type": "code",
      "source": [
        "def plot_reg_res(y_true, y_pred):\n",
        "\n",
        "  results = pd.DataFrame(data={'y_true': y_true, 'y_pred': y_pred})\n",
        "  # df[['x']] — index/slice a single-column DataFrame having only one column named 'x'.\n",
        "  min=results[['y_true', 'y_pred']].min().min()\n",
        "  max=results[['y_true', 'y_pred']].max().max()\n",
        "\n",
        "  fig = go.Figure(data=[go.Scatter(x=results['y_true'], y=results['y_pred'], mode='markers'),\n",
        "                  go.Scatter(x=[min, max], y=[min,max])],\n",
        "                  layout=go.Layout(showlegend=False, width=800,\n",
        "                                   xaxis_title='y_true',\n",
        "                                   yaxis_title='y_pred',\n",
        "                                   title='Regresja: y_true vs. y_pred')\n",
        "                  )\n",
        "  fig.show()\n",
        "plot_reg_res(y_true, y_pred)"
      ],
      "metadata": {
        "colab": {
          "base_uri": "https://localhost:8080/",
          "height": 542
        },
        "id": "wFek81GmnAp3",
        "outputId": "ad838608-026a-4843-a1af-479c8b38604a"
      },
      "execution_count": 21,
      "outputs": [
        {
          "output_type": "display_data",
          "data": {
            "text/html": [
              "<html>\n",
              "<head><meta charset=\"utf-8\" /></head>\n",
              "<body>\n",
              "    <div>            <script src=\"https://cdnjs.cloudflare.com/ajax/libs/mathjax/2.7.5/MathJax.js?config=TeX-AMS-MML_SVG\"></script><script type=\"text/javascript\">if (window.MathJax) {MathJax.Hub.Config({SVG: {font: \"STIX-Web\"}});}</script>                <script type=\"text/javascript\">window.PlotlyConfig = {MathJaxConfig: 'local'};</script>\n",
              "        <script src=\"https://cdn.plot.ly/plotly-2.8.3.min.js\"></script>                <div id=\"31e3e182-89f1-4ec3-b290-7020f370306c\" class=\"plotly-graph-div\" style=\"height:525px; width:800px;\"></div>            <script type=\"text/javascript\">                                    window.PLOTLYENV=window.PLOTLYENV || {};                                    if (document.getElementById(\"31e3e182-89f1-4ec3-b290-7020f370306c\")) {                    Plotly.newPlot(                        \"31e3e182-89f1-4ec3-b290-7020f370306c\",                        [{\"mode\":\"markers\",\"x\":[109.93428306022466,97.2347139765763,112.95377076201385,130.46059712816052,95.31693250553329,95.3172608610164,131.58425631014782,115.34869458305818,90.61051228130096,110.8512008717193,90.73164614375075,90.68540492859486,104.83924543132068,61.73439510684404,65.50164334973934,88.75424941518054,79.74337759331152,106.28494665190547,81.83951848957578,71.75392597329417,129.31297537843108,95.4844739902693,101.35056409375848,71.50503627573087,89.11234550949635,102.21845179419732,76.98012845155395,107.51396036691344,87.9872262016239,94.16612500413447,87.96586775541206,137.04556369017877,99.73005550524132,78.84578142088199,116.45089824206377,75.58312700057955,104.1772719000951,60.80659752240449,73.43627902203139,103.93722471738246,114.76933159990821,103.4273656237994,97.68703435223519,93.97792608821422,70.42956019265145,85.60311583210583,90.78722458080425,121.1424445243783,106.87236579136923,64.73919689274533],\"y\":[124.5907707494402,94.97695097171095,113.62905280889308,116.21311526602595,89.87310526028146,96.42648675811506,120.0743205359248,119.1056747665149,84.60412538211291,107.93426337378654,84.71458002145678,109.20818677368425,104.70427318394134,51.157285817285036,73.72709247077123,76.54581291547032,81.83201354335908,86.68824541310772,68.55765800059147,73.7225383319854,136.69764117838517,97.198156802169,100.19408126987608,68.49399931983798,74.32712560582208,95.02000971025024,72.37374074195608,118.08518262910259,91.42340909730851,76.53572345050713,91.20670744936001,133.1947408860156,92.96083550218174,84.96254430929066,126.76089346702328,84.89592819174153,95.78509666786871,57.71447376389234,76.74891333606702,113.69267598860606,109.97758922145532,101.57077585716124,86.62368461217491,82.01585984740751,78.55481841659343,99.16551611781406,90.06712336500091,131.17777350329854,110.48872604184558,58.287999346694086],\"type\":\"scatter\"},{\"x\":[51.157285817285036,137.04556369017877],\"y\":[51.157285817285036,137.04556369017877],\"type\":\"scatter\"}],                        {\"showlegend\":false,\"title\":{\"text\":\"Regresja: y_true vs. y_pred\"},\"width\":800,\"xaxis\":{\"title\":{\"text\":\"y_true\"}},\"yaxis\":{\"title\":{\"text\":\"y_pred\"}},\"template\":{\"data\":{\"bar\":[{\"error_x\":{\"color\":\"#2a3f5f\"},\"error_y\":{\"color\":\"#2a3f5f\"},\"marker\":{\"line\":{\"color\":\"#E5ECF6\",\"width\":0.5},\"pattern\":{\"fillmode\":\"overlay\",\"size\":10,\"solidity\":0.2}},\"type\":\"bar\"}],\"barpolar\":[{\"marker\":{\"line\":{\"color\":\"#E5ECF6\",\"width\":0.5},\"pattern\":{\"fillmode\":\"overlay\",\"size\":10,\"solidity\":0.2}},\"type\":\"barpolar\"}],\"carpet\":[{\"aaxis\":{\"endlinecolor\":\"#2a3f5f\",\"gridcolor\":\"white\",\"linecolor\":\"white\",\"minorgridcolor\":\"white\",\"startlinecolor\":\"#2a3f5f\"},\"baxis\":{\"endlinecolor\":\"#2a3f5f\",\"gridcolor\":\"white\",\"linecolor\":\"white\",\"minorgridcolor\":\"white\",\"startlinecolor\":\"#2a3f5f\"},\"type\":\"carpet\"}],\"choropleth\":[{\"colorbar\":{\"outlinewidth\":0,\"ticks\":\"\"},\"type\":\"choropleth\"}],\"contour\":[{\"colorbar\":{\"outlinewidth\":0,\"ticks\":\"\"},\"colorscale\":[[0.0,\"#0d0887\"],[0.1111111111111111,\"#46039f\"],[0.2222222222222222,\"#7201a8\"],[0.3333333333333333,\"#9c179e\"],[0.4444444444444444,\"#bd3786\"],[0.5555555555555556,\"#d8576b\"],[0.6666666666666666,\"#ed7953\"],[0.7777777777777778,\"#fb9f3a\"],[0.8888888888888888,\"#fdca26\"],[1.0,\"#f0f921\"]],\"type\":\"contour\"}],\"contourcarpet\":[{\"colorbar\":{\"outlinewidth\":0,\"ticks\":\"\"},\"type\":\"contourcarpet\"}],\"heatmap\":[{\"colorbar\":{\"outlinewidth\":0,\"ticks\":\"\"},\"colorscale\":[[0.0,\"#0d0887\"],[0.1111111111111111,\"#46039f\"],[0.2222222222222222,\"#7201a8\"],[0.3333333333333333,\"#9c179e\"],[0.4444444444444444,\"#bd3786\"],[0.5555555555555556,\"#d8576b\"],[0.6666666666666666,\"#ed7953\"],[0.7777777777777778,\"#fb9f3a\"],[0.8888888888888888,\"#fdca26\"],[1.0,\"#f0f921\"]],\"type\":\"heatmap\"}],\"heatmapgl\":[{\"colorbar\":{\"outlinewidth\":0,\"ticks\":\"\"},\"colorscale\":[[0.0,\"#0d0887\"],[0.1111111111111111,\"#46039f\"],[0.2222222222222222,\"#7201a8\"],[0.3333333333333333,\"#9c179e\"],[0.4444444444444444,\"#bd3786\"],[0.5555555555555556,\"#d8576b\"],[0.6666666666666666,\"#ed7953\"],[0.7777777777777778,\"#fb9f3a\"],[0.8888888888888888,\"#fdca26\"],[1.0,\"#f0f921\"]],\"type\":\"heatmapgl\"}],\"histogram\":[{\"marker\":{\"pattern\":{\"fillmode\":\"overlay\",\"size\":10,\"solidity\":0.2}},\"type\":\"histogram\"}],\"histogram2d\":[{\"colorbar\":{\"outlinewidth\":0,\"ticks\":\"\"},\"colorscale\":[[0.0,\"#0d0887\"],[0.1111111111111111,\"#46039f\"],[0.2222222222222222,\"#7201a8\"],[0.3333333333333333,\"#9c179e\"],[0.4444444444444444,\"#bd3786\"],[0.5555555555555556,\"#d8576b\"],[0.6666666666666666,\"#ed7953\"],[0.7777777777777778,\"#fb9f3a\"],[0.8888888888888888,\"#fdca26\"],[1.0,\"#f0f921\"]],\"type\":\"histogram2d\"}],\"histogram2dcontour\":[{\"colorbar\":{\"outlinewidth\":0,\"ticks\":\"\"},\"colorscale\":[[0.0,\"#0d0887\"],[0.1111111111111111,\"#46039f\"],[0.2222222222222222,\"#7201a8\"],[0.3333333333333333,\"#9c179e\"],[0.4444444444444444,\"#bd3786\"],[0.5555555555555556,\"#d8576b\"],[0.6666666666666666,\"#ed7953\"],[0.7777777777777778,\"#fb9f3a\"],[0.8888888888888888,\"#fdca26\"],[1.0,\"#f0f921\"]],\"type\":\"histogram2dcontour\"}],\"mesh3d\":[{\"colorbar\":{\"outlinewidth\":0,\"ticks\":\"\"},\"type\":\"mesh3d\"}],\"parcoords\":[{\"line\":{\"colorbar\":{\"outlinewidth\":0,\"ticks\":\"\"}},\"type\":\"parcoords\"}],\"pie\":[{\"automargin\":true,\"type\":\"pie\"}],\"scatter\":[{\"marker\":{\"colorbar\":{\"outlinewidth\":0,\"ticks\":\"\"}},\"type\":\"scatter\"}],\"scatter3d\":[{\"line\":{\"colorbar\":{\"outlinewidth\":0,\"ticks\":\"\"}},\"marker\":{\"colorbar\":{\"outlinewidth\":0,\"ticks\":\"\"}},\"type\":\"scatter3d\"}],\"scattercarpet\":[{\"marker\":{\"colorbar\":{\"outlinewidth\":0,\"ticks\":\"\"}},\"type\":\"scattercarpet\"}],\"scattergeo\":[{\"marker\":{\"colorbar\":{\"outlinewidth\":0,\"ticks\":\"\"}},\"type\":\"scattergeo\"}],\"scattergl\":[{\"marker\":{\"colorbar\":{\"outlinewidth\":0,\"ticks\":\"\"}},\"type\":\"scattergl\"}],\"scattermapbox\":[{\"marker\":{\"colorbar\":{\"outlinewidth\":0,\"ticks\":\"\"}},\"type\":\"scattermapbox\"}],\"scatterpolar\":[{\"marker\":{\"colorbar\":{\"outlinewidth\":0,\"ticks\":\"\"}},\"type\":\"scatterpolar\"}],\"scatterpolargl\":[{\"marker\":{\"colorbar\":{\"outlinewidth\":0,\"ticks\":\"\"}},\"type\":\"scatterpolargl\"}],\"scatterternary\":[{\"marker\":{\"colorbar\":{\"outlinewidth\":0,\"ticks\":\"\"}},\"type\":\"scatterternary\"}],\"surface\":[{\"colorbar\":{\"outlinewidth\":0,\"ticks\":\"\"},\"colorscale\":[[0.0,\"#0d0887\"],[0.1111111111111111,\"#46039f\"],[0.2222222222222222,\"#7201a8\"],[0.3333333333333333,\"#9c179e\"],[0.4444444444444444,\"#bd3786\"],[0.5555555555555556,\"#d8576b\"],[0.6666666666666666,\"#ed7953\"],[0.7777777777777778,\"#fb9f3a\"],[0.8888888888888888,\"#fdca26\"],[1.0,\"#f0f921\"]],\"type\":\"surface\"}],\"table\":[{\"cells\":{\"fill\":{\"color\":\"#EBF0F8\"},\"line\":{\"color\":\"white\"}},\"header\":{\"fill\":{\"color\":\"#C8D4E3\"},\"line\":{\"color\":\"white\"}},\"type\":\"table\"}]},\"layout\":{\"annotationdefaults\":{\"arrowcolor\":\"#2a3f5f\",\"arrowhead\":0,\"arrowwidth\":1},\"autotypenumbers\":\"strict\",\"coloraxis\":{\"colorbar\":{\"outlinewidth\":0,\"ticks\":\"\"}},\"colorscale\":{\"diverging\":[[0,\"#8e0152\"],[0.1,\"#c51b7d\"],[0.2,\"#de77ae\"],[0.3,\"#f1b6da\"],[0.4,\"#fde0ef\"],[0.5,\"#f7f7f7\"],[0.6,\"#e6f5d0\"],[0.7,\"#b8e186\"],[0.8,\"#7fbc41\"],[0.9,\"#4d9221\"],[1,\"#276419\"]],\"sequential\":[[0.0,\"#0d0887\"],[0.1111111111111111,\"#46039f\"],[0.2222222222222222,\"#7201a8\"],[0.3333333333333333,\"#9c179e\"],[0.4444444444444444,\"#bd3786\"],[0.5555555555555556,\"#d8576b\"],[0.6666666666666666,\"#ed7953\"],[0.7777777777777778,\"#fb9f3a\"],[0.8888888888888888,\"#fdca26\"],[1.0,\"#f0f921\"]],\"sequentialminus\":[[0.0,\"#0d0887\"],[0.1111111111111111,\"#46039f\"],[0.2222222222222222,\"#7201a8\"],[0.3333333333333333,\"#9c179e\"],[0.4444444444444444,\"#bd3786\"],[0.5555555555555556,\"#d8576b\"],[0.6666666666666666,\"#ed7953\"],[0.7777777777777778,\"#fb9f3a\"],[0.8888888888888888,\"#fdca26\"],[1.0,\"#f0f921\"]]},\"colorway\":[\"#636efa\",\"#EF553B\",\"#00cc96\",\"#ab63fa\",\"#FFA15A\",\"#19d3f3\",\"#FF6692\",\"#B6E880\",\"#FF97FF\",\"#FECB52\"],\"font\":{\"color\":\"#2a3f5f\"},\"geo\":{\"bgcolor\":\"white\",\"lakecolor\":\"white\",\"landcolor\":\"#E5ECF6\",\"showlakes\":true,\"showland\":true,\"subunitcolor\":\"white\"},\"hoverlabel\":{\"align\":\"left\"},\"hovermode\":\"closest\",\"mapbox\":{\"style\":\"light\"},\"paper_bgcolor\":\"white\",\"plot_bgcolor\":\"#E5ECF6\",\"polar\":{\"angularaxis\":{\"gridcolor\":\"white\",\"linecolor\":\"white\",\"ticks\":\"\"},\"bgcolor\":\"#E5ECF6\",\"radialaxis\":{\"gridcolor\":\"white\",\"linecolor\":\"white\",\"ticks\":\"\"}},\"scene\":{\"xaxis\":{\"backgroundcolor\":\"#E5ECF6\",\"gridcolor\":\"white\",\"gridwidth\":2,\"linecolor\":\"white\",\"showbackground\":true,\"ticks\":\"\",\"zerolinecolor\":\"white\"},\"yaxis\":{\"backgroundcolor\":\"#E5ECF6\",\"gridcolor\":\"white\",\"gridwidth\":2,\"linecolor\":\"white\",\"showbackground\":true,\"ticks\":\"\",\"zerolinecolor\":\"white\"},\"zaxis\":{\"backgroundcolor\":\"#E5ECF6\",\"gridcolor\":\"white\",\"gridwidth\":2,\"linecolor\":\"white\",\"showbackground\":true,\"ticks\":\"\",\"zerolinecolor\":\"white\"}},\"shapedefaults\":{\"line\":{\"color\":\"#2a3f5f\"}},\"ternary\":{\"aaxis\":{\"gridcolor\":\"white\",\"linecolor\":\"white\",\"ticks\":\"\"},\"baxis\":{\"gridcolor\":\"white\",\"linecolor\":\"white\",\"ticks\":\"\"},\"bgcolor\":\"#E5ECF6\",\"caxis\":{\"gridcolor\":\"white\",\"linecolor\":\"white\",\"ticks\":\"\"}},\"title\":{\"x\":0.05},\"xaxis\":{\"automargin\":true,\"gridcolor\":\"white\",\"linecolor\":\"white\",\"ticks\":\"\",\"title\":{\"standoff\":15},\"zerolinecolor\":\"white\",\"zerolinewidth\":2},\"yaxis\":{\"automargin\":true,\"gridcolor\":\"white\",\"linecolor\":\"white\",\"ticks\":\"\",\"title\":{\"standoff\":15},\"zerolinecolor\":\"white\",\"zerolinewidth\":2}}}},                        {\"responsive\": true}                    ).then(function(){\n",
              "                            \n",
              "var gd = document.getElementById('31e3e182-89f1-4ec3-b290-7020f370306c');\n",
              "var x = new MutationObserver(function (mutations, observer) {{\n",
              "        var display = window.getComputedStyle(gd).display;\n",
              "        if (!display || display === 'none') {{\n",
              "            console.log([gd, 'removed!']);\n",
              "            Plotly.purge(gd);\n",
              "            observer.disconnect();\n",
              "        }}\n",
              "}});\n",
              "\n",
              "// Listen for the removal of the full notebook cells\n",
              "var notebookContainer = gd.closest('#notebook-container');\n",
              "if (notebookContainer) {{\n",
              "    x.observe(notebookContainer, {childList: true});\n",
              "}}\n",
              "\n",
              "// Listen for the clearing of the current output cell\n",
              "var outputEl = gd.closest('.output');\n",
              "if (outputEl) {{\n",
              "    x.observe(outputEl, {childList: true});\n",
              "}}\n",
              "\n",
              "                        })                };                            </script>        </div>\n",
              "</body>\n",
              "</html>"
            ]
          },
          "metadata": {}
        }
      ]
    },
    {
      "cell_type": "code",
      "source": [
        "y_true = 100 + 20 * np.random.randn(1000)\n",
        "y_pred = y_true + 10 * np.random.randn(1000)\n",
        "\n",
        "results = pd.DataFrame({'y_true': y_true, 'y_pred': y_pred})\n",
        "results['error'] = results['y_true'] - results['y_pred']\n",
        "\n",
        "px.histogram(results, x='error', nbins=50, width=800)"
      ],
      "metadata": {
        "colab": {
          "base_uri": "https://localhost:8080/",
          "height": 542
        },
        "id": "ztITZLQDoeL2",
        "outputId": "1f45b9ff-4391-4ca1-9be9-d4e215b8099a"
      },
      "execution_count": 22,
      "outputs": [
        {
          "output_type": "display_data",
          "data": {
            "text/html": [
              "<html>\n",
              "<head><meta charset=\"utf-8\" /></head>\n",
              "<body>\n",
              "    <div>            <script src=\"https://cdnjs.cloudflare.com/ajax/libs/mathjax/2.7.5/MathJax.js?config=TeX-AMS-MML_SVG\"></script><script type=\"text/javascript\">if (window.MathJax) {MathJax.Hub.Config({SVG: {font: \"STIX-Web\"}});}</script>                <script type=\"text/javascript\">window.PlotlyConfig = {MathJaxConfig: 'local'};</script>\n",
              "        <script src=\"https://cdn.plot.ly/plotly-2.8.3.min.js\"></script>                <div id=\"375b7e2e-9b6f-4c2f-b20d-59e90b68ca34\" class=\"plotly-graph-div\" style=\"height:525px; width:800px;\"></div>            <script type=\"text/javascript\">                                    window.PLOTLYENV=window.PLOTLYENV || {};                                    if (document.getElementById(\"375b7e2e-9b6f-4c2f-b20d-59e90b68ca34\")) {                    Plotly.newPlot(                        \"375b7e2e-9b6f-4c2f-b20d-59e90b68ca34\",                        [{\"alignmentgroup\":\"True\",\"bingroup\":\"x\",\"hovertemplate\":\"error=%{x}<br>count=%{y}<extra></extra>\",\"legendgroup\":\"\",\"marker\":{\"color\":\"#636efa\",\"pattern\":{\"shape\":\"\"}},\"name\":\"\",\"nbinsx\":50,\"offsetgroup\":\"\",\"orientation\":\"v\",\"showlegend\":false,\"x\":[0.4692057887918395,-4.770408272231208,-0.7682189106025561,12.829922241885697,-9.962668194471398,4.937565831613128,15.565818986597506,4.281151609659119,-15.007597906343108,-8.502217421134937,3.4865213440785965,3.4925770431842835,3.2163505121738325,-20.767479835608412,-3.8193545223155354,-4.300416471910694,-10.302834540318429,-2.3878915902651414,2.5904214582070324,1.963498490849787,0.7160125941406363,0.3722223650984091,-7.276295436369793,-0.5194588580729942,-7.326400772155793,0.80716580108583,-0.7863519031609059,19.98200684532108,-9.16327674702481,-3.4648847589799203,-9.98010109859652,28.96255378193689,-20.883747047807276,1.3958962815517424,-11.081828167375164,10.399059271255311,-6.127739050625706,10.534155631736567,6.237689606958057,-19.140313538667854,1.9068240076334675,-2.1743287317972317,-8.700677306887542,-4.9568188797260575,-1.504189051435759,-3.649610024662252,-24.034155852382753,0.5761879703358517,-2.010990467149682,-10.506543960076115,-11.05525932957984,-11.870303055603799,-6.3873022202918435,11.430049127304834,-16.33431532301097,11.463453930186887,-3.0263546523903386,7.542758500193585,0.6413834659299198,-3.2876241030348012,-3.213572154502728,-4.219207542352848,-16.137112690586463,-4.5353430151398015,2.4415663529064915,-9.640871682883585,-11.894704889246398,12.27607815136993,-5.974000698498585,-7.0117274231089795,2.9756350335999144,-13.757068133116206,1.5005558703252717,-1.255764534715425,1.730718242838691,-0.1557904758146691,10.962750868952014,14.400508825942943,-15.945050632249718,8.46961348318328,9.913923494563065,21.533901136037144,6.389617476895026,13.230897934074989,-16.420151601363685,-10.098170893426342,6.881503451777235,-22.52435805344308,-9.817654869915941,3.248313835086222,24.994057148735735,-22.90942572590741,13.89572466763596,16.453987469568915,-10.225704320096398,-24.397524063392737,-13.842728185105187,-5.639091200523609,-5.947543416652863,-8.53415558780307,-7.589285897867654,-2.8119142396937633,-1.042011039518755,0.6259312789952247,7.539645888666769,2.80675076866774,16.92956814195385,0.9833962679475121,9.88591107150917,11.0358931721577,-1.7989415115347782,-13.920022863445993,-9.183166060023126,15.705006036231765,9.896281365703373,-9.407711879882157,9.824873935383096,2.246331499970239,-5.500520990245519,9.683444548636352,-1.0537550614595972,13.34025494918204,6.013676439512139,-3.1978193414253724,15.929937335316694,-4.4047473796039895,0.19637798926680716,-5.524899544171475,-2.2391413406466114,-13.64140429973844,-1.2522450264790734,4.294055411252529,-1.2229750303228428,-5.432980290363886,-0.48860070325704896,-0.4059169120388191,7.019916878067548,6.629009175509481,14.026052717996933,-17.495767431869382,12.438632353912851,6.929051977959077,7.184072655691978,-8.949243769444408,2.949496782920278,-12.477420726737336,6.734906242438683,-2.7899416222380182,8.35347053259757,-21.45149127773388,11.875984190295128,-3.0982071022702726,-6.337768809320991,-4.137990974514977,1.8528765887770788,1.2982069973342618,-0.43811471979110195,1.4700200162848915,-9.638791167949094,-22.105230015913506,5.574917850078336,13.698029795790774,0.8828204835125462,-25.797093376543188,8.036745679697304,-16.39116805444067,-16.77700814076441,5.5358824170799465,-5.689830791852756,-16.283966231285376,3.7912774098748656,2.0358036010236162,5.816809139486438,10.147567306928664,6.492775450660076,12.23940266762257,-0.34083468259225924,7.699732310586413,-2.3378591179074704,15.558956462036278,-3.3088023221445724,-8.335289616089241,19.937356425714555,-3.74056569847572,-12.27668992473292,12.096410186912053,-16.725723868377045,-4.190190093660448,7.050118557584085,0.5576907765770613,-5.583269125217228,-0.7600539141241143,-5.3875599244636945,9.20673593079367,-1.6936082403607742,14.1371449690498,1.1122606134869955,9.039076414647894,7.35529942589767,-12.360931752104378,-10.913101205942695,-6.09138120907177,10.923127646725789,3.1640844969480213,-12.130976999791827,-1.4171691363990533,-23.193295399816947,-3.93317839394372,-1.9204911649003122,3.0911646420250207,-1.3354090478228215,1.5246983638054417,-7.081086766885903,-9.567023167945848,7.859894605079489,13.312329535577781,18.362053731032972,-5.079913269125441,11.033666061738728,21.528905929524825,-3.8857860453096436,-24.929995174327914,0.060709115398935865,-8.384907744516411,-0.8182935854756437,0.988896531911422,-9.19076482987768,2.902745441886509,-2.673923140719026,-3.216978061960134,6.680904536430489,-9.920423495365227,1.7495975669540798,7.557451594928452,-5.365098435704041,8.984679817910376,-0.28181157369128584,0.09118996644203037,-10.858955658315779,-4.7469823287995325,0.25026958745144157,-8.17766299200288,-13.902075490173132,-5.5781030635186255,-0.10352619843381206,13.1183623235016,10.651136630753726,3.0522470435466715,6.095122021592829,1.8697130298544664,-0.5664992489710698,-5.296927543567307,0.7049877805909119,-4.865016438262018,-0.6447441481011964,19.754665663538717,9.393353938187545,1.4408755572161596,12.09694742841107,-5.999287299962049,-15.307508323436977,-12.187618516973174,2.1344287093020853,-14.907261368499519,-1.4866745720211156,3.370859711180387,6.134026635409398,3.024696864881278,3.881768185412284,-1.704162223754878,-1.6057398104986476,-0.030460201534140197,-4.369381697463496,-11.906462747863415,-9.495541354413234,14.848979684499042,25.539211349019553,-9.343199112392739,13.66878698415421,2.2476540189268377,11.701130260593601,18.01980437580019,-5.414627282047874,-7.591551603026474,5.7651040072671975,25.910422921449097,5.46244448252483,-3.918040054025468,14.789115687741287,-1.833599197791557,0.15309849172994916,-5.792914996010893,-1.1958036841415378,9.73068940881555,-11.965715016644921,1.5852957302697064,0.2730453950993166,9.332679590731956,4.432822511915106,8.84802714026901,1.7294605992342298,-17.11708480142343,13.719011429313568,16.13561397876741,-14.711703274936099,2.0932367715186615,6.690727386599164,-10.39904687396077,6.056155397368627,-18.260097135469366,-6.779258713392693,4.879114081457033,-21.57308213265503,6.057149230033389,-7.420953720093067,-2.9929258040649245,-13.01741289398798,-15.615111967268518,-0.3200414906576725,7.5341787034618335,-4.599721429391167,6.777153697521058,-20.13387247526623,-1.3653533108273734,3.653215513121083,-1.846803058649087,13.471262895296967,9.716140385106513,-12.004139079444258,6.568942789713958,10.469109826819398,-5.366527525272858,-11.857041546629972,-7.189533106650671,-9.960476858058158,7.5679508856946,14.21810666741844,-15.01333651955487,3.226798388421358,2.508330164550472,-13.281941418490575,-5.562300094006602,-4.558877720816071,-21.650023449010845,6.435182303801426,-9.278401280812375,-0.5701312489708528,-2.685922788632567,-15.284684264125318,-5.078357562896244,-5.382960790496327,-10.725073373098013,3.649527295428854,8.392096673390057,10.448091940210332,19.663565893760023,-20.562071299403215,11.03208365721683,2.2125362358577263,2.7681329988892074,-3.074066978091011,-8.157372125392968,-8.604734883597459,5.830774385689381,1.6712171378641187,-2.825799504882994,2.4869112618354734,-16.073455760199934,-4.909749516382519,-7.348777860498174,-6.628812686674124,-11.734738574853253,-1.8102155870370709,12.96831947955846,-3.996879517526409,6.5135689379182935,5.286166817497573,-5.863640187550928,-12.382830714336365,-0.2127157673606206,-3.0883301259896427,-17.022149446352387,-2.407531794885685,-26.016831141803962,-5.655096456315448,17.607627591558185,-7.533416211045321,-3.8115838488277802,-12.897527540827454,-6.731813512699588,1.384559839837749,12.242982362893656,2.090232572860259,8.505204542092997,5.805234498047227,-5.8857840442060905,-16.699045043514076,-3.9467152982298046,11.958830620351847,-4.446026682201406,-11.966314866456514,6.097829043193819,1.3401716667291765,-0.14688194729197335,7.848983130822404,-6.482804338438598,1.20948148607782,-4.195324439070276,8.87492177802099,4.3745830032341075,-7.2238135782777135,3.7283315209176635,-17.269638512334055,3.9963618561460237,-2.2468472575188656,-9.325908318730896,14.183657329330316,17.60808811980776,15.256563145700952,-12.62584103427183,5.518581458924473,-25.58199285668252,5.642475986573885,-1.8455130319703699,-15.421099525678756,-20.060928881591224,-20.615035766363974,-12.083662305931426,-10.240625258114619,-5.925269492011836,-7.783610761666381,5.5118571632853275,8.18198883422307,0.033744574109519476,1.7018462252492839,4.532280493272751,-6.963874474567149,-9.553052085705104,-0.8840688629184683,-14.775300810552622,11.416891141335043,1.936594592797178,7.1682232060280455,18.6653661707306,0.8268068584269912,1.2174750838328379,-15.134497432421313,-6.308116845547772,10.241868243292046,-18.54092566334188,-12.210336955253524,-5.820977034686152,2.264840988498321,9.594392367234803,3.72206776071053,-10.887486197041866,-18.845863059346087,-15.432435282721883,4.888494217862743,11.19617433289011,-1.4088624691120373,17.68439365562851,-3.231677141847811,1.4760258629866883,4.660365018682427,15.94703067266795,-5.136001065697172,5.327008396619121,11.699168357102877,28.722622132816497,0.2751490505063572,-17.722515966697443,-16.6125921454787,4.570962565862715,6.022120603617807,-4.687742560750237,9.983854391882915,-3.0179189981946593,-7.660802783846904,-12.269332238843077,1.001540764799529,2.0367375017696645,8.779825867565606,8.268803540398608,2.264788919015274,-3.6736550681617786,-9.135846262332493,8.031789506803449,-14.92688568959521,2.7112360104256936,0.2136729434843545,7.472116791478243,24.242402602729413,-8.8404539636105,-7.3684389709243305,2.813275571182132,-0.6699071722487204,-5.159392177040999,15.625458568865426,5.290526773462943,-7.94264679621827,12.542894231692486,-2.935579321666296,13.565818046234043,-4.664299824335259,0.35641482297483407,16.151318159055094,-11.647393544571713,7.345915767980493,8.102524370143811,-2.0056919723094353,-11.48637349428715,10.158218189783966,-0.6167984984797101,-4.2881650033057355,-6.931056072631435,-1.764415552772249,3.670278390833218,8.275902206487203,-0.8614388304637544,10.721390119856068,29.21350483494607,-4.365598041576675,-9.039348410861948,23.62932435541839,10.097307047099378,-6.191542610051982,-20.574954697116993,-0.20793707675407802,7.280029412291341,1.8289644110484033,-13.748764191481854,6.45964179124536,7.99192006650253,4.827435221820323,9.533286082587125,-1.2267031599479594,-16.246784584695604,-3.2307927311602924,2.523535021262873,2.9181126891554356,15.631908086966575,-8.83109777147159,0.7783719701280205,1.8047991359062507,-31.931075678448607,-2.9875290836568666,7.517910500951842,4.263575962055427,-11.484457091967556,-1.1327041053776412,14.382779783173675,-9.192289345752044,6.681440855389937,-18.732977762175466,-10.80048065714648,4.473218956587516,-12.810163617351122,-0.6785551052740288,-8.527736751222193,-4.847328172944742,8.463566549908734,6.435498323174613,-10.299608175811613,3.3477533210654116,4.03648463241997,9.55122579349353,-4.235990655934614,-20.625249192431454,10.67532914254273,-0.24219456672757644,-14.122205554154277,0.7964139124571545,-4.523717962497344,10.623935281468789,-4.283070972076487,1.8714426500454877,-9.857299956798627,-11.873860515647507,-25.895636420186136,-5.796331732135769,-3.257963165821664,-1.9438430157733535,3.5316629281068828,-3.38483843461691,2.9540141013902996,-1.684609762696141,-13.17597535607959,10.065425652796407,-11.39878561129045,-13.171150673398657,1.1806852699107822,21.21854899008595,6.078219870944324,-12.96994546561109,0.22868062298881853,9.993022322949102,5.04774921228217,-8.406200265045527,-5.467335682013797,2.3893209916969482,3.6682441181468732,3.9175814904382236,9.224101844985029,-16.153756894694425,3.2232046921133986,-12.171585208254967,-15.213160519224516,-9.983108981479603,4.316203127180486,-4.037300903366102,0.24195606390915714,9.037018607301277,-3.243592817216026,11.79039791159802,-11.876793884615637,4.646172972983933,-2.0115965587283995,-2.832878715461419,2.5890497370407672,-5.866938014752748,4.749036566225243,-8.712972974572438,13.45979680246748,-1.2637957954641195,-19.389289990582853,10.00331324605574,6.7774497052485145,-5.13907849658915,-1.7958178193959782,-3.5063009927355893,-4.891871301476641,-6.3472146856177005,-11.096998419562226,-4.098186569285133,2.41257654618542,-6.7257370120273094,-18.998819348952168,1.3263374638257375,9.745293046706422,-11.070806692869724,1.203811639535985,21.726695460140363,-8.474216771504217,5.353281859539223,0.9053328230416042,-3.3198033056901437,-1.904996797790659,-7.094518171390391,4.354863705698435,-5.131057981760833,2.5954667758391707,-7.388104808875028,-6.153674840130535,9.354387020445955,-10.859821161750318,5.359634451140479,-8.080577982811448,-3.6728731340134004,-18.381836767951228,2.2346598237185162,3.4931679611819817,0.19419605887732416,3.0317978283427536,-7.999419019420486,16.16310608436588,10.536824191463538,10.678029215791923,-9.50307591973575,-17.106133725819262,1.0444921853747147,1.6882172319001114,-0.7005216311318208,-11.6187830260819,9.273531341905738,-2.383689827347851,-9.7519762978243,-5.010941699398458,-1.8958161659874406,-10.01046092567141,27.032322929992375,-6.778753195309079,6.540756831274237,18.30632896856457,-5.112025995249809,-13.736585451629566,1.3744851462769248,-9.528745472029385,-16.122782579886447,-13.149144535840477,-16.39964529371393,-7.421274910718921,-0.7543363890159185,16.01965811897169,2.4606248812994806,8.432465953161923,-21.70942717497813,1.7588581243233534,-1.2320480678448575,-5.514853760404662,-0.43602446372453585,-16.950510404307522,6.2264936173445165,-1.9460745523724228,7.424705856980481,13.200225112207058,6.117690909052854,0.37036797048412495,4.293022245172594,6.924209798738559,14.063174636718344,0.831055726286948,15.047203740310025,-7.600559636896023,-0.8243975293450347,14.57551499464931,3.092090770498629,7.521564055905827,-3.19174510419181,-13.40450446023145,18.751724696457444,-1.1502607914741674,1.601327955666406,-6.713400764504655,-2.1319662823768937,7.519693317388189,3.1905393566661786,7.960258568034888,-10.760071385985981,-0.21311648671942862,-19.01190685753008,0.6066081381462141,7.084067669104627,15.137143926128275,18.031396762559453,15.841359430054894,-2.671266510114833,-5.08725023229934,15.811907020321328,-8.950383140761147,4.830610516834398,-1.4679301198554953,-16.12220628255423,-8.968393158655317,2.685306479058326,8.91192225415287,21.518154013293056,7.1915331924242025,2.1113023882769397,9.871795271511843,1.3125696709230539,-0.7685188295876912,2.2485598180807926,6.5000258082345965,-1.6865467196672768,-4.419406495694091,10.903990774428465,-14.109323797462707,0.9858813228426158,-0.1884962294484751,-7.082144232565568,-2.332161312635023,-9.531366339132447,-2.8712416520182416,6.124373746404373,-3.61503525206102,11.437262073206625,-1.0855970577652272,0.3322999064446037,2.081168572725403,1.2853751143893106,18.8184904549764,5.487249077409615,-0.9284490114111463,-1.5985639199739978,10.276751409259589,-12.65707840864701,8.661748482145015,-9.69457200526736,-4.271943618716847,6.4622730984380325,-17.753108926095123,11.9363683175648,-9.191541736100021,-10.005823180429786,6.706202090766453,-13.92465300064329,2.500465145989523,-2.8869362927985662,-2.6032183877122037,1.3430874147054794,-8.108082731597818,-7.934887205522131,17.48531973238181,-13.04340242878152,16.624919880356742,-10.325462043416579,-11.26705136827583,10.909664302151981,4.108142879545852,11.057046684859358,2.1492103028873544,3.0803428418574157,-7.796605322693395,-13.103087461196083,-13.956838107899557,5.621680265783027,2.092218737445279,16.834381922209502,8.05870066496189,-9.648516330974587,-16.155828235482318,12.343488718799222,5.9246425915289365,0.2640575695892693,-2.8016115881960673,8.096035199216459,-4.240610444640893,4.7383934707091555,0.1445227087827874,-5.462842480036997,-0.06422269810937564,4.363858905265687,1.0960980392583082,0.883629592053353,3.700110298821272,2.58796062667102,-15.986471705047165,-5.6091944794123805,2.9548031802916057,-6.969544045107355,3.3381948975601006,-11.73124637586642,-3.696421921980928,1.0730214400422824,-4.477169258102776,15.708761520684995,11.267674689098058,11.939250063990556,-1.4294309476370586,-17.325149994850918,-22.31300146192632,-6.380511014407574,-5.008444749444578,18.010577341527394,5.4267379973402115,7.877837519082391,6.20847598251116,1.6814381858478953,4.7209057769712786,19.79299810375788,-7.479102561175338,10.727430257398069,-2.392468641111492,-20.740826697499728,9.19384591586423,25.302875227463296,2.8600422188011123,-11.009596349985713,-19.583474542205934,12.295495944524163,-4.9669922323652145,4.65310456780054,1.0594835430413596,-26.443433470170348,15.029703283951534,-2.5373966149457345,-4.676931717654327,-10.857863249393475,-0.9798315347089499,-3.0805053950410297,3.9164856742179097,-2.691269412451078,3.43192275497411,-6.21571889856051,3.6961033604363394,-3.771003939021867,0.2926281368497854,-11.260502507721682,0.5139372358848675,17.73032468206881,-12.619215007139914,9.057323008626184,6.537663386488191,5.956612940434923,-13.744380931708179,21.35674213978696,-31.377485336599932,-10.56056809066051,-2.2323891412915913,0.5489400061628658,-2.8555407485765727,-5.211224283793385,-6.452155859500564,-5.5560446600344875,-0.895806812552479,1.973384203073266,1.5127328365351218,1.9490828035268066,-11.337700968670646,-5.935567222808615,29.403886346642807,-6.559007765297608,-1.9473619471877441,0.18708756445897734,3.885184530888857,-11.24112719986013,-9.475264621228582,7.728776678236088,-4.070522871245345,9.716567345412855,13.796181647889298,6.267172245899644,-8.623934723827588,-9.531250453760862,-5.130854200972934,-7.250957868479958,-5.161782871149583,6.414815952229517,-4.319225446739409,-8.004095252276826,-7.542913298135737,-11.889133714746436,-7.083038472010642,-3.5144820754158275,-10.701502383164268,0.2652125924905988,8.818746512277173,1.6306696394376416,7.449026448064487,6.7517827497438105,1.4451867071551732,7.924199209999614,3.0796152963904007,18.936146669537848,-2.13293707372938,-0.012054753622237513,8.170886310681908,-6.592456684324048,-9.375701376265582,16.075598643689744,7.627247785662149,7.691423497872989,9.399031011088653,-8.294748419317472,1.9382613877280335,2.6451484131061136,20.038623644067528,-6.35418030209226,12.392583948534721,-0.599326302663286,-2.773769379581921,-13.606585958386518,13.088203991191108,30.195121558208257,-1.8384954475369426,-18.005111815108535,-12.389463529394376,-2.0965941527462633,4.916361856320478,-8.071225966373106,9.735461997044688,-4.763577693562198,-5.054701591666273,-10.6020990749888,-27.596600389110762,-3.9241596717876774,5.089636257074986,0.25574312191994863,17.69075904889118,6.947131310890583,4.092824381131038,5.240883979345924,-1.5235487203372173,8.224199323822006,-11.210306673244702,-0.0020706491819737494,0.0930032113861472,3.278947165129182,-1.5519068385897867,-8.250982646676349,8.671302157109011,6.581164890752561,3.0372602877666424,13.458709234732154,8.192578597214975,4.762208735446592,-8.743891807127284,-2.6256132900192455,-1.9358991136754469,-8.508979621679714,1.3737178839939688,-3.9046484992888963,1.0322175293249671,-2.653623493996278,5.82758657611582,24.388171582764286,1.342791621863043,-14.227481360999406,-9.262154022415928],\"xaxis\":\"x\",\"yaxis\":\"y\",\"type\":\"histogram\"}],                        {\"template\":{\"data\":{\"bar\":[{\"error_x\":{\"color\":\"#2a3f5f\"},\"error_y\":{\"color\":\"#2a3f5f\"},\"marker\":{\"line\":{\"color\":\"#E5ECF6\",\"width\":0.5},\"pattern\":{\"fillmode\":\"overlay\",\"size\":10,\"solidity\":0.2}},\"type\":\"bar\"}],\"barpolar\":[{\"marker\":{\"line\":{\"color\":\"#E5ECF6\",\"width\":0.5},\"pattern\":{\"fillmode\":\"overlay\",\"size\":10,\"solidity\":0.2}},\"type\":\"barpolar\"}],\"carpet\":[{\"aaxis\":{\"endlinecolor\":\"#2a3f5f\",\"gridcolor\":\"white\",\"linecolor\":\"white\",\"minorgridcolor\":\"white\",\"startlinecolor\":\"#2a3f5f\"},\"baxis\":{\"endlinecolor\":\"#2a3f5f\",\"gridcolor\":\"white\",\"linecolor\":\"white\",\"minorgridcolor\":\"white\",\"startlinecolor\":\"#2a3f5f\"},\"type\":\"carpet\"}],\"choropleth\":[{\"colorbar\":{\"outlinewidth\":0,\"ticks\":\"\"},\"type\":\"choropleth\"}],\"contour\":[{\"colorbar\":{\"outlinewidth\":0,\"ticks\":\"\"},\"colorscale\":[[0.0,\"#0d0887\"],[0.1111111111111111,\"#46039f\"],[0.2222222222222222,\"#7201a8\"],[0.3333333333333333,\"#9c179e\"],[0.4444444444444444,\"#bd3786\"],[0.5555555555555556,\"#d8576b\"],[0.6666666666666666,\"#ed7953\"],[0.7777777777777778,\"#fb9f3a\"],[0.8888888888888888,\"#fdca26\"],[1.0,\"#f0f921\"]],\"type\":\"contour\"}],\"contourcarpet\":[{\"colorbar\":{\"outlinewidth\":0,\"ticks\":\"\"},\"type\":\"contourcarpet\"}],\"heatmap\":[{\"colorbar\":{\"outlinewidth\":0,\"ticks\":\"\"},\"colorscale\":[[0.0,\"#0d0887\"],[0.1111111111111111,\"#46039f\"],[0.2222222222222222,\"#7201a8\"],[0.3333333333333333,\"#9c179e\"],[0.4444444444444444,\"#bd3786\"],[0.5555555555555556,\"#d8576b\"],[0.6666666666666666,\"#ed7953\"],[0.7777777777777778,\"#fb9f3a\"],[0.8888888888888888,\"#fdca26\"],[1.0,\"#f0f921\"]],\"type\":\"heatmap\"}],\"heatmapgl\":[{\"colorbar\":{\"outlinewidth\":0,\"ticks\":\"\"},\"colorscale\":[[0.0,\"#0d0887\"],[0.1111111111111111,\"#46039f\"],[0.2222222222222222,\"#7201a8\"],[0.3333333333333333,\"#9c179e\"],[0.4444444444444444,\"#bd3786\"],[0.5555555555555556,\"#d8576b\"],[0.6666666666666666,\"#ed7953\"],[0.7777777777777778,\"#fb9f3a\"],[0.8888888888888888,\"#fdca26\"],[1.0,\"#f0f921\"]],\"type\":\"heatmapgl\"}],\"histogram\":[{\"marker\":{\"pattern\":{\"fillmode\":\"overlay\",\"size\":10,\"solidity\":0.2}},\"type\":\"histogram\"}],\"histogram2d\":[{\"colorbar\":{\"outlinewidth\":0,\"ticks\":\"\"},\"colorscale\":[[0.0,\"#0d0887\"],[0.1111111111111111,\"#46039f\"],[0.2222222222222222,\"#7201a8\"],[0.3333333333333333,\"#9c179e\"],[0.4444444444444444,\"#bd3786\"],[0.5555555555555556,\"#d8576b\"],[0.6666666666666666,\"#ed7953\"],[0.7777777777777778,\"#fb9f3a\"],[0.8888888888888888,\"#fdca26\"],[1.0,\"#f0f921\"]],\"type\":\"histogram2d\"}],\"histogram2dcontour\":[{\"colorbar\":{\"outlinewidth\":0,\"ticks\":\"\"},\"colorscale\":[[0.0,\"#0d0887\"],[0.1111111111111111,\"#46039f\"],[0.2222222222222222,\"#7201a8\"],[0.3333333333333333,\"#9c179e\"],[0.4444444444444444,\"#bd3786\"],[0.5555555555555556,\"#d8576b\"],[0.6666666666666666,\"#ed7953\"],[0.7777777777777778,\"#fb9f3a\"],[0.8888888888888888,\"#fdca26\"],[1.0,\"#f0f921\"]],\"type\":\"histogram2dcontour\"}],\"mesh3d\":[{\"colorbar\":{\"outlinewidth\":0,\"ticks\":\"\"},\"type\":\"mesh3d\"}],\"parcoords\":[{\"line\":{\"colorbar\":{\"outlinewidth\":0,\"ticks\":\"\"}},\"type\":\"parcoords\"}],\"pie\":[{\"automargin\":true,\"type\":\"pie\"}],\"scatter\":[{\"marker\":{\"colorbar\":{\"outlinewidth\":0,\"ticks\":\"\"}},\"type\":\"scatter\"}],\"scatter3d\":[{\"line\":{\"colorbar\":{\"outlinewidth\":0,\"ticks\":\"\"}},\"marker\":{\"colorbar\":{\"outlinewidth\":0,\"ticks\":\"\"}},\"type\":\"scatter3d\"}],\"scattercarpet\":[{\"marker\":{\"colorbar\":{\"outlinewidth\":0,\"ticks\":\"\"}},\"type\":\"scattercarpet\"}],\"scattergeo\":[{\"marker\":{\"colorbar\":{\"outlinewidth\":0,\"ticks\":\"\"}},\"type\":\"scattergeo\"}],\"scattergl\":[{\"marker\":{\"colorbar\":{\"outlinewidth\":0,\"ticks\":\"\"}},\"type\":\"scattergl\"}],\"scattermapbox\":[{\"marker\":{\"colorbar\":{\"outlinewidth\":0,\"ticks\":\"\"}},\"type\":\"scattermapbox\"}],\"scatterpolar\":[{\"marker\":{\"colorbar\":{\"outlinewidth\":0,\"ticks\":\"\"}},\"type\":\"scatterpolar\"}],\"scatterpolargl\":[{\"marker\":{\"colorbar\":{\"outlinewidth\":0,\"ticks\":\"\"}},\"type\":\"scatterpolargl\"}],\"scatterternary\":[{\"marker\":{\"colorbar\":{\"outlinewidth\":0,\"ticks\":\"\"}},\"type\":\"scatterternary\"}],\"surface\":[{\"colorbar\":{\"outlinewidth\":0,\"ticks\":\"\"},\"colorscale\":[[0.0,\"#0d0887\"],[0.1111111111111111,\"#46039f\"],[0.2222222222222222,\"#7201a8\"],[0.3333333333333333,\"#9c179e\"],[0.4444444444444444,\"#bd3786\"],[0.5555555555555556,\"#d8576b\"],[0.6666666666666666,\"#ed7953\"],[0.7777777777777778,\"#fb9f3a\"],[0.8888888888888888,\"#fdca26\"],[1.0,\"#f0f921\"]],\"type\":\"surface\"}],\"table\":[{\"cells\":{\"fill\":{\"color\":\"#EBF0F8\"},\"line\":{\"color\":\"white\"}},\"header\":{\"fill\":{\"color\":\"#C8D4E3\"},\"line\":{\"color\":\"white\"}},\"type\":\"table\"}]},\"layout\":{\"annotationdefaults\":{\"arrowcolor\":\"#2a3f5f\",\"arrowhead\":0,\"arrowwidth\":1},\"autotypenumbers\":\"strict\",\"coloraxis\":{\"colorbar\":{\"outlinewidth\":0,\"ticks\":\"\"}},\"colorscale\":{\"diverging\":[[0,\"#8e0152\"],[0.1,\"#c51b7d\"],[0.2,\"#de77ae\"],[0.3,\"#f1b6da\"],[0.4,\"#fde0ef\"],[0.5,\"#f7f7f7\"],[0.6,\"#e6f5d0\"],[0.7,\"#b8e186\"],[0.8,\"#7fbc41\"],[0.9,\"#4d9221\"],[1,\"#276419\"]],\"sequential\":[[0.0,\"#0d0887\"],[0.1111111111111111,\"#46039f\"],[0.2222222222222222,\"#7201a8\"],[0.3333333333333333,\"#9c179e\"],[0.4444444444444444,\"#bd3786\"],[0.5555555555555556,\"#d8576b\"],[0.6666666666666666,\"#ed7953\"],[0.7777777777777778,\"#fb9f3a\"],[0.8888888888888888,\"#fdca26\"],[1.0,\"#f0f921\"]],\"sequentialminus\":[[0.0,\"#0d0887\"],[0.1111111111111111,\"#46039f\"],[0.2222222222222222,\"#7201a8\"],[0.3333333333333333,\"#9c179e\"],[0.4444444444444444,\"#bd3786\"],[0.5555555555555556,\"#d8576b\"],[0.6666666666666666,\"#ed7953\"],[0.7777777777777778,\"#fb9f3a\"],[0.8888888888888888,\"#fdca26\"],[1.0,\"#f0f921\"]]},\"colorway\":[\"#636efa\",\"#EF553B\",\"#00cc96\",\"#ab63fa\",\"#FFA15A\",\"#19d3f3\",\"#FF6692\",\"#B6E880\",\"#FF97FF\",\"#FECB52\"],\"font\":{\"color\":\"#2a3f5f\"},\"geo\":{\"bgcolor\":\"white\",\"lakecolor\":\"white\",\"landcolor\":\"#E5ECF6\",\"showlakes\":true,\"showland\":true,\"subunitcolor\":\"white\"},\"hoverlabel\":{\"align\":\"left\"},\"hovermode\":\"closest\",\"mapbox\":{\"style\":\"light\"},\"paper_bgcolor\":\"white\",\"plot_bgcolor\":\"#E5ECF6\",\"polar\":{\"angularaxis\":{\"gridcolor\":\"white\",\"linecolor\":\"white\",\"ticks\":\"\"},\"bgcolor\":\"#E5ECF6\",\"radialaxis\":{\"gridcolor\":\"white\",\"linecolor\":\"white\",\"ticks\":\"\"}},\"scene\":{\"xaxis\":{\"backgroundcolor\":\"#E5ECF6\",\"gridcolor\":\"white\",\"gridwidth\":2,\"linecolor\":\"white\",\"showbackground\":true,\"ticks\":\"\",\"zerolinecolor\":\"white\"},\"yaxis\":{\"backgroundcolor\":\"#E5ECF6\",\"gridcolor\":\"white\",\"gridwidth\":2,\"linecolor\":\"white\",\"showbackground\":true,\"ticks\":\"\",\"zerolinecolor\":\"white\"},\"zaxis\":{\"backgroundcolor\":\"#E5ECF6\",\"gridcolor\":\"white\",\"gridwidth\":2,\"linecolor\":\"white\",\"showbackground\":true,\"ticks\":\"\",\"zerolinecolor\":\"white\"}},\"shapedefaults\":{\"line\":{\"color\":\"#2a3f5f\"}},\"ternary\":{\"aaxis\":{\"gridcolor\":\"white\",\"linecolor\":\"white\",\"ticks\":\"\"},\"baxis\":{\"gridcolor\":\"white\",\"linecolor\":\"white\",\"ticks\":\"\"},\"bgcolor\":\"#E5ECF6\",\"caxis\":{\"gridcolor\":\"white\",\"linecolor\":\"white\",\"ticks\":\"\"}},\"title\":{\"x\":0.05},\"xaxis\":{\"automargin\":true,\"gridcolor\":\"white\",\"linecolor\":\"white\",\"ticks\":\"\",\"title\":{\"standoff\":15},\"zerolinecolor\":\"white\",\"zerolinewidth\":2},\"yaxis\":{\"automargin\":true,\"gridcolor\":\"white\",\"linecolor\":\"white\",\"ticks\":\"\",\"title\":{\"standoff\":15},\"zerolinecolor\":\"white\",\"zerolinewidth\":2}}},\"xaxis\":{\"anchor\":\"y\",\"domain\":[0.0,1.0],\"title\":{\"text\":\"error\"}},\"yaxis\":{\"anchor\":\"x\",\"domain\":[0.0,1.0],\"title\":{\"text\":\"count\"}},\"legend\":{\"tracegroupgap\":0},\"margin\":{\"t\":60},\"barmode\":\"relative\",\"width\":800},                        {\"responsive\": true}                    ).then(function(){\n",
              "                            \n",
              "var gd = document.getElementById('375b7e2e-9b6f-4c2f-b20d-59e90b68ca34');\n",
              "var x = new MutationObserver(function (mutations, observer) {{\n",
              "        var display = window.getComputedStyle(gd).display;\n",
              "        if (!display || display === 'none') {{\n",
              "            console.log([gd, 'removed!']);\n",
              "            Plotly.purge(gd);\n",
              "            observer.disconnect();\n",
              "        }}\n",
              "}});\n",
              "\n",
              "// Listen for the removal of the full notebook cells\n",
              "var notebookContainer = gd.closest('#notebook-container');\n",
              "if (notebookContainer) {{\n",
              "    x.observe(notebookContainer, {childList: true});\n",
              "}}\n",
              "\n",
              "// Listen for the clearing of the current output cell\n",
              "var outputEl = gd.closest('.output');\n",
              "if (outputEl) {{\n",
              "    x.observe(outputEl, {childList: true});\n",
              "}}\n",
              "\n",
              "                        })                };                            </script>        </div>\n",
              "</body>\n",
              "</html>"
            ]
          },
          "metadata": {}
        }
      ]
    },
    {
      "cell_type": "markdown",
      "source": [
        "#Metryki"
      ],
      "metadata": {
        "id": "m2wSc0qWpJ0Y"
      }
    },
    {
      "cell_type": "code",
      "source": [
        "def mean_absolute_error(y_true, y_pred):\n",
        "    return abs(y_true - y_pred).sum() / len(y_true)\n",
        "\n",
        "mean_absolute_error(y_true, y_pred)"
      ],
      "metadata": {
        "colab": {
          "base_uri": "https://localhost:8080/"
        },
        "id": "dNfXG8N2pKiN",
        "outputId": "3267e412-75c8-491d-c861-8cdf81452a29"
      },
      "execution_count": 23,
      "outputs": [
        {
          "output_type": "execute_result",
          "data": {
            "text/plain": [
              "7.87343930703447"
            ]
          },
          "metadata": {},
          "execution_count": 23
        }
      ]
    },
    {
      "cell_type": "code",
      "source": [
        "from sklearn.metrics import mean_absolute_error\n",
        "\n",
        "mean_absolute_error(y_true, y_pred)"
      ],
      "metadata": {
        "colab": {
          "base_uri": "https://localhost:8080/"
        },
        "id": "CR0-wDxFpMAp",
        "outputId": "0fdd8bea-2190-422b-e537-c7b4158c192e"
      },
      "execution_count": 24,
      "outputs": [
        {
          "output_type": "execute_result",
          "data": {
            "text/plain": [
              "7.87343930703447"
            ]
          },
          "metadata": {},
          "execution_count": 24
        }
      ]
    },
    {
      "cell_type": "code",
      "source": [
        "def mean_squared_error(y_true, y_pred):\n",
        "    return ((y_true - y_pred) ** 2).sum() / len(y_true)\n",
        "\n",
        "mean_squared_error(y_true, y_pred)"
      ],
      "metadata": {
        "colab": {
          "base_uri": "https://localhost:8080/"
        },
        "id": "KWk7ycShpR_I",
        "outputId": "d44d2949-8165-4980-a54d-060139977a66"
      },
      "execution_count": 25,
      "outputs": [
        {
          "output_type": "execute_result",
          "data": {
            "text/plain": [
              "99.70775360295171"
            ]
          },
          "metadata": {},
          "execution_count": 25
        }
      ]
    },
    {
      "cell_type": "code",
      "source": [
        "from sklearn.metrics import mean_squared_error\n",
        "\n",
        "mean_squared_error(y_true, y_pred)"
      ],
      "metadata": {
        "colab": {
          "base_uri": "https://localhost:8080/"
        },
        "id": "xwNly48WpUFw",
        "outputId": "3a60097e-c8fe-4b52-9d5c-77d220ffa9dc"
      },
      "execution_count": 26,
      "outputs": [
        {
          "output_type": "execute_result",
          "data": {
            "text/plain": [
              "99.70775360295171"
            ]
          },
          "metadata": {},
          "execution_count": 26
        }
      ]
    },
    {
      "cell_type": "code",
      "source": [
        "def root_mean_squared_error(y_true, y_pred):\n",
        "    return np.sqrt(((y_true - y_pred) ** 2).sum() / len(y_true))\n",
        "\n",
        "root_mean_squared_error(y_true, y_pred)"
      ],
      "metadata": {
        "colab": {
          "base_uri": "https://localhost:8080/"
        },
        "id": "lXEeDmRTpWDr",
        "outputId": "3883c403-7f01-4286-af64-0efc0bdc18ff"
      },
      "execution_count": 27,
      "outputs": [
        {
          "output_type": "execute_result",
          "data": {
            "text/plain": [
              "9.985376988524354"
            ]
          },
          "metadata": {},
          "execution_count": 27
        }
      ]
    },
    {
      "cell_type": "code",
      "source": [
        "np.sqrt(mean_squared_error(y_true, y_pred))"
      ],
      "metadata": {
        "colab": {
          "base_uri": "https://localhost:8080/"
        },
        "id": "VW5sUQ3ypXUL",
        "outputId": "eb605ac4-334a-46d7-f832-d85652f97be1"
      },
      "execution_count": 28,
      "outputs": [
        {
          "output_type": "execute_result",
          "data": {
            "text/plain": [
              "9.985376988524354"
            ]
          },
          "metadata": {},
          "execution_count": 28
        }
      ]
    },
    {
      "cell_type": "code",
      "source": [
        "def max_error(y_true, y_pred):\n",
        "    return abs(y_true - y_pred).max()\n",
        "\n",
        "max_error(y_true, y_pred)"
      ],
      "metadata": {
        "colab": {
          "base_uri": "https://localhost:8080/"
        },
        "id": "YXrlRKD5pY_C",
        "outputId": "35fc0c28-c5bb-4023-e00e-8564c52b27e0"
      },
      "execution_count": 30,
      "outputs": [
        {
          "output_type": "execute_result",
          "data": {
            "text/plain": [
              "31.931075678448607"
            ]
          },
          "metadata": {},
          "execution_count": 30
        }
      ]
    },
    {
      "cell_type": "code",
      "source": [
        "from sklearn.metrics import max_error\n",
        "\n",
        "max_error(y_true, y_pred)"
      ],
      "metadata": {
        "colab": {
          "base_uri": "https://localhost:8080/"
        },
        "id": "MhSfq67Kpc9m",
        "outputId": "e5b62ac2-4c2b-4564-baa3-841d6794f302"
      },
      "execution_count": 31,
      "outputs": [
        {
          "output_type": "execute_result",
          "data": {
            "text/plain": [
              "31.931075678448607"
            ]
          },
          "metadata": {},
          "execution_count": 31
        }
      ]
    },
    {
      "cell_type": "code",
      "source": [
        "def r2_score(y_true, y_pred):\n",
        "  numerator = ((y_true - y_pred)**2).sum()\n",
        "  denominator = ((y_true - y_true.mean())**2).sum()\n",
        "  try:\n",
        "    r2 = 1-numerator/denominator\n",
        "  except ZeroDivisionError:\n",
        "    print('Dzielenie przez zero')\n",
        "  return r2\n",
        "\n",
        "r2_score(y_true, y_pred)"
      ],
      "metadata": {
        "colab": {
          "base_uri": "https://localhost:8080/"
        },
        "id": "_yvzKTd-peW4",
        "outputId": "deb1677b-2a06-418c-9734-293cafdc10cc"
      },
      "execution_count": 34,
      "outputs": [
        {
          "output_type": "execute_result",
          "data": {
            "text/plain": [
              "0.7431432111229173"
            ]
          },
          "metadata": {},
          "execution_count": 34
        }
      ]
    },
    {
      "cell_type": "code",
      "source": [
        "from sklearn.metrics import r2_score\n",
        "\n",
        "r2_score(y_true, y_pred)"
      ],
      "metadata": {
        "colab": {
          "base_uri": "https://localhost:8080/"
        },
        "id": "8nqYvHIVpf5v",
        "outputId": "8a0a8a55-1f0a-48a9-a5fa-41f1fd9cfc7a"
      },
      "execution_count": 32,
      "outputs": [
        {
          "output_type": "execute_result",
          "data": {
            "text/plain": [
              "0.7431432111229173"
            ]
          },
          "metadata": {},
          "execution_count": 32
        }
      ]
    }
  ]
}