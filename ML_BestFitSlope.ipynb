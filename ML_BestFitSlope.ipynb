{
  "nbformat": 4,
  "nbformat_minor": 0,
  "metadata": {
    "colab": {
      "provenance": [],
      "collapsed_sections": [],
      "toc_visible": true,
      "authorship_tag": "ABX9TyM8ilsEgSTKhFkA3eqvqr0a",
      "include_colab_link": true
    },
    "kernelspec": {
      "name": "python3",
      "display_name": "Python 3"
    },
    "language_info": {
      "name": "python"
    }
  },
  "cells": [
    {
      "cell_type": "markdown",
      "metadata": {
        "id": "view-in-github",
        "colab_type": "text"
      },
      "source": [
        "<a href=\"https://colab.research.google.com/github/leadeeerq/machine-learning/blob/main/ML_BestFitSlope.ipynb\" target=\"_parent\"><img src=\"https://colab.research.google.com/assets/colab-badge.svg\" alt=\"Open In Colab\"/></a>"
      ]
    },
    {
      "cell_type": "markdown",
      "source": [
        "#Linear regression excersises"
      ],
      "metadata": {
        "id": "uczWc7JWdK3i"
      }
    },
    {
      "cell_type": "code",
      "execution_count": null,
      "metadata": {
        "id": "9bqsFs7FdHhq"
      },
      "outputs": [],
      "source": [
        "from statistics import mean\n",
        "import numpy as np\n",
        "import matplotlib.pyplot as plt\n",
        "from matplotlib import style\n",
        "\n",
        "style.use('fivethirtyeight')"
      ]
    },
    {
      "cell_type": "code",
      "source": [
        "xs = np.array([1, 2, 3, 4, 5, 6], dtype = np.float64)\n",
        "ys = np.array([5, 4, 6, 5, 6, 7], dtype = np.float64)"
      ],
      "metadata": {
        "id": "M3zYbBn9dfub"
      },
      "execution_count": null,
      "outputs": []
    },
    {
      "cell_type": "code",
      "source": [
        "plt.scatter(xs, ys)\n",
        "plt.show()"
      ],
      "metadata": {
        "colab": {
          "base_uri": "https://localhost:8080/",
          "height": 282
        },
        "id": "27wb41UEdoCu",
        "outputId": "ee2c212e-96f1-4118-ae77-26ec05d47b38"
      },
      "execution_count": null,
      "outputs": [
        {
          "output_type": "display_data",
          "data": {
            "text/plain": [
              "<Figure size 432x288 with 1 Axes>"
            ],
            "image/png": "[encoded data removed]"
          },
          "metadata": {}
        }
      ]
    },
    {
      "cell_type": "markdown",
      "source": [
        "##Linear regression formula"
      ],
      "metadata": {
        "id": "gTZuWoAJlifa"
      }
    },
    {
      "cell_type": "code",
      "source": [
        "def best_fit_slope(xs, ys):\n",
        "  numerator = (np.mean(xs)*np.mean(ys)) - np.mean(xs*ys)\n",
        "  denominator = np.mean(xs)**2 - np.mean(xs**2)\n",
        "  m = numerator/denominator\n",
        "  return m"
      ],
      "metadata": {
        "id": "P6TxsDh1dvG0"
      },
      "execution_count": null,
      "outputs": []
    },
    {
      "cell_type": "code",
      "source": [
        "m = best_fit_slope(xs, ys)\n",
        "m"
      ],
      "metadata": {
        "colab": {
          "base_uri": "https://localhost:8080/"
        },
        "id": "7dhp_-fMeOF7",
        "outputId": "8896dadc-cac0-4b4b-b81f-95288d389dc4"
      },
      "execution_count": null,
      "outputs": [
        {
          "output_type": "execute_result",
          "data": {
            "text/plain": [
              "0.42857142857142866"
            ]
          },
          "metadata": {},
          "execution_count": 71
        }
      ]
    },
    {
      "cell_type": "code",
      "source": [
        "def best_fit_int(xs, ys, m):\n",
        "  b = np.mean(ys) - m*(np.mean(xs))\n",
        "  return b"
      ],
      "metadata": {
        "id": "iMtMODyTfIun"
      },
      "execution_count": null,
      "outputs": []
    },
    {
      "cell_type": "code",
      "source": [
        "b = best_fit_int(xs, ys, m)\n",
        "b"
      ],
      "metadata": {
        "colab": {
          "base_uri": "https://localhost:8080/"
        },
        "id": "-pzDhY2XfTcN",
        "outputId": "82fc2bc3-b08d-4fa1-da3f-150f17d9f470"
      },
      "execution_count": null,
      "outputs": [
        {
          "output_type": "execute_result",
          "data": {
            "text/plain": [
              "4.0"
            ]
          },
          "metadata": {},
          "execution_count": 73
        }
      ]
    },
    {
      "cell_type": "code",
      "source": [
        "def best_fit_line(xs, ys):\n",
        "  numerator = (np.mean(xs)*np.mean(ys)) - np.mean(xs*ys)\n",
        "  denominator = np.mean(xs)**2 - np.mean(xs**2)\n",
        "  m = numerator/denominator\n",
        "  b = np.mean(ys) - m*(np.mean(xs))\n",
        "\n",
        "  y = [(m*x + b) for x in xs]\n",
        "  # for x in xs:\n",
        "    # y.append(m*x +b)\n",
        "  \n",
        "  return y"
      ],
      "metadata": {
        "id": "OHNkpaJFfXQl"
      },
      "execution_count": null,
      "outputs": []
    },
    {
      "cell_type": "code",
      "source": [
        "regression_line = best_fit_line(xs, ys)\n",
        "regression_line"
      ],
      "metadata": {
        "colab": {
          "base_uri": "https://localhost:8080/"
        },
        "id": "qpp5QGL4fuO6",
        "outputId": "1ae20616-7921-42ec-c038-89ad6bdccf7b"
      },
      "execution_count": null,
      "outputs": [
        {
          "output_type": "execute_result",
          "data": {
            "text/plain": [
              "[4.428571428571429,\n",
              " 4.857142857142858,\n",
              " 5.2857142857142865,\n",
              " 5.714285714285714,\n",
              " 6.142857142857143,\n",
              " 6.571428571428572]"
            ]
          },
          "metadata": {},
          "execution_count": 75
        }
      ]
    },
    {
      "cell_type": "code",
      "source": [
        "plt.scatter(xs,ys)\n",
        "plt.plot(xs,regression_line)\n",
        "plt.show()"
      ],
      "metadata": {
        "colab": {
          "base_uri": "https://localhost:8080/",
          "height": 282
        },
        "id": "DPt2GngZhFhi",
        "outputId": "3dadb6aa-dd58-466b-9a08-0230efa5fd41"
      },
      "execution_count": null,
      "outputs": [
        {
          "output_type": "display_data",
          "data": {
            "text/plain": [
              "<Figure size 432x288 with 1 Axes>"
            ],
            "image/png": "[encoded data removed]"
          },
          "metadata": {}
        }
      ]
    },
    {
      "cell_type": "markdown",
      "source": [
        "##Prediction"
      ],
      "metadata": {
        "id": "mt0xQdC7hltZ"
      }
    },
    {
      "cell_type": "code",
      "source": [
        "predict_x = 8\n",
        "predict_y = m*predict_x + b\n",
        "predict_y"
      ],
      "metadata": {
        "colab": {
          "base_uri": "https://localhost:8080/"
        },
        "id": "gTtVJrHEhm-C",
        "outputId": "16b70f14-40d4-437d-e712-7e6681341505"
      },
      "execution_count": null,
      "outputs": [
        {
          "output_type": "execute_result",
          "data": {
            "text/plain": [
              "7.428571428571429"
            ]
          },
          "metadata": {},
          "execution_count": 77
        }
      ]
    },
    {
      "cell_type": "code",
      "source": [
        "plt.scatter(predict_x, predict_y, color='g')\n",
        "plt.scatter(xs,ys)\n",
        "plt.plot(xs,regression_line)\n",
        "plt.show()"
      ],
      "metadata": {
        "colab": {
          "base_uri": "https://localhost:8080/",
          "height": 282
        },
        "id": "L_bxVxAsh9dV",
        "outputId": "bc0b116e-94d1-4a19-85e8-90233593ce24"
      },
      "execution_count": null,
      "outputs": [
        {
          "output_type": "display_data",
          "data": {
            "text/plain": [
              "<Figure size 432x288 with 1 Axes>"
            ],
            "image/png": "[encoded data removed]"
          },
          "metadata": {}
        }
      ]
    },
    {
      "cell_type": "markdown",
      "source": [
        "##R squared - how good is the best fit line? \n",
        "coefficient of determination"
      ],
      "metadata": {
        "id": "DKkHC4JViZJs"
      }
    },
    {
      "cell_type": "code",
      "source": [
        "def squared_error(ys_original, ys_line):\n",
        "  return sum((ys_line - ys_original)**2)"
      ],
      "metadata": {
        "id": "HqkMOar_iavm"
      },
      "execution_count": null,
      "outputs": []
    },
    {
      "cell_type": "code",
      "source": [
        "def coef_of_det(ys_original, ys_line):\n",
        "  y_mean_line = [mean(ys_original) for y in ys_original]\n",
        "  squared_error_regr = squared_error(ys_original, ys_line)\n",
        "  squared_error_y_mean = squared_error(ys_original, y_mean_line)\n",
        "  return 1 - (squared_error_regr/squared_error_y_mean)"
      ],
      "metadata": {
        "id": "XLkhcgxummhR"
      },
      "execution_count": null,
      "outputs": []
    },
    {
      "cell_type": "code",
      "source": [
        "r_squared = coef_of_det(ys, regression_line)\n",
        "r_squared "
      ],
      "metadata": {
        "colab": {
          "base_uri": "https://localhost:8080/"
        },
        "id": "lTbytx28n4bv",
        "outputId": "c9bd0ca6-981f-4af9-beb4-dd1b7b3e6cf3"
      },
      "execution_count": null,
      "outputs": [
        {
          "output_type": "execute_result",
          "data": {
            "text/plain": [
              "0.5844155844155845"
            ]
          },
          "metadata": {},
          "execution_count": 81
        }
      ]
    },
    {
      "cell_type": "markdown",
      "source": [
        "##Testing assumptions"
      ],
      "metadata": {
        "id": "RNc8pqrOpSig"
      }
    },
    {
      "cell_type": "code",
      "source": [
        "import random"
      ],
      "metadata": {
        "id": "hG3vqaltpT_Q"
      },
      "execution_count": null,
      "outputs": []
    },
    {
      "cell_type": "code",
      "source": [
        "def create_dataset(n_samples, variance, step = 2, correlation = 'neg'):\n",
        "  val = 1\n",
        "  ys = []\n",
        "  for i in range(n_samples):\n",
        "    y = val + random.randrange(-variance, variance)\n",
        "    ys.append(y)\n",
        "    # if correlation and correlation == 'pos':\n",
        "    if correlation == 'pos':\n",
        "      val += step\n",
        "    # elif correlation and correlation == 'neg':\n",
        "    elif correlation == 'neg':\n",
        "      val -= step\n",
        "  xs = [i for i in range(len(ys))]\n",
        "\n",
        "  return np.array(xs, dtype = np.float64), np.array(ys, dtype = np.float64)"
      ],
      "metadata": {
        "id": "L7zXgqtxpa1_"
      },
      "execution_count": null,
      "outputs": []
    },
    {
      "cell_type": "code",
      "source": [
        "xs, ys = create_dataset(40, 40, 2, correlation = 'pos')\n",
        "xs, ys"
      ],
      "metadata": {
        "colab": {
          "base_uri": "https://localhost:8080/"
        },
        "id": "5TJQ72SLqzw2",
        "outputId": "e7795b5d-d00f-41c5-8761-a19863209f43"
      },
      "execution_count": null,
      "outputs": [
        {
          "output_type": "execute_result",
          "data": {
            "text/plain": [
              "(array([ 0.,  1.,  2.,  3.,  4.,  5.,  6.,  7.,  8.,  9., 10., 11., 12.,\n",
              "        13., 14., 15., 16., 17., 18., 19., 20., 21., 22., 23., 24., 25.,\n",
              "        26., 27., 28., 29., 30., 31., 32., 33., 34., 35., 36., 37., 38.,\n",
              "        39.]),\n",
              " array([ 15., -36., -17., -26.,   8.,  18.,  15.,  47.,  20.,  55.,   4.,\n",
              "         42.,   1.,  19.,  68.,  -1.,  70.,  16.,  75.,  20.,  64.,  72.,\n",
              "         50.,  84.,  68.,  32.,  50.,  28.,  23.,  55.,  68.,  53.,  30.,\n",
              "         27.,  95.,  68.,  57.,  77.,  64., 108.]))"
            ]
          },
          "metadata": {},
          "execution_count": 92
        }
      ]
    },
    {
      "cell_type": "code",
      "source": [
        "plt.scatter(xs, ys)\n",
        "plt.show()"
      ],
      "metadata": {
        "colab": {
          "base_uri": "https://localhost:8080/",
          "height": 282
        },
        "id": "rNFgYJMJrCRk",
        "outputId": "873d6aca-1f94-4be3-ec1d-8510caf9d0c6"
      },
      "execution_count": null,
      "outputs": [
        {
          "output_type": "display_data",
          "data": {
            "text/plain": [
              "<Figure size 432x288 with 1 Axes>"
            ],
            "image/png": "[encoded data removed]"
          },
          "metadata": {}
        }
      ]
    },
    {
      "cell_type": "code",
      "source": [
        "regression_line = best_fit_line(xs, ys)\n",
        "plt.scatter(xs, ys)\n",
        "plt.plot(xs, regression_line)\n",
        "plt.show()"
      ],
      "metadata": {
        "colab": {
          "base_uri": "https://localhost:8080/",
          "height": 282
        },
        "id": "_N5UUbdFrdJZ",
        "outputId": "8e49a10a-819d-4cdd-9fd6-f76f0ea327c8"
      },
      "execution_count": null,
      "outputs": [
        {
          "output_type": "display_data",
          "data": {
            "text/plain": [
              "<Figure size 432x288 with 1 Axes>"
            ],
            "image/png": "[encoded data removed]"
          },
          "metadata": {}
        }
      ]
    },
    {
      "cell_type": "code",
      "source": [
        "r_squared = coef_of_det(ys, regression_line)\n",
        "r_squared"
      ],
      "metadata": {
        "colab": {
          "base_uri": "https://localhost:8080/"
        },
        "id": "srcZibWtrnoI",
        "outputId": "5ce59325-c887-4d8d-ea4a-d372ce2a40ce"
      },
      "execution_count": null,
      "outputs": [
        {
          "output_type": "execute_result",
          "data": {
            "text/plain": [
              "0.4547197984416167"
            ]
          },
          "metadata": {},
          "execution_count": 95
        }
      ]
    }
  ]
}