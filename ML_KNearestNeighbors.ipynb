{
  "nbformat": 4,
  "nbformat_minor": 0,
  "metadata": {
    "colab": {
      "provenance": [],
      "collapsed_sections": [],
      "toc_visible": true,
      "authorship_tag": "ABX9TyNGu1UPgh/kdI2/T3qFijtR",
      "include_colab_link": true
    },
    "kernelspec": {
      "name": "python3",
      "display_name": "Python 3"
    },
    "language_info": {
      "name": "python"
    }
  },
  "cells": [
    {
      "cell_type": "markdown",
      "metadata": {
        "id": "view-in-github",
        "colab_type": "text"
      },
      "source": [
        "<a href=\"https://colab.research.google.com/github/leadeeerq/machine-learning/blob/main/ML_KNearestNeighbors.ipynb\" target=\"_parent\"><img src=\"https://colab.research.google.com/assets/colab-badge.svg\" alt=\"Open In Colab\"/></a>"
      ]
    },
    {
      "cell_type": "markdown",
      "source": [
        "#Classification with the K-nearest neighbours\n",
        "Breast cancer data"
      ],
      "metadata": {
        "id": "XU6EPR9G48bs"
      }
    },
    {
      "cell_type": "markdown",
      "source": [
        "![image.png](data:image/png;base64,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) ![image.png](data:image/png;base64,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)"
      ],
      "metadata": {
        "id": "ZHbf3HfcoH4m"
      }
    },
    {
      "cell_type": "code",
      "source": [
        "from google.colab import drive\n",
        "drive.mount('/content/drive')"
      ],
      "metadata": {
        "colab": {
          "base_uri": "https://localhost:8080/"
        },
        "id": "izmQ_nSc6lgo",
        "outputId": "92ff5157-9b0c-4438-aa34-16c0877f5526"
      },
      "execution_count": 20,
      "outputs": [
        {
          "output_type": "stream",
          "name": "stdout",
          "text": [
            "Drive already mounted at /content/drive; to attempt to forcibly remount, call drive.mount(\"/content/drive\", force_remount=True).\n"
          ]
        }
      ]
    },
    {
      "cell_type": "code",
      "execution_count": 44,
      "metadata": {
        "id": "zYx03Tpj4S-k"
      },
      "outputs": [],
      "source": [
        "import numpy as np\n",
        "import pandas as pd\n",
        "import random\n",
        "from sklearn import preprocessing, neighbors\n",
        "from sklearn.model_selection import train_test_split"
      ]
    },
    {
      "cell_type": "markdown",
      "source": [
        "##Load the data"
      ],
      "metadata": {
        "id": "5aSKxpnI7g-8"
      }
    },
    {
      "cell_type": "code",
      "source": [
        "df = pd.read_csv('/content/drive/MyDrive/Projekty Machine Learning/ML_KNearestNeighbors/breast-cancer-wisconsin.data')\n",
        "df.head()"
      ],
      "metadata": {
        "colab": {
          "base_uri": "https://localhost:8080/",
          "height": 206
        },
        "id": "wNnYBHgS7EyQ",
        "outputId": "691e1208-96a6-4354-807b-6e33fe453492"
      },
      "execution_count": 22,
      "outputs": [
        {
          "output_type": "execute_result",
          "data": {
            "text/plain": [
              "        id  clump_thickness  uniform_cell_size  uniform_cell_shape  \\\n",
              "0  1002945                5                  4                   4   \n",
              "1  1015425                3                  1                   1   \n",
              "2  1016277                6                  8                   8   \n",
              "3  1017023                4                  1                   1   \n",
              "4  1017122                8                 10                  10   \n",
              "\n",
              "   marginal_adhesion  single_epi_cell_size bare_nuclei  bland_chromation  \\\n",
              "0                  5                     7          10                 3   \n",
              "1                  1                     2           2                 3   \n",
              "2                  1                     3           4                 3   \n",
              "3                  3                     2           1                 3   \n",
              "4                  8                     7          10                 9   \n",
              "\n",
              "   normal_nucleoli  mitoses  class  \n",
              "0                2        1      2  \n",
              "1                1        1      2  \n",
              "2                7        1      2  \n",
              "3                1        1      2  \n",
              "4                7        1      4  "
            ],
            "text/html": [
              "\n",
              "  <div id=\"df-7349ffca-c552-47f5-ad98-5e5ebf78914c\">\n",
              "    <div class=\"colab-df-container\">\n",
              "      <div>\n",
              "<style scoped>\n",
              "    .dataframe tbody tr th:only-of-type {\n",
              "        vertical-align: middle;\n",
              "    }\n",
              "\n",
              "    .dataframe tbody tr th {\n",
              "        vertical-align: top;\n",
              "    }\n",
              "\n",
              "    .dataframe thead th {\n",
              "        text-align: right;\n",
              "    }\n",
              "</style>\n",
              "<table border=\"1\" class=\"dataframe\">\n",
              "  <thead>\n",
              "    <tr style=\"text-align: right;\">\n",
              "      <th></th>\n",
              "      <th>id</th>\n",
              "      <th>clump_thickness</th>\n",
              "      <th>uniform_cell_size</th>\n",
              "      <th>uniform_cell_shape</th>\n",
              "      <th>marginal_adhesion</th>\n",
              "      <th>single_epi_cell_size</th>\n",
              "      <th>bare_nuclei</th>\n",
              "      <th>bland_chromation</th>\n",
              "      <th>normal_nucleoli</th>\n",
              "      <th>mitoses</th>\n",
              "      <th>class</th>\n",
              "    </tr>\n",
              "  </thead>\n",
              "  <tbody>\n",
              "    <tr>\n",
              "      <th>0</th>\n",
              "      <td>1002945</td>\n",
              "      <td>5</td>\n",
              "      <td>4</td>\n",
              "      <td>4</td>\n",
              "      <td>5</td>\n",
              "      <td>7</td>\n",
              "      <td>10</td>\n",
              "      <td>3</td>\n",
              "      <td>2</td>\n",
              "      <td>1</td>\n",
              "      <td>2</td>\n",
              "    </tr>\n",
              "    <tr>\n",
              "      <th>1</th>\n",
              "      <td>1015425</td>\n",
              "      <td>3</td>\n",
              "      <td>1</td>\n",
              "      <td>1</td>\n",
              "      <td>1</td>\n",
              "      <td>2</td>\n",
              "      <td>2</td>\n",
              "      <td>3</td>\n",
              "      <td>1</td>\n",
              "      <td>1</td>\n",
              "      <td>2</td>\n",
              "    </tr>\n",
              "    <tr>\n",
              "      <th>2</th>\n",
              "      <td>1016277</td>\n",
              "      <td>6</td>\n",
              "      <td>8</td>\n",
              "      <td>8</td>\n",
              "      <td>1</td>\n",
              "      <td>3</td>\n",
              "      <td>4</td>\n",
              "      <td>3</td>\n",
              "      <td>7</td>\n",
              "      <td>1</td>\n",
              "      <td>2</td>\n",
              "    </tr>\n",
              "    <tr>\n",
              "      <th>3</th>\n",
              "      <td>1017023</td>\n",
              "      <td>4</td>\n",
              "      <td>1</td>\n",
              "      <td>1</td>\n",
              "      <td>3</td>\n",
              "      <td>2</td>\n",
              "      <td>1</td>\n",
              "      <td>3</td>\n",
              "      <td>1</td>\n",
              "      <td>1</td>\n",
              "      <td>2</td>\n",
              "    </tr>\n",
              "    <tr>\n",
              "      <th>4</th>\n",
              "      <td>1017122</td>\n",
              "      <td>8</td>\n",
              "      <td>10</td>\n",
              "      <td>10</td>\n",
              "      <td>8</td>\n",
              "      <td>7</td>\n",
              "      <td>10</td>\n",
              "      <td>9</td>\n",
              "      <td>7</td>\n",
              "      <td>1</td>\n",
              "      <td>4</td>\n",
              "    </tr>\n",
              "  </tbody>\n",
              "</table>\n",
              "</div>\n",
              "      <button class=\"colab-df-convert\" onclick=\"convertToInteractive('df-7349ffca-c552-47f5-ad98-5e5ebf78914c')\"\n",
              "              title=\"Convert this dataframe to an interactive table.\"\n",
              "              style=\"display:none;\">\n",
              "        \n",
              "  <svg xmlns=\"http://www.w3.org/2000/svg\" height=\"24px\"viewBox=\"0 0 24 24\"\n",
              "       width=\"24px\">\n",
              "    <path d=\"M0 0h24v24H0V0z\" fill=\"none\"/>\n",
              "    <path d=\"M18.56 5.44l.94 2.06.94-2.06 2.06-.94-2.06-.94-.94-2.06-.94 2.06-2.06.94zm-11 1L8.5 8.5l.94-2.06 2.06-.94-2.06-.94L8.5 2.5l-.94 2.06-2.06.94zm10 10l.94 2.06.94-2.06 2.06-.94-2.06-.94-.94-2.06-.94 2.06-2.06.94z\"/><path d=\"M17.41 7.96l-1.37-1.37c-.4-.4-.92-.59-1.43-.59-.52 0-1.04.2-1.43.59L10.3 9.45l-7.72 7.72c-.78.78-.78 2.05 0 2.83L4 21.41c.39.39.9.59 1.41.59.51 0 1.02-.2 1.41-.59l7.78-7.78 2.81-2.81c.8-.78.8-2.07 0-2.86zM5.41 20L4 18.59l7.72-7.72 1.47 1.35L5.41 20z\"/>\n",
              "  </svg>\n",
              "      </button>\n",
              "      \n",
              "  <style>\n",
              "    .colab-df-container {\n",
              "      display:flex;\n",
              "      flex-wrap:wrap;\n",
              "      gap: 12px;\n",
              "    }\n",
              "\n",
              "    .colab-df-convert {\n",
              "      background-color: #E8F0FE;\n",
              "      border: none;\n",
              "      border-radius: 50%;\n",
              "      cursor: pointer;\n",
              "      display: none;\n",
              "      fill: #1967D2;\n",
              "      height: 32px;\n",
              "      padding: 0 0 0 0;\n",
              "      width: 32px;\n",
              "    }\n",
              "\n",
              "    .colab-df-convert:hover {\n",
              "      background-color: #E2EBFA;\n",
              "      box-shadow: 0px 1px 2px rgba(60, 64, 67, 0.3), 0px 1px 3px 1px rgba(60, 64, 67, 0.15);\n",
              "      fill: #174EA6;\n",
              "    }\n",
              "\n",
              "    [theme=dark] .colab-df-convert {\n",
              "      background-color: #3B4455;\n",
              "      fill: #D2E3FC;\n",
              "    }\n",
              "\n",
              "    [theme=dark] .colab-df-convert:hover {\n",
              "      background-color: #434B5C;\n",
              "      box-shadow: 0px 1px 3px 1px rgba(0, 0, 0, 0.15);\n",
              "      filter: drop-shadow(0px 1px 2px rgba(0, 0, 0, 0.3));\n",
              "      fill: #FFFFFF;\n",
              "    }\n",
              "  </style>\n",
              "\n",
              "      <script>\n",
              "        const buttonEl =\n",
              "          document.querySelector('#df-7349ffca-c552-47f5-ad98-5e5ebf78914c button.colab-df-convert');\n",
              "        buttonEl.style.display =\n",
              "          google.colab.kernel.accessAllowed ? 'block' : 'none';\n",
              "\n",
              "        async function convertToInteractive(key) {\n",
              "          const element = document.querySelector('#df-7349ffca-c552-47f5-ad98-5e5ebf78914c');\n",
              "          const dataTable =\n",
              "            await google.colab.kernel.invokeFunction('convertToInteractive',\n",
              "                                                     [key], {});\n",
              "          if (!dataTable) return;\n",
              "\n",
              "          const docLinkHtml = 'Like what you see? Visit the ' +\n",
              "            '<a target=\"_blank\" href=https://colab.research.google.com/notebooks/data_table.ipynb>data table notebook</a>'\n",
              "            + ' to learn more about interactive tables.';\n",
              "          element.innerHTML = '';\n",
              "          dataTable['output_type'] = 'display_data';\n",
              "          await google.colab.output.renderOutput(dataTable, element);\n",
              "          const docLink = document.createElement('div');\n",
              "          docLink.innerHTML = docLinkHtml;\n",
              "          element.appendChild(docLink);\n",
              "        }\n",
              "      </script>\n",
              "    </div>\n",
              "  </div>\n",
              "  "
            ]
          },
          "metadata": {},
          "execution_count": 22
        }
      ]
    },
    {
      "cell_type": "markdown",
      "source": [
        "##Replacing missing values \"?\" with -99999"
      ],
      "metadata": {
        "id": "_7V-0Pff7vgu"
      }
    },
    {
      "cell_type": "code",
      "source": [
        "df.replace('?', -99999, inplace = True) #Wypełnienie pustych miejsc \"outlierami\""
      ],
      "metadata": {
        "id": "1-p-qWag716N"
      },
      "execution_count": 23,
      "outputs": []
    },
    {
      "cell_type": "markdown",
      "source": [
        "##Dropping the ID column\n",
        "Dropping of the ID column to prevent from fitting classifier to unnecessary information"
      ],
      "metadata": {
        "id": "SJEWQEVe7-iE"
      }
    },
    {
      "cell_type": "code",
      "source": [
        "df.drop('id', axis = 1, inplace = True) "
      ],
      "metadata": {
        "id": "oO2zq3o_8ACl"
      },
      "execution_count": 24,
      "outputs": []
    },
    {
      "cell_type": "code",
      "source": [
        "df.head()"
      ],
      "metadata": {
        "colab": {
          "base_uri": "https://localhost:8080/",
          "height": 206
        },
        "id": "VBQTCaT58RwN",
        "outputId": "418fda0c-90bb-4516-966b-57738f6f79e0"
      },
      "execution_count": 25,
      "outputs": [
        {
          "output_type": "execute_result",
          "data": {
            "text/plain": [
              "   clump_thickness  uniform_cell_size  uniform_cell_shape  marginal_adhesion  \\\n",
              "0                5                  4                   4                  5   \n",
              "1                3                  1                   1                  1   \n",
              "2                6                  8                   8                  1   \n",
              "3                4                  1                   1                  3   \n",
              "4                8                 10                  10                  8   \n",
              "\n",
              "   single_epi_cell_size bare_nuclei  bland_chromation  normal_nucleoli  \\\n",
              "0                     7          10                 3                2   \n",
              "1                     2           2                 3                1   \n",
              "2                     3           4                 3                7   \n",
              "3                     2           1                 3                1   \n",
              "4                     7          10                 9                7   \n",
              "\n",
              "   mitoses  class  \n",
              "0        1      2  \n",
              "1        1      2  \n",
              "2        1      2  \n",
              "3        1      2  \n",
              "4        1      4  "
            ],
            "text/html": [
              "\n",
              "  <div id=\"df-52eb08b1-fed5-423a-988c-2c0a1bc798ef\">\n",
              "    <div class=\"colab-df-container\">\n",
              "      <div>\n",
              "<style scoped>\n",
              "    .dataframe tbody tr th:only-of-type {\n",
              "        vertical-align: middle;\n",
              "    }\n",
              "\n",
              "    .dataframe tbody tr th {\n",
              "        vertical-align: top;\n",
              "    }\n",
              "\n",
              "    .dataframe thead th {\n",
              "        text-align: right;\n",
              "    }\n",
              "</style>\n",
              "<table border=\"1\" class=\"dataframe\">\n",
              "  <thead>\n",
              "    <tr style=\"text-align: right;\">\n",
              "      <th></th>\n",
              "      <th>clump_thickness</th>\n",
              "      <th>uniform_cell_size</th>\n",
              "      <th>uniform_cell_shape</th>\n",
              "      <th>marginal_adhesion</th>\n",
              "      <th>single_epi_cell_size</th>\n",
              "      <th>bare_nuclei</th>\n",
              "      <th>bland_chromation</th>\n",
              "      <th>normal_nucleoli</th>\n",
              "      <th>mitoses</th>\n",
              "      <th>class</th>\n",
              "    </tr>\n",
              "  </thead>\n",
              "  <tbody>\n",
              "    <tr>\n",
              "      <th>0</th>\n",
              "      <td>5</td>\n",
              "      <td>4</td>\n",
              "      <td>4</td>\n",
              "      <td>5</td>\n",
              "      <td>7</td>\n",
              "      <td>10</td>\n",
              "      <td>3</td>\n",
              "      <td>2</td>\n",
              "      <td>1</td>\n",
              "      <td>2</td>\n",
              "    </tr>\n",
              "    <tr>\n",
              "      <th>1</th>\n",
              "      <td>3</td>\n",
              "      <td>1</td>\n",
              "      <td>1</td>\n",
              "      <td>1</td>\n",
              "      <td>2</td>\n",
              "      <td>2</td>\n",
              "      <td>3</td>\n",
              "      <td>1</td>\n",
              "      <td>1</td>\n",
              "      <td>2</td>\n",
              "    </tr>\n",
              "    <tr>\n",
              "      <th>2</th>\n",
              "      <td>6</td>\n",
              "      <td>8</td>\n",
              "      <td>8</td>\n",
              "      <td>1</td>\n",
              "      <td>3</td>\n",
              "      <td>4</td>\n",
              "      <td>3</td>\n",
              "      <td>7</td>\n",
              "      <td>1</td>\n",
              "      <td>2</td>\n",
              "    </tr>\n",
              "    <tr>\n",
              "      <th>3</th>\n",
              "      <td>4</td>\n",
              "      <td>1</td>\n",
              "      <td>1</td>\n",
              "      <td>3</td>\n",
              "      <td>2</td>\n",
              "      <td>1</td>\n",
              "      <td>3</td>\n",
              "      <td>1</td>\n",
              "      <td>1</td>\n",
              "      <td>2</td>\n",
              "    </tr>\n",
              "    <tr>\n",
              "      <th>4</th>\n",
              "      <td>8</td>\n",
              "      <td>10</td>\n",
              "      <td>10</td>\n",
              "      <td>8</td>\n",
              "      <td>7</td>\n",
              "      <td>10</td>\n",
              "      <td>9</td>\n",
              "      <td>7</td>\n",
              "      <td>1</td>\n",
              "      <td>4</td>\n",
              "    </tr>\n",
              "  </tbody>\n",
              "</table>\n",
              "</div>\n",
              "      <button class=\"colab-df-convert\" onclick=\"convertToInteractive('df-52eb08b1-fed5-423a-988c-2c0a1bc798ef')\"\n",
              "              title=\"Convert this dataframe to an interactive table.\"\n",
              "              style=\"display:none;\">\n",
              "        \n",
              "  <svg xmlns=\"http://www.w3.org/2000/svg\" height=\"24px\"viewBox=\"0 0 24 24\"\n",
              "       width=\"24px\">\n",
              "    <path d=\"M0 0h24v24H0V0z\" fill=\"none\"/>\n",
              "    <path d=\"M18.56 5.44l.94 2.06.94-2.06 2.06-.94-2.06-.94-.94-2.06-.94 2.06-2.06.94zm-11 1L8.5 8.5l.94-2.06 2.06-.94-2.06-.94L8.5 2.5l-.94 2.06-2.06.94zm10 10l.94 2.06.94-2.06 2.06-.94-2.06-.94-.94-2.06-.94 2.06-2.06.94z\"/><path d=\"M17.41 7.96l-1.37-1.37c-.4-.4-.92-.59-1.43-.59-.52 0-1.04.2-1.43.59L10.3 9.45l-7.72 7.72c-.78.78-.78 2.05 0 2.83L4 21.41c.39.39.9.59 1.41.59.51 0 1.02-.2 1.41-.59l7.78-7.78 2.81-2.81c.8-.78.8-2.07 0-2.86zM5.41 20L4 18.59l7.72-7.72 1.47 1.35L5.41 20z\"/>\n",
              "  </svg>\n",
              "      </button>\n",
              "      \n",
              "  <style>\n",
              "    .colab-df-container {\n",
              "      display:flex;\n",
              "      flex-wrap:wrap;\n",
              "      gap: 12px;\n",
              "    }\n",
              "\n",
              "    .colab-df-convert {\n",
              "      background-color: #E8F0FE;\n",
              "      border: none;\n",
              "      border-radius: 50%;\n",
              "      cursor: pointer;\n",
              "      display: none;\n",
              "      fill: #1967D2;\n",
              "      height: 32px;\n",
              "      padding: 0 0 0 0;\n",
              "      width: 32px;\n",
              "    }\n",
              "\n",
              "    .colab-df-convert:hover {\n",
              "      background-color: #E2EBFA;\n",
              "      box-shadow: 0px 1px 2px rgba(60, 64, 67, 0.3), 0px 1px 3px 1px rgba(60, 64, 67, 0.15);\n",
              "      fill: #174EA6;\n",
              "    }\n",
              "\n",
              "    [theme=dark] .colab-df-convert {\n",
              "      background-color: #3B4455;\n",
              "      fill: #D2E3FC;\n",
              "    }\n",
              "\n",
              "    [theme=dark] .colab-df-convert:hover {\n",
              "      background-color: #434B5C;\n",
              "      box-shadow: 0px 1px 3px 1px rgba(0, 0, 0, 0.15);\n",
              "      filter: drop-shadow(0px 1px 2px rgba(0, 0, 0, 0.3));\n",
              "      fill: #FFFFFF;\n",
              "    }\n",
              "  </style>\n",
              "\n",
              "      <script>\n",
              "        const buttonEl =\n",
              "          document.querySelector('#df-52eb08b1-fed5-423a-988c-2c0a1bc798ef button.colab-df-convert');\n",
              "        buttonEl.style.display =\n",
              "          google.colab.kernel.accessAllowed ? 'block' : 'none';\n",
              "\n",
              "        async function convertToInteractive(key) {\n",
              "          const element = document.querySelector('#df-52eb08b1-fed5-423a-988c-2c0a1bc798ef');\n",
              "          const dataTable =\n",
              "            await google.colab.kernel.invokeFunction('convertToInteractive',\n",
              "                                                     [key], {});\n",
              "          if (!dataTable) return;\n",
              "\n",
              "          const docLinkHtml = 'Like what you see? Visit the ' +\n",
              "            '<a target=\"_blank\" href=https://colab.research.google.com/notebooks/data_table.ipynb>data table notebook</a>'\n",
              "            + ' to learn more about interactive tables.';\n",
              "          element.innerHTML = '';\n",
              "          dataTable['output_type'] = 'display_data';\n",
              "          await google.colab.output.renderOutput(dataTable, element);\n",
              "          const docLink = document.createElement('div');\n",
              "          docLink.innerHTML = docLinkHtml;\n",
              "          element.appendChild(docLink);\n",
              "        }\n",
              "      </script>\n",
              "    </div>\n",
              "  </div>\n",
              "  "
            ]
          },
          "metadata": {},
          "execution_count": 25
        }
      ]
    },
    {
      "cell_type": "markdown",
      "source": [
        "##Train, test split"
      ],
      "metadata": {
        "id": "gDEB6fWV8pjZ"
      }
    },
    {
      "cell_type": "code",
      "source": [
        "X = np.array(df.drop(['class'], axis = 1,))\n",
        "y = np.array(df['class'])"
      ],
      "metadata": {
        "id": "j87Ovulf8rvf"
      },
      "execution_count": 26,
      "outputs": []
    },
    {
      "cell_type": "code",
      "source": [
        "X_train, X_test, y_train, y_test = train_test_split(X, y, test_size = 0.2)"
      ],
      "metadata": {
        "id": "qeHGnuP684GX"
      },
      "execution_count": 27,
      "outputs": []
    },
    {
      "cell_type": "markdown",
      "source": [
        "##Classifier"
      ],
      "metadata": {
        "id": "CtfXm5VX9Gs-"
      }
    },
    {
      "cell_type": "code",
      "source": [
        "clf = neighbors.KNeighborsClassifier()\n",
        "clf.fit(X_train, y_train)"
      ],
      "metadata": {
        "colab": {
          "base_uri": "https://localhost:8080/"
        },
        "id": "pV_Y3-ZH9Hoy",
        "outputId": "1e1408b0-7782-4fb2-e810-678e0df4b698"
      },
      "execution_count": 28,
      "outputs": [
        {
          "output_type": "execute_result",
          "data": {
            "text/plain": [
              "KNeighborsClassifier()"
            ]
          },
          "metadata": {},
          "execution_count": 28
        }
      ]
    },
    {
      "cell_type": "code",
      "source": [
        "accuracy = clf.score(X_test, y_test)\n",
        "accuracy"
      ],
      "metadata": {
        "colab": {
          "base_uri": "https://localhost:8080/"
        },
        "id": "ADF9d5XP9WE0",
        "outputId": "4dc2b0f2-d09b-497a-ab03-a2d941a0f868"
      },
      "execution_count": 29,
      "outputs": [
        {
          "output_type": "execute_result",
          "data": {
            "text/plain": [
              "0.9714285714285714"
            ]
          },
          "metadata": {},
          "execution_count": 29
        }
      ]
    },
    {
      "cell_type": "markdown",
      "source": [
        "##Prediction\n",
        "We can only use predict on data that is of the same dimensionality as the training data (X) was.\n",
        "\n",
        "When we want to predict using new values, our program expects the same - a bunch of rows. Even if we want to do it to just one row (with nine values), that row has to be part of another array."
      ],
      "metadata": {
        "id": "uNE8E9nh-QSH"
      }
    },
    {
      "cell_type": "code",
      "source": [
        "X_train"
      ],
      "metadata": {
        "colab": {
          "base_uri": "https://localhost:8080/"
        },
        "id": "pavaOT6HAYO_",
        "outputId": "996dbbba-b517-4fbf-9d2f-a59a9f379202"
      },
      "execution_count": 30,
      "outputs": [
        {
          "output_type": "execute_result",
          "data": {
            "text/plain": [
              "array([[1, 1, 1, ..., 1, 1, 1],\n",
              "       [5, 4, 6, ..., 4, 1, 1],\n",
              "       [4, 4, 2, ..., 2, 1, 2],\n",
              "       ...,\n",
              "       [5, 7, 4, ..., 7, 10, 3],\n",
              "       [1, 1, 1, ..., 1, 1, 1],\n",
              "       [3, 10, 7, ..., 7, 4, 1]], dtype=object)"
            ]
          },
          "metadata": {},
          "execution_count": 30
        }
      ]
    },
    {
      "cell_type": "code",
      "source": [
        "# example_measures = np.array([[4, 2, 1, 1, 1, 2, 3, 2, 1]])\n",
        "example_measures = np.array([[4, 2, 1, 1, 1, 2, 3, 2, 1], [4, 2, 1, 2, 2, 2, 3, 2, 1]])\n",
        "example_measures"
      ],
      "metadata": {
        "colab": {
          "base_uri": "https://localhost:8080/"
        },
        "id": "P0HE3FjQ-Rnr",
        "outputId": "fef010a3-91f5-414a-8f83-963588cce678"
      },
      "execution_count": 31,
      "outputs": [
        {
          "output_type": "execute_result",
          "data": {
            "text/plain": [
              "array([[4, 2, 1, 1, 1, 2, 3, 2, 1],\n",
              "       [4, 2, 1, 2, 2, 2, 3, 2, 1]])"
            ]
          },
          "metadata": {},
          "execution_count": 31
        }
      ]
    },
    {
      "cell_type": "code",
      "source": [
        "prediction = clf.predict(example_measures)\n",
        "prediction"
      ],
      "metadata": {
        "colab": {
          "base_uri": "https://localhost:8080/"
        },
        "id": "HDHjLuqz-hov",
        "outputId": "e7a08178-6e07-417a-f0d6-ebfea7f7854f"
      },
      "execution_count": 32,
      "outputs": [
        {
          "output_type": "execute_result",
          "data": {
            "text/plain": [
              "array([2, 2])"
            ]
          },
          "metadata": {},
          "execution_count": 32
        }
      ]
    },
    {
      "cell_type": "markdown",
      "source": [
        "##Rewritten KNN algorithm"
      ],
      "metadata": {
        "id": "J1s89t0TA7gp"
      }
    },
    {
      "cell_type": "markdown",
      "source": [
        "###Euclidean distance"
      ],
      "metadata": {
        "id": "iK2pnSP-KE4a"
      }
    },
    {
      "cell_type": "code",
      "source": [
        "from math import sqrt"
      ],
      "metadata": {
        "id": "-J7q4U1qA_Hh"
      },
      "execution_count": 33,
      "outputs": []
    },
    {
      "cell_type": "code",
      "source": [
        "plot1 = [1, 3]\n",
        "plot2 = [2, 5]"
      ],
      "metadata": {
        "id": "YEz3dIkJKH-I"
      },
      "execution_count": 34,
      "outputs": []
    },
    {
      "cell_type": "code",
      "source": [
        "euclidean_dist = sqrt((plot1[0] - plot2[0])**2 + (plot1[1] - plot2[1])**2)\n",
        "euclidean_dist"
      ],
      "metadata": {
        "colab": {
          "base_uri": "https://localhost:8080/"
        },
        "id": "HlrI-MbfKKhL",
        "outputId": "3e2cb617-2307-4b93-c5f2-c688ad0f3e1b"
      },
      "execution_count": 35,
      "outputs": [
        {
          "output_type": "execute_result",
          "data": {
            "text/plain": [
              "2.23606797749979"
            ]
          },
          "metadata": {},
          "execution_count": 35
        }
      ]
    },
    {
      "cell_type": "markdown",
      "source": [
        "###KNN algorithm"
      ],
      "metadata": {
        "id": "Izv6qmUOiJcW"
      }
    },
    {
      "cell_type": "code",
      "source": [
        "import numpy as np\n",
        "import matplotlib.pyplot as plt\n",
        "import warnings\n",
        "from matplotlib import style\n",
        "from collections import Counter\n",
        "style.use('fivethirtyeight')"
      ],
      "metadata": {
        "id": "oWPLcEgKiMLs"
      },
      "execution_count": 36,
      "outputs": []
    },
    {
      "cell_type": "code",
      "source": [
        "dataset = {'k': [[1, 2], [2, 3], [3, 1]],\n",
        "           'r': [[6, 5], [7, 7], [8,6]]}\n",
        "\n",
        "new_features = [5, 7]"
      ],
      "metadata": {
        "id": "ITK-yI1Gij3G"
      },
      "execution_count": 37,
      "outputs": []
    },
    {
      "cell_type": "code",
      "source": [
        "# for i in dataset:\n",
        "#   for ii in dataset[i]:\n",
        "#     plt.scatter(ii[0], ii[1], s = 100, color = i)\n",
        "\n",
        "[[plt.scatter(ii[0], ii[1], s=100, color=i) for ii in dataset[i]] for i in dataset]\n",
        "plt.scatter(new_features[0], new_features[1], s=100)\n",
        "plt.show()"
      ],
      "metadata": {
        "colab": {
          "base_uri": "https://localhost:8080/",
          "height": 282
        },
        "id": "8DHDArNejIwf",
        "outputId": "fdb15d7d-016d-49dd-998e-dfc7315025e9"
      },
      "execution_count": 38,
      "outputs": [
        {
          "output_type": "display_data",
          "data": {
            "text/plain": [
              "<Figure size 432x288 with 1 Axes>"
            ],
            "image/png": "[encoded data removed]"
          },
          "metadata": {}
        }
      ]
    },
    {
      "cell_type": "code",
      "source": [
        "def k_nearest_neighbors (data, predict, k = 3):\n",
        "  if len(data) >= k:\n",
        "    warnings.warn('K is set to value less than total voting groups')\n",
        "\n",
        "  distances = []\n",
        "  for group in data:\n",
        "    for features in data[group]:\n",
        "      # euclidean_dist = sqrt((features[0] - predict[0])**2 + (features[1] - predict[1])**2) #Classical approach for 2-dimension features\n",
        "      # euclidean_dist = np.sqrt(np.sum((np.array(features) - np.array(predict))**2)) #Better approach\n",
        "      euclidean_dist = np.linalg.norm(np.array(features) - np.array(predict))\n",
        "      distances.append([euclidean_dist, group]) #List of lists with the distance and the group\n",
        "\n",
        "  # for i in sorted(distances)[:k]:\n",
        "  #   i[i]\n",
        "\n",
        "  votes = [i[1] for i in sorted(distances)[:k]] #K of the lowest distances\n",
        "  vote_result = Counter(votes).most_common(1)[0][0] #0th element is the label\n",
        "\n",
        "  confidence = Counter(votes).most_common(1)[0][1] / k #1st element is number of instances\n",
        "  # print(vote_result, confidence)\n",
        "\n",
        "  return vote_result, confidence"
      ],
      "metadata": {
        "id": "KK1lleygkvJD"
      },
      "execution_count": 60,
      "outputs": []
    },
    {
      "cell_type": "code",
      "source": [
        "result = k_nearest_neighbors(dataset, new_features, k = 3)\n",
        "result"
      ],
      "metadata": {
        "colab": {
          "base_uri": "https://localhost:8080/"
        },
        "id": "zICUFyuUniel",
        "outputId": "6579375a-da26-479b-96cd-1ed61f95a8ea"
      },
      "execution_count": 55,
      "outputs": [
        {
          "output_type": "stream",
          "name": "stdout",
          "text": [
            "[('r', 3)]\n",
            "r 1.0\n"
          ]
        },
        {
          "output_type": "execute_result",
          "data": {
            "text/plain": [
              "('r', 1.0)"
            ]
          },
          "metadata": {},
          "execution_count": 55
        }
      ]
    },
    {
      "cell_type": "code",
      "source": [
        "[[plt.scatter(ii[0], ii[1], s=100, color=i) for ii in dataset[i]] for i in dataset]\n",
        "plt.scatter(new_features[0], new_features[1], s=100, color = result)\n",
        "plt.show()"
      ],
      "metadata": {
        "colab": {
          "base_uri": "https://localhost:8080/",
          "height": 282
        },
        "id": "a33srundn_IO",
        "outputId": "4ca55ee9-0a5b-4499-bb50-58241573501c"
      },
      "execution_count": 41,
      "outputs": [
        {
          "output_type": "display_data",
          "data": {
            "text/plain": [
              "<Figure size 432x288 with 1 Axes>"
            ],
            "image/png": "[encoded data removed]"
          },
          "metadata": {}
        }
      ]
    },
    {
      "cell_type": "markdown",
      "source": [
        "##Comparison between sklearn and rewritten KNN algorithm"
      ],
      "metadata": {
        "id": "Sh9szs1KobA0"
      }
    },
    {
      "cell_type": "markdown",
      "source": [
        "###Convertning values to float / some of them were in quotes"
      ],
      "metadata": {
        "id": "adkbpVhApd6A"
      }
    },
    {
      "cell_type": "code",
      "source": [
        "full_data = df.astype(float).values.tolist()\n",
        "full_data[:5]"
      ],
      "metadata": {
        "colab": {
          "base_uri": "https://localhost:8080/"
        },
        "id": "MkRV_OCHoetl",
        "outputId": "c935862e-f5d3-425e-cadc-71be9a1a7c7f"
      },
      "execution_count": 45,
      "outputs": [
        {
          "output_type": "execute_result",
          "data": {
            "text/plain": [
              "[[5.0, 4.0, 4.0, 5.0, 7.0, 10.0, 3.0, 2.0, 1.0, 2.0],\n",
              " [3.0, 1.0, 1.0, 1.0, 2.0, 2.0, 3.0, 1.0, 1.0, 2.0],\n",
              " [6.0, 8.0, 8.0, 1.0, 3.0, 4.0, 3.0, 7.0, 1.0, 2.0],\n",
              " [4.0, 1.0, 1.0, 3.0, 2.0, 1.0, 3.0, 1.0, 1.0, 2.0],\n",
              " [8.0, 10.0, 10.0, 8.0, 7.0, 10.0, 9.0, 7.0, 1.0, 4.0]]"
            ]
          },
          "metadata": {},
          "execution_count": 45
        }
      ]
    },
    {
      "cell_type": "code",
      "source": [
        "random.shuffle(full_data) #Shuffle works inplace\n",
        "full_data[:5]"
      ],
      "metadata": {
        "colab": {
          "base_uri": "https://localhost:8080/"
        },
        "id": "VmYo-aUHpo7Q",
        "outputId": "dddaa195-6051-4f6f-c4d0-99a2bfb9c93b"
      },
      "execution_count": 46,
      "outputs": [
        {
          "output_type": "execute_result",
          "data": {
            "text/plain": [
              "[[2.0, 1.0, 1.0, 1.0, 2.0, 1.0, 3.0, 1.0, 1.0, 2.0],\n",
              " [1.0, 5.0, 8.0, 6.0, 5.0, 8.0, 7.0, 10.0, 1.0, 4.0],\n",
              " [5.0, 2.0, 4.0, 1.0, 1.0, 1.0, 1.0, 1.0, 1.0, 2.0],\n",
              " [4.0, 1.0, 1.0, 1.0, 2.0, 1.0, 3.0, 1.0, 1.0, 2.0],\n",
              " [2.0, 3.0, 1.0, 1.0, 3.0, 1.0, 1.0, 1.0, 1.0, 2.0]]"
            ]
          },
          "metadata": {},
          "execution_count": 46
        }
      ]
    },
    {
      "cell_type": "markdown",
      "source": [
        "###Train, test split"
      ],
      "metadata": {
        "id": "QFQax5iAp9sG"
      }
    },
    {
      "cell_type": "code",
      "source": [
        "test_size = 0.2\n",
        "train_set = {2: [], 4:[]}\n",
        "test_set = {2: [], 4:[]}\n",
        "train_data = full_data[:-int(test_size * len(full_data))]\n",
        "test_data = full_data[-int(test_size * len(full_data)):]\n",
        "\n",
        "for i in train_data:\n",
        "  train_set[i[-1]].append(i[:-1])\n",
        "\n",
        "for i in test_data:\n",
        "  test_set[i[-1]].append(i[:-1])"
      ],
      "metadata": {
        "id": "YYm5qiJwp82P"
      },
      "execution_count": 48,
      "outputs": []
    },
    {
      "cell_type": "code",
      "source": [
        "correct = 0\n",
        "total = 0\n",
        "\n",
        "for group in test_set:\n",
        "  for data in test_set[group]:\n",
        "    vote, confidence = k_nearest_neighbors(train_set, data, k=5)\n",
        "    if group == vote:\n",
        "      correct += 1\n",
        "    else:\n",
        "      print(confidence) #Print confidence of votes that are incorrect\n",
        "    total += 1\n",
        "\n",
        "print('Accuracy: ', correct/total)"
      ],
      "metadata": {
        "colab": {
          "base_uri": "https://localhost:8080/"
        },
        "id": "iZ2UDvG5rDwj",
        "outputId": "e3c155ff-dd5a-418a-8401-c4983b66950d"
      },
      "execution_count": 62,
      "outputs": [
        {
          "output_type": "stream",
          "name": "stdout",
          "text": [
            "0.8\n",
            "0.6\n",
            "0.8\n",
            "0.6\n",
            "Accuracy:  0.9712230215827338\n"
          ]
        }
      ]
    },
    {
      "cell_type": "code",
      "source": [
        "accuracy = clf.score(X_test, y_test)\n",
        "print('KNN accuracy: ', accuracy)"
      ],
      "metadata": {
        "colab": {
          "base_uri": "https://localhost:8080/"
        },
        "id": "N5P4QyjmvPBu",
        "outputId": "e8764940-4ac9-4ef4-e991-6ce7820dc033"
      },
      "execution_count": 68,
      "outputs": [
        {
          "output_type": "stream",
          "name": "stdout",
          "text": [
            "KNN accuracy:  0.9714285714285714\n"
          ]
        }
      ]
    }
  ]
}