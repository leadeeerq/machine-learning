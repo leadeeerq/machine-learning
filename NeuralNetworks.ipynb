{
  "nbformat": 4,
  "nbformat_minor": 0,
  "metadata": {
    "colab": {
      "provenance": [],
      "toc_visible": true,
      "authorship_tag": "ABX9TyOf8R2yTWEq3JQI+CiwQEgX",
      "include_colab_link": true
    },
    "kernelspec": {
      "name": "python3",
      "display_name": "Python 3"
    },
    "language_info": {
      "name": "python"
    }
  },
  "cells": [
    {
      "cell_type": "markdown",
      "metadata": {
        "id": "view-in-github",
        "colab_type": "text"
      },
      "source": [
        "<a href=\"https://colab.research.google.com/github/leadeeerq/machine-learning/blob/main/NeuralNetworks.ipynb\" target=\"_parent\"><img src=\"https://colab.research.google.com/assets/colab-badge.svg\" alt=\"Open In Colab\"/></a>"
      ]
    },
    {
      "cell_type": "markdown",
      "source": [
        "#Neural Networks"
      ],
      "metadata": {
        "id": "S2Agysmnir-4"
      }
    },
    {
      "cell_type": "markdown",
      "source": [
        "##3 inputs, 1 neuron"
      ],
      "metadata": {
        "id": "Uz_sIQVuiuJL"
      }
    },
    {
      "cell_type": "code",
      "execution_count": 1,
      "metadata": {
        "colab": {
          "base_uri": "https://localhost:8080/"
        },
        "id": "ph5MS4Yzf859",
        "outputId": "71160812-6824-4a4c-f01f-a02c8580b893"
      },
      "outputs": [
        {
          "output_type": "stream",
          "name": "stdout",
          "text": [
            "22.83\n"
          ]
        }
      ],
      "source": [
        "inputs = [2.1, 4.3, 1.9]\n",
        "weights = [4.0, 1.2, 3.3]\n",
        "bias = 3\n",
        "\n",
        "output = inputs[0] * weights[0] + inputs[1] * weights[1] + inputs[2] * weights[2] + bias\n",
        "\n",
        "print(output)"
      ]
    },
    {
      "cell_type": "code",
      "source": [
        "inputs = [1, 2, 3, 2.5]\n",
        "weights = [0.2, 0.8, -0.5, 1.0]\n",
        "bias = 2\n",
        "\n",
        "output = inputs[0] * weights[0] + inputs[1] * weights[1] + inputs[2] * weights[2] + inputs[3] * weights[3] + bias\n",
        "\n",
        "print(output)"
      ],
      "metadata": {
        "colab": {
          "base_uri": "https://localhost:8080/"
        },
        "id": "vL2psFc0iMvz",
        "outputId": "5ef7f6f0-3f94-4eda-b7e9-fe85cac58784"
      },
      "execution_count": 2,
      "outputs": [
        {
          "output_type": "stream",
          "name": "stdout",
          "text": [
            "4.8\n"
          ]
        }
      ]
    },
    {
      "cell_type": "code",
      "source": [
        "inputs = [1, 2, 3, 2.5]\n",
        "weights1 = [0.2, 0.8, -0.5, 1.0]\n",
        "weights2 = [1.0, -0.2, -0.9, 0.4]\n",
        "weights3 = [-0.2, 0.3, 0.15, -0.6]\n",
        "bias1 = 2\n",
        "bias2 = 5\n",
        "bias3 = 0.2\n",
        "\n",
        "output = [inputs[0] * weights1[0] + inputs[1] * weights1[1] + inputs[2] * weights1[2] + inputs[3] * weights1[3] + bias1, \n",
        "          inputs[0] * weights2[0] + inputs[1] * weights2[1] + inputs[2] * weights2[2] + inputs[3] * weights2[3] + bias2, \n",
        "          inputs[0] * weights3[0] + inputs[1] * weights3[1] + inputs[2] * weights3[2] + inputs[3] * weights3[3] + bias3]\n",
        "\n",
        "print(output)"
      ],
      "metadata": {
        "colab": {
          "base_uri": "https://localhost:8080/"
        },
        "id": "CxSlOqljjynj",
        "outputId": "aea9549a-1f92-4860-f14d-5ec7ce247500"
      },
      "execution_count": 3,
      "outputs": [
        {
          "output_type": "stream",
          "name": "stdout",
          "text": [
            "[4.8, 3.9, -0.4500000000000001]\n"
          ]
        }
      ]
    },
    {
      "cell_type": "code",
      "source": [
        "inputs = [1, 2, 3, 2.5]\n",
        "\n",
        "weights = [[0.2, 0.8, -0.5, 1.0], [1.0, -0.2, -0.9, 0.4], [-0.2, 0.3, 0.15, -0.6]]\n",
        "biases = [2, 5, 0.2]\n",
        "\n",
        "outputs = []\n",
        "for n_weights, n_bias in zip(weights, biases):\n",
        "  n_output = 0\n",
        "  for n_input, weight in zip(inputs, n_weights):\n",
        "    n_output += n_input*weight\n",
        "  n_output += n_bias\n",
        "  outputs.append(n_output)\n",
        "\n",
        "print(outputs)"
      ],
      "metadata": {
        "colab": {
          "base_uri": "https://localhost:8080/"
        },
        "id": "TPnRqpDQmdVK",
        "outputId": "345b2625-c8de-42e9-eae5-68194df7e9b7"
      },
      "execution_count": 4,
      "outputs": [
        {
          "output_type": "stream",
          "name": "stdout",
          "text": [
            "[4.8, 3.9, -0.4500000000000001]\n"
          ]
        }
      ]
    },
    {
      "cell_type": "code",
      "source": [
        "import numpy as np"
      ],
      "metadata": {
        "id": "1C--jZmAqrps"
      },
      "execution_count": 5,
      "outputs": []
    },
    {
      "cell_type": "code",
      "source": [
        "inputs = [1, 2, 3, 2.5]\n",
        "\n",
        "weights = [[0.2, 0.8, -0.5, 1.0], \n",
        "           [1.0, -0.2, -0.9, 0.4], \n",
        "           [-0.2, 0.3, 0.15, -0.6]]\n",
        "biases = [2, 5, 0.2]\n",
        "\n",
        "output = np.dot(weights, inputs) + biases\n",
        "print(output)"
      ],
      "metadata": {
        "colab": {
          "base_uri": "https://localhost:8080/"
        },
        "id": "2Fypnu4OqtVf",
        "outputId": "bf6c6283-617d-4fa3-e4db-52db5c3fdefc"
      },
      "execution_count": 6,
      "outputs": [
        {
          "output_type": "stream",
          "name": "stdout",
          "text": [
            "[ 4.8   3.9  -0.45]\n"
          ]
        }
      ]
    },
    {
      "cell_type": "markdown",
      "source": [
        "##Batches"
      ],
      "metadata": {
        "id": "ORrAcbNphSq0"
      }
    },
    {
      "cell_type": "code",
      "source": [
        "print(np.random.random_sample(size = (3,4)))"
      ],
      "metadata": {
        "colab": {
          "base_uri": "https://localhost:8080/"
        },
        "id": "7SPL4FUIhfWY",
        "outputId": "77f91dd7-3d9c-4493-c3be-394082a2e40e"
      },
      "execution_count": 7,
      "outputs": [
        {
          "output_type": "stream",
          "name": "stdout",
          "text": [
            "[[0.58808715 0.98098729 0.68409103 0.45226567]\n",
            " [0.10927895 0.88524281 0.3819479  0.44432275]\n",
            " [0.48162048 0.10013774 0.40409989 0.81042671]]\n"
          ]
        }
      ]
    },
    {
      "cell_type": "code",
      "source": [
        "inputs = np.random.random_sample(size = (7,4))\n",
        "\n",
        "weights = [[0.2, 0.8, -0.5, 1.0], \n",
        "           [1.0, -0.2, -0.9, 0.4], \n",
        "           [-0.2, 0.3, 0.15, -0.6]]\n",
        "biases = [2, 5, 0.2]\n",
        "\n",
        "output = np.dot(inputs, np.array(weights).T) + biases\n",
        "print(output)"
      ],
      "metadata": {
        "colab": {
          "base_uri": "https://localhost:8080/"
        },
        "id": "fuFBjMrNhSKZ",
        "outputId": "284fcb0b-d705-4365-adc5-7a0c6e9e845b"
      },
      "execution_count": 8,
      "outputs": [
        {
          "output_type": "stream",
          "name": "stdout",
          "text": [
            "[[ 2.56723263  4.60809036  0.19673775]\n",
            " [ 2.17058082  4.77021197  0.2969049 ]\n",
            " [ 3.29839516  5.10338906 -0.16858408]\n",
            " [ 2.64417636  5.57737619 -0.2824715 ]\n",
            " [ 3.1925695   5.73409909 -0.04995693]\n",
            " [ 2.92019532  5.30728774  0.23086735]\n",
            " [ 2.83153858  4.78734723  0.03599678]]\n"
          ]
        }
      ]
    },
    {
      "cell_type": "markdown",
      "source": [
        "##Two layers"
      ],
      "metadata": {
        "id": "XlifG85Ti-Bq"
      }
    },
    {
      "cell_type": "code",
      "source": [
        "print(np.random.random_sample(size = (3,4)))"
      ],
      "metadata": {
        "colab": {
          "base_uri": "https://localhost:8080/"
        },
        "id": "ru5yRp3QjrAe",
        "outputId": "6dd26be6-e9b1-4e4a-8d01-8ae7a46c0e72"
      },
      "execution_count": 9,
      "outputs": [
        {
          "output_type": "stream",
          "name": "stdout",
          "text": [
            "[[0.97972174 0.82913222 0.98235061 0.10787866]\n",
            " [0.29012807 0.65798977 0.02194303 0.74285152]\n",
            " [0.03654883 0.47143451 0.24665388 0.92747703]]\n"
          ]
        }
      ]
    },
    {
      "cell_type": "code",
      "source": [
        "inputs = [[0.93582706, 0.64169928, 0.52210081, 0.18920392],\n",
        "          [0.5039839,  0.30745504, 0.31673182, 0.31581173],\n",
        "          [0.19958411, 0.49042499, 0.96125587, 0.28565508]]\n",
        "\n",
        "weights1 = [[0.82075742, 0.94585387, 0.57495275, 0.58919661],\n",
        "            [0.37439346, 0.85262017, 0.0276554, 0.05364667],\n",
        "            [0.14555717, 0.5483253,  0.38771291, 0.09537276]]\n",
        "biases1 = [2, 5, 0.2]\n",
        "\n",
        "weights2 = [[0.65784993, 0.57189095, 0.85015167],\n",
        "            [0.98449977, 0.55685987, 0.66515615],\n",
        "            [0.10795024, 0.1528566,  0.56350021]]\n",
        "biases2 = [1, -0.5, 0.2]\n",
        "\n",
        "layer1_outputs = np.dot(inputs, np.array(weights1).T) + biases1\n",
        "layer2_outputs = np.dot(layer1_outputs, np.array(weights2).T) + biases2\n",
        "\n",
        "print(layer2_outputs)"
      ],
      "metadata": {
        "colab": {
          "base_uri": "https://localhost:8080/"
        },
        "id": "Njhw6bSfjAnX",
        "outputId": "b9c92d5f-d0dc-4319-b8f6-229854c8b114"
      },
      "execution_count": 10,
      "outputs": [
        {
          "output_type": "stream",
          "name": "stdout",
          "text": [
            "[[7.65026943 7.13010284 2.0259709 ]\n",
            " [6.65903854 5.97034946 1.70402239]\n",
            " [7.13155752 6.4760973  1.9134823 ]]\n"
          ]
        }
      ]
    },
    {
      "cell_type": "markdown",
      "source": [
        "##OOP"
      ],
      "metadata": {
        "id": "jTT9ldp3kL9I"
      }
    },
    {
      "cell_type": "code",
      "source": [
        "import numpy as np\n",
        "np.random.seed(0)\n",
        "\n",
        "X = [[0.93582706, 0.64169928, 0.52210081, 0.18920392],\n",
        "    [0.5039839,  0.30745504, 0.31673182, 0.31581173],\n",
        "    [0.19958411, 0.49042499, 0.96125587, 0.28565508]]\n",
        "\n",
        "class Layer_Dense:\n",
        "  def __init__(self, n_inputs, n_neurons):\n",
        "    self.weights = 0.1*np.random.randn(n_inputs, n_neurons)\n",
        "    self.biases = np.zeros((1, n_neurons))\n",
        "  def forward(self, inputs):\n",
        "    self.output = np.dot(inputs, self.weights) + self.biases\n",
        "\n",
        "layer1 = Layer_Dense(4, 5)\n",
        "layer2 = Layer_Dense(5, 2)\n",
        "\n",
        "layer1.forward(X)\n",
        "print(layer1.output)\n",
        "layer2.forward(layer1.output)\n",
        "print(layer2.output)"
      ],
      "metadata": {
        "colab": {
          "base_uri": "https://localhost:8080/"
        },
        "id": "RG2v_jiIkNGO",
        "outputId": "792ff539-313c-4bb9-dd91-67fb85e68906"
      },
      "execution_count": 11,
      "outputs": [
        {
          "output_type": "stream",
          "name": "stdout",
          "text": [
            "[[0.11620672 0.2026112  0.11773253 0.21536133 0.20813352]\n",
            " [0.07395864 0.14262447 0.06229861 0.12350477 0.09383119]\n",
            " [0.01065738 0.23705323 0.07940587 0.06030158 0.0756792 ]]\n",
            "[[ 0.04745712  0.00198684]\n",
            " [ 0.02253505 -0.00333615]\n",
            " [ 0.04766999 -0.01845395]]\n"
          ]
        }
      ]
    },
    {
      "cell_type": "markdown",
      "source": [
        "##ReLU"
      ],
      "metadata": {
        "id": "IqTNCIqMticS"
      }
    },
    {
      "cell_type": "code",
      "source": [
        "import numpy as np\n",
        "np.random.seed(0)\n",
        "\n",
        "X = [[0.93582706, 0.64169928, 0.52210081, 0.18920392],\n",
        "    [0.5039839,  0.30745504, 0.31673182, 0.31581173],\n",
        "    [0.19958411, 0.49042499, 0.96125587, 0.28565508]]\n",
        "\n",
        "inputs = [0, 2, -1, 3.3, -2.8, 2.1, 1.8, -91]\n",
        "output = []\n",
        "\n",
        "for i in inputs:\n",
        "  # if i > 0:\n",
        "  #   output.append(i)\n",
        "  # elif i <= 0:\n",
        "  #   output.append(0)\n",
        "  output.append(max(0, i))\n",
        "\n",
        "print(output)\n",
        "\n",
        "# class Layer_Dense:\n",
        "#   def __init__(self, n_inputs, n_neurons):\n",
        "#     self.weights = 0.1*np.random.randn(n_inputs, n_neurons)\n",
        "#     self.biases = np.zeros((1, n_neurons))\n",
        "#   def forward(self, inputs):\n",
        "#     self.output = np.dot(inputs, self.weights) + self.biases\n",
        "\n",
        "# layer1 = Layer_Dense(4, 5)\n",
        "# layer2 = Layer_Dense(5, 2)\n",
        "\n",
        "# layer1.forward(X)\n",
        "# print(layer1.output)\n",
        "# layer2.forward(layer1.output)\n",
        "# print(layer2.output)"
      ],
      "metadata": {
        "colab": {
          "base_uri": "https://localhost:8080/"
        },
        "id": "0rWiLOAZtjRl",
        "outputId": "88e8924f-78f4-44f8-cf8a-46c54f874d99"
      },
      "execution_count": 12,
      "outputs": [
        {
          "output_type": "stream",
          "name": "stdout",
          "text": [
            "[0, 2, 0, 3.3, 0, 2.1, 1.8, 0]\n"
          ]
        }
      ]
    },
    {
      "cell_type": "code",
      "source": [
        "!pip install nnfs"
      ],
      "metadata": {
        "colab": {
          "base_uri": "https://localhost:8080/"
        },
        "id": "cWYkJt9TblJq",
        "outputId": "04a2fdbb-441c-4d55-e032-c8ca414ebf47"
      },
      "execution_count": 13,
      "outputs": [
        {
          "output_type": "stream",
          "name": "stdout",
          "text": [
            "Looking in indexes: https://pypi.org/simple, https://us-python.pkg.dev/colab-wheels/public/simple/\n",
            "Collecting nnfs\n",
            "  Downloading nnfs-0.5.1-py3-none-any.whl (9.1 kB)\n",
            "Requirement already satisfied: numpy in /usr/local/lib/python3.8/dist-packages (from nnfs) (1.21.6)\n",
            "Installing collected packages: nnfs\n",
            "Successfully installed nnfs-0.5.1\n"
          ]
        }
      ]
    },
    {
      "cell_type": "markdown",
      "source": [
        "###Generating data"
      ],
      "metadata": {
        "id": "wWiEsSPNcV2H"
      }
    },
    {
      "cell_type": "code",
      "source": [
        "def create_data(points, classes):\n",
        "  X = np.zeros((points*classes, 2))\n",
        "  y = np.zeros(points*classes, dtype = 'uint8')\n",
        "  for class_number in range(classes):\n",
        "    ix = range(points*class_number, points*(class_number+1))\n",
        "    r = np.linspace(0.0, 1, points)\n",
        "    t = np.linspace(class_number*4, (class_number+1)*4, points) + np.random.randn(points)*0.2\n",
        "    X[ix] = np.c_[r*np.sin(t*2.5), r*np.cos(t*2.5)]\n",
        "    y[ix] = class_number\n",
        "  return X, y"
      ],
      "metadata": {
        "id": "RH26JNnwcXKM"
      },
      "execution_count": 14,
      "outputs": []
    },
    {
      "cell_type": "code",
      "source": [
        "import matplotlib.pyplot as plt\n",
        "\n",
        "X, y = create_data(100, 3)\n",
        "plt.scatter(X[:, 0], X[:, 1])\n",
        "plt.show()\n",
        "\n",
        "plt.scatter(X[:, 0], X[:, 1], c = y, cmap = 'brg')\n",
        "plt.show()"
      ],
      "metadata": {
        "colab": {
          "base_uri": "https://localhost:8080/",
          "height": 515
        },
        "id": "axoEgxaJeWhM",
        "outputId": "de44ecef-b007-4943-e703-e37cce6459f1"
      },
      "execution_count": 15,
      "outputs": [
        {
          "output_type": "display_data",
          "data": {
            "text/plain": [
              "<Figure size 432x288 with 1 Axes>"
            ],
            "image/png": "[encoded data removed]"
          },
          "metadata": {
            "needs_background": "light"
          }
        },
        {
          "output_type": "display_data",
          "data": {
            "text/plain": [
              "<Figure size 432x288 with 1 Axes>"
            ],
            "image/png": "[encoded data removed]"
          },
          "metadata": {
            "needs_background": "light"
          }
        }
      ]
    },
    {
      "cell_type": "markdown",
      "source": [
        "###Activation class"
      ],
      "metadata": {
        "id": "xSo_w3jgxuIT"
      }
    },
    {
      "cell_type": "code",
      "source": [
        "import numpy as np\n",
        "\n",
        "class Layer_Dense:\n",
        "  def __init__(self, n_inputs, n_neurons):\n",
        "    self.weights = 0.1*np.random.randn(n_inputs, n_neurons)\n",
        "    self.biases = np.zeros((1, n_neurons))\n",
        "  def forward(self, inputs):\n",
        "    self.output = np.dot(inputs, self.weights) + self.biases\n",
        "\n",
        "class Activation_ReLU:\n",
        "  def forward(self, inputs):\n",
        "    self.output = np.maximum(0, inputs)\n",
        "\n",
        "layer1 = Layer_Dense(2, 5)\n",
        "activation1 = Activation_ReLU()\n",
        "layer1.forward(X)\n",
        "# print(layer1.output)\n",
        "activation1.forward(layer1.output)\n",
        "print(activation1.output)"
      ],
      "metadata": {
        "colab": {
          "base_uri": "https://localhost:8080/"
        },
        "id": "WVjvvB05bEkU",
        "outputId": "7ec464c2-60fd-42b5-8740-7ee3de6b4069"
      },
      "execution_count": 16,
      "outputs": [
        {
          "output_type": "stream",
          "name": "stdout",
          "text": [
            "[[0.00000000e+00 0.00000000e+00 0.00000000e+00 0.00000000e+00\n",
            "  0.00000000e+00]\n",
            " [0.00000000e+00 0.00000000e+00 0.00000000e+00 4.65504526e-04\n",
            "  4.56845892e-05]\n",
            " [0.00000000e+00 5.93467943e-05 0.00000000e+00 2.03573189e-04\n",
            "  6.10024276e-04]\n",
            " ...\n",
            " [1.13291515e-01 0.00000000e+00 0.00000000e+00 8.11079627e-02\n",
            "  0.00000000e+00]\n",
            " [1.34588354e-01 0.00000000e+00 3.09493973e-02 5.66337522e-02\n",
            "  0.00000000e+00]\n",
            " [1.07817915e-01 0.00000000e+00 0.00000000e+00 8.72561871e-02\n",
            "  0.00000000e+00]]\n"
          ]
        }
      ]
    },
    {
      "cell_type": "markdown",
      "source": [
        "##Softmax"
      ],
      "metadata": {
        "id": "kiZKIRj9Qt7p"
      }
    },
    {
      "cell_type": "markdown",
      "source": [
        "###Exponential values"
      ],
      "metadata": {
        "id": "WNmGHU-kuxuE"
      }
    },
    {
      "cell_type": "code",
      "source": [
        "import math\n",
        "\n",
        "layer_outputs = [0.93582706, 0.64169928, 0.52210081, 0.18920392]\n",
        "# E = math.e\n",
        "exp_values = []\n",
        "\n",
        "# for output in layer_outputs:\n",
        "#   exp_values.append(E**output)\n",
        "exp_values = np.exp(layer_outputs)\n",
        "print(exp_values)"
      ],
      "metadata": {
        "colab": {
          "base_uri": "https://localhost:8080/"
        },
        "id": "EQwpZw-bQx8R",
        "outputId": "401b69dd-af37-41c9-ab1b-ecaa1cf4f059"
      },
      "execution_count": 33,
      "outputs": [
        {
          "output_type": "stream",
          "name": "stdout",
          "text": [
            "[2.54932103 1.89970627 1.68556498 1.20828732]\n"
          ]
        }
      ]
    },
    {
      "cell_type": "markdown",
      "source": [
        "###Normalization"
      ],
      "metadata": {
        "id": "ew-VsIxQRA-P"
      }
    },
    {
      "cell_type": "code",
      "source": [
        "#To get rid off the negative values"
      ],
      "metadata": {
        "id": "xJGysf2zRCNz"
      },
      "execution_count": 18,
      "outputs": []
    },
    {
      "cell_type": "code",
      "source": [
        "norm_base = sum(exp_values)\n",
        "norm_values = []\n",
        "\n",
        "# for value in exp_values:\n",
        "#   norm_values.append(value/norm_base)\n",
        "\n",
        "norm_values = exp_values / np.sum(exp_values)\n",
        "\n",
        "print('Probability distribution', norm_values)\n",
        "print(sum(norm_values))"
      ],
      "metadata": {
        "colab": {
          "base_uri": "https://localhost:8080/"
        },
        "id": "JwrYwNW3Rp-Z",
        "outputId": "0d66bbaf-508f-487a-9d23-da72052c3617"
      },
      "execution_count": 34,
      "outputs": [
        {
          "output_type": "stream",
          "name": "stdout",
          "text": [
            "Probability distribution [0.34718274 0.25871407 0.22955095 0.16455224]\n",
            "1.0\n"
          ]
        }
      ]
    },
    {
      "cell_type": "markdown",
      "source": [
        "###exponentiate + normalize -> softmax"
      ],
      "metadata": {
        "id": "mfK2x65YvTbq"
      }
    },
    {
      "cell_type": "markdown",
      "source": [
        "###Batches"
      ],
      "metadata": {
        "id": "lVO9mGKCvsqd"
      }
    },
    {
      "cell_type": "code",
      "source": [
        "layer_outputs = [[0.93582706, 0.64169928, 0.52210081, 0.18920392],\n",
        "                 [0.5039839,  0.30745504, 0.31673182, 0.31581173],\n",
        "                 [0.19958411, 0.49042499, 0.96125587, 0.28565508]]\n",
        "\n",
        "exp_values = np.exp(layer_outputs)\n",
        "print(exp_values)\n",
        "\n",
        "print(np.sum(layer_outputs, axis = 1, keepdims = True))\n",
        "\n",
        "norm_values = exp_values / np.sum(exp_values, axis = 1, keepdims = True)\n",
        "print(norm_values)"
      ],
      "metadata": {
        "colab": {
          "base_uri": "https://localhost:8080/"
        },
        "id": "bgBdY5EnvXqi",
        "outputId": "4368c837-3a00-4c2e-daf1-4d70fb565119"
      },
      "execution_count": 32,
      "outputs": [
        {
          "output_type": "stream",
          "name": "stdout",
          "text": [
            "[[2.54932103 1.89970627 1.68556498 1.20828732]\n",
            " [1.65530271 1.35995966 1.37263441 1.37137204]\n",
            " [1.22089489 1.63301009 2.61497849 1.33063341]]\n",
            "[[2.28883107]\n",
            " [1.44398249]\n",
            " [1.93692005]]\n",
            "[[0.34718274 0.25871407 0.22955095 0.16455224]\n",
            " [0.28741543 0.23613408 0.23833484 0.23811565]\n",
            " [0.17955612 0.24016561 0.38458298 0.19569529]]\n"
          ]
        }
      ]
    },
    {
      "cell_type": "markdown",
      "source": [
        "###Activation class"
      ],
      "metadata": {
        "id": "b4iBwoRqx2qD"
      }
    },
    {
      "cell_type": "code",
      "source": [
        "class Layer_Dense:\n",
        "  def __init__(self, n_inputs, n_neurons):\n",
        "    self.weights = 0.1*np.random.randn(n_inputs, n_neurons)\n",
        "    self.biases = np.zeros((1, n_neurons))\n",
        "  def forward(self, inputs):\n",
        "    self.output = np.dot(inputs, self.weights) + self.biases\n",
        "\n",
        "class Activation_ReLU:\n",
        "  def forward(self, inputs):\n",
        "    self.output = np.maximum(0, inputs)\n",
        "\n",
        "class Activation_Softmax:\n",
        "  def forward(self, inputs):\n",
        "    exp_values = np.exp(inputs - np.max(inputs, axis = 1, keepdims = True))\n",
        "    probabilities = exp_values / np.sum(exp_values, axis = 1, keepdims = True)\n",
        "    self.output = probabilities\n",
        "\n",
        "X, y = create_data(100, 3)\n",
        "\n",
        "dense1 = Layer_Dense(2, 3)\n",
        "activation1 = Activation_ReLU()\n",
        "\n",
        "dense2 = Layer_Dense(3, 3)\n",
        "activation2 = Activation_Softmax()\n",
        "\n",
        "dense1.forward(X)\n",
        "activation1.forward(dense1.output)\n",
        "dense2.forward(activation1.output)\n",
        "activation2.forward(dense2.output)\n",
        "\n",
        "print(activation2.output[:5])"
      ],
      "metadata": {
        "colab": {
          "base_uri": "https://localhost:8080/"
        },
        "id": "8_DeVVjvx2d2",
        "outputId": "cc1a2e22-4780-4c31-b464-6789cfb0333c"
      },
      "execution_count": 35,
      "outputs": [
        {
          "output_type": "stream",
          "name": "stdout",
          "text": [
            "[[0.33333333 0.33333333 0.33333333]\n",
            " [0.3333351  0.33333329 0.33333161]\n",
            " [0.33327101 0.33333011 0.33339888]\n",
            " [0.33329674 0.33330456 0.3333987 ]\n",
            " [0.33331198 0.33331375 0.33337426]]\n"
          ]
        }
      ]
    },
    {
      "cell_type": "code",
      "source": [
        "layer_outputs = [[0.93582706, 0.64169928, 0.52210081, 0.18920392],\n",
        "                 [0.5039839,  0.30745504, 0.31673182, 0.31581173],\n",
        "                 [0.19958411, 0.49042499, 0.96125587, 0.28565508]]\n",
        "\n",
        "exp_values = np.exp(layer_outputs - np.max(layer_outputs, axis = 1, keepdims = True))\n",
        "print(exp_values)\n",
        "print(np.max(layer_outputs, axis = 1, keepdims = True))\n",
        "probabilities = exp_values / np.sum(exp_values, axis = 1, keepdims = True)\n",
        "print(probabilities)"
      ],
      "metadata": {
        "colab": {
          "base_uri": "https://localhost:8080/"
        },
        "id": "wfO-CzfE0FeG",
        "outputId": "6c3cebde-150f-473a-b26a-fec634ed1511"
      },
      "execution_count": 40,
      "outputs": [
        {
          "output_type": "stream",
          "name": "stdout",
          "text": [
            "[[1.         0.74518127 0.66118193 0.47396436]\n",
            " [1.         0.82157762 0.82923468 0.82847206]\n",
            " [0.46688525 0.62448318 1.         0.50885062]]\n",
            "[[0.93582706]\n",
            " [0.5039839 ]\n",
            " [0.96125587]]\n",
            "[[0.34718274 0.25871407 0.22955095 0.16455224]\n",
            " [0.28741543 0.23613408 0.23833484 0.23811565]\n",
            " [0.17955612 0.24016561 0.38458298 0.19569529]]\n"
          ]
        }
      ]
    },
    {
      "cell_type": "markdown",
      "source": [
        "##Loss function - categorical cross-entropy"
      ],
      "metadata": {
        "id": "mqBtqavM5gHy"
      }
    },
    {
      "cell_type": "code",
      "source": [
        "softmax_output = [0.93582706, 0.64169928, 0.52210081] #Outputs that can be generated with softmax act. foo\n",
        "target_output = [1, 0, 0]\n",
        "\n",
        "loss = -(math.log(softmax_output[0])*target_output[0]+\n",
        "         math.log(softmax_output[1])*target_output[1]+\n",
        "         math.log(softmax_output[2])*target_output[2])\n",
        "\n",
        "print(loss)"
      ],
      "metadata": {
        "colab": {
          "base_uri": "https://localhost:8080/"
        },
        "id": "zVXAVPvz5iVK",
        "outputId": "0d3c9fe6-252a-4108-9346-5e0c17fb32d0"
      },
      "execution_count": 43,
      "outputs": [
        {
          "output_type": "stream",
          "name": "stdout",
          "text": [
            "0.06632458453295743\n"
          ]
        }
      ]
    },
    {
      "cell_type": "markdown",
      "source": [
        "###Implementing loss"
      ],
      "metadata": {
        "id": "ytMbrhRtCbVX"
      }
    },
    {
      "cell_type": "code",
      "source": [
        "softmax_outputs = [[0.93582706, 0.64169928, 0.52210081, 0.18920392],\n",
        "                   [0.5039839,  0.30745504, 0.31673182, 0.31581173],\n",
        "                   [0.19958411, 0.49042499, 0.96125587, 0.28565508]]\n",
        "class_targets = [0, 1, 1]\n",
        "\n",
        "for targ_idx, distribution in zip(class_targets, softmax_outputs):\n",
        "  print(distribution[targ_idx])"
      ],
      "metadata": {
        "colab": {
          "base_uri": "https://localhost:8080/"
        },
        "id": "OHNXDrxNCcuP",
        "outputId": "3f501eb6-847d-4f22-c04a-dfcd5be2cd8e"
      },
      "execution_count": 55,
      "outputs": [
        {
          "output_type": "stream",
          "name": "stdout",
          "text": [
            "0.93582706\n",
            "0.30745504\n",
            "0.49042499\n"
          ]
        }
      ]
    },
    {
      "cell_type": "code",
      "source": [
        "softmax_outputs = np.array([[0.93582706, 0.64169928, 0.52210081, 0.18920392],\n",
        "                            [0.5039839,  0.30745504, 0.31673182, 0.31581173],\n",
        "                            [0.19958411, 0.49042499, 0.96125587, 0.28565508]])\n",
        "class_targets = [0, 1, 1]\n",
        "\n",
        "print(softmax_outputs[[0, 1, 2], class_targets])"
      ],
      "metadata": {
        "colab": {
          "base_uri": "https://localhost:8080/"
        },
        "id": "yxZfakE-Dn-F",
        "outputId": "9ba2f5c9-fe60-4210-cc15-0e0b331d2323"
      },
      "execution_count": 56,
      "outputs": [
        {
          "output_type": "stream",
          "name": "stdout",
          "text": [
            "[0.93582706 0.30745504 0.49042499]\n"
          ]
        }
      ]
    },
    {
      "cell_type": "markdown",
      "source": [
        "###Losses"
      ],
      "metadata": {
        "id": "ma9g1twDEB8r"
      }
    },
    {
      "cell_type": "code",
      "source": [
        "print(-np.log(softmax_outputs[\n",
        "    range(len(softmax_outputs)), class_targets\n",
        "]))"
      ],
      "metadata": {
        "colab": {
          "base_uri": "https://localhost:8080/"
        },
        "id": "8V-wxW_eDaMb",
        "outputId": "2cb37dd5-b707-4f14-ad4a-223383dc2404"
      },
      "execution_count": 57,
      "outputs": [
        {
          "output_type": "stream",
          "name": "stdout",
          "text": [
            "[0.06632458 1.17942641 0.71248294]\n"
          ]
        }
      ]
    },
    {
      "cell_type": "code",
      "source": [
        "class Layer_Dense:\n",
        "  def __init__(self, n_inputs, n_neurons):\n",
        "    self.weights = 0.1*np.random.randn(n_inputs, n_neurons)\n",
        "    self.biases = np.zeros((1, n_neurons))\n",
        "  def forward(self, inputs):\n",
        "    self.output = np.dot(inputs, self.weights) + self.biases\n",
        "\n",
        "class Activation_ReLU:\n",
        "  def forward(self, inputs):\n",
        "    self.output = np.maximum(0, inputs)\n",
        "\n",
        "class Activation_Softmax:\n",
        "  def forward(self, inputs):\n",
        "    exp_values = np.exp(inputs - np.max(inputs, axis = 1, keepdims = True))\n",
        "    probabilities = exp_values / np.sum(exp_values, axis = 1, keepdims = True)\n",
        "    self.output = probabilities\n",
        "\n",
        "class Loss:\n",
        "  def calculate(self, output, y):\n",
        "    sample_losses = self.forward(output, y)\n",
        "    data_loss = np.mean(sample_losses)\n",
        "    return data_loss\n",
        "\n",
        "class Loss_CategoricalCrossentropy(Loss):\n",
        "  def forward(self, y_pred, y_true):\n",
        "    samples = len(y_pred)\n",
        "    y_pred_clipped = np.clip(y_pred, 1e-7, 1-1e-7)\n",
        "\n",
        "    if len(y_true.shape) == 1:\n",
        "      #Scalar value\n",
        "      correct_confidences = y_pred_clipped[range(samples), y_true]\n",
        "    elif len(y_true.shape) == 2:\n",
        "      #One hot encoded vectors\n",
        "      correct_confidences = np.sum(y_pred_clipped * y_true, axis = 1) \n",
        "\n",
        "    negative_log_likelihoods = -np.log(correct_confidences)\n",
        "    return negative_log_likelihoods\n",
        "\n",
        "class Accuracy:\n",
        "  def evaluate(self, output, y):\n",
        "    predictions = np.argmax(output, axis = 1)\n",
        "    accuracy = np.mean(predictions == y)\n",
        "    return accuracy\n",
        "\n",
        "X, y = create_data(100, 3)\n",
        "\n",
        "dense1 = Layer_Dense(2, 3)\n",
        "activation1 = Activation_ReLU()\n",
        "\n",
        "dense2 = Layer_Dense(3, 3)\n",
        "activation2 = Activation_Softmax()\n",
        "\n",
        "dense1.forward(X)\n",
        "activation1.forward(dense1.output)\n",
        "dense2.forward(activation1.output)\n",
        "activation2.forward(dense2.output)\n",
        "\n",
        "print(activation2.output[:5])\n",
        "\n",
        "loss_function = Loss_CategoricalCrossentropy()\n",
        "loss = loss_function.calculate(activation2.output, y)\n",
        "print('Loss:', loss)\n",
        "\n",
        "acc_function = Accuracy()\n",
        "acc = acc_function.evaluate(activation2.output, y)\n",
        "print('Accuracy:', acc)"
      ],
      "metadata": {
        "colab": {
          "base_uri": "https://localhost:8080/"
        },
        "id": "vYtgTSLZE7av",
        "outputId": "f80cfcbc-dcaf-457e-f4f8-281b1d8043f7"
      },
      "execution_count": 61,
      "outputs": [
        {
          "output_type": "stream",
          "name": "stdout",
          "text": [
            "[[0.33333333 0.33333333 0.33333333]\n",
            " [0.33333668 0.33333591 0.33332741]\n",
            " [0.33334371 0.33334131 0.33331497]\n",
            " [0.33334809 0.33334468 0.33330724]\n",
            " [0.33332623 0.33330569 0.33336809]]\n",
            "Loss: 1.098701357591617\n",
            "Accuracy: 0.3466666666666667\n"
          ]
        }
      ]
    },
    {
      "cell_type": "code",
      "source": [
        "softmax_outputs = np.array([[0.93582706, 0.64169928, 0.52210081],\n",
        "                            [0.5039839,  0.30745504, 0.31673182],\n",
        "                            [0.19958411, 0.49042499, 0.96125587]])\n",
        "class_targets = [1, 0, 2]\n",
        "\n",
        "acc_function = Accuracy()\n",
        "acc = acc_function.evaluate(softmax_outputs, class_targets)\n",
        "print('Accuracy:', acc)"
      ],
      "metadata": {
        "colab": {
          "base_uri": "https://localhost:8080/"
        },
        "id": "FGkUmM9kLoYT",
        "outputId": "10960255-eb4b-4dd4-8ce1-f08cef186648"
      },
      "execution_count": 72,
      "outputs": [
        {
          "output_type": "stream",
          "name": "stdout",
          "text": [
            "Accuracy: 0.6666666666666666\n"
          ]
        }
      ]
    }
  ]
}