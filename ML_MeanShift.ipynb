{
  "nbformat": 4,
  "nbformat_minor": 0,
  "metadata": {
    "colab": {
      "provenance": [],
      "collapsed_sections": [],
      "toc_visible": true,
      "mount_file_id": "1h0OsDucbznzU5XZuRqShklzc5ACaBfyA",
      "authorship_tag": "ABX9TyM4WFw9nzZv29EvKt90vd0e",
      "include_colab_link": true
    },
    "kernelspec": {
      "name": "python3",
      "display_name": "Python 3"
    },
    "language_info": {
      "name": "python"
    }
  },
  "cells": [
    {
      "cell_type": "markdown",
      "metadata": {
        "id": "view-in-github",
        "colab_type": "text"
      },
      "source": [
        "<a href=\"https://colab.research.google.com/github/leadeeerq/machine-learning/blob/main/ML_MeanShift.ipynb\" target=\"_parent\"><img src=\"https://colab.research.google.com/assets/colab-badge.svg\" alt=\"Open In Colab\"/></a>"
      ]
    },
    {
      "cell_type": "markdown",
      "source": [
        "#Mean Shift"
      ],
      "metadata": {
        "id": "oKbyAsILu0yP"
      }
    },
    {
      "cell_type": "code",
      "execution_count": null,
      "metadata": {
        "id": "DcqYcs1WuiuJ"
      },
      "outputs": [],
      "source": [
        "import pandas as pd\n",
        "import numpy as np\n",
        "import matplotlib.pyplot as plt\n",
        "from matplotlib import style\n",
        "style.use('ggplot')\n",
        "from sklearn.cluster import MeanShift\n",
        "from sklearn import preprocessing\n",
        "# from sklearn.model_selection import train_test_split"
      ]
    },
    {
      "cell_type": "markdown",
      "source": [
        "##Titanic dataset"
      ],
      "metadata": {
        "id": "cn9lA2_bvYJe"
      }
    },
    {
      "cell_type": "code",
      "source": [
        "!pip install --upgrade xlrd"
      ],
      "metadata": {
        "colab": {
          "base_uri": "https://localhost:8080/"
        },
        "id": "vic0-WbgvZU0",
        "outputId": "8eb50879-9310-4cda-ddbe-ddce53a9139c"
      },
      "execution_count": null,
      "outputs": [
        {
          "output_type": "stream",
          "name": "stdout",
          "text": [
            "Looking in indexes: https://pypi.org/simple, https://us-python.pkg.dev/colab-wheels/public/simple/\n",
            "Requirement already satisfied: xlrd in /usr/local/lib/python3.7/dist-packages (2.0.1)\n"
          ]
        }
      ]
    },
    {
      "cell_type": "markdown",
      "source": [
        "* pclass - passenger class (1, 2, 3)\n",
        "* survival - survival (0 = no, 1 = yes)\n",
        "*   sibsp - number of siblings/spouses aboard\n",
        "*   parch - number of parents/children aborad\n",
        "* ticket - ticket number\n",
        "* fare - passenger fare (british pounds)\n",
        "* cabin\n",
        "* embarked - port of embarkation (C = Cherbourg, Q = Queenstown, S = Southampton)\n",
        "* boat - lifeboat\n",
        "* body - body identification number\n",
        "* home.dest - home/destination"
      ],
      "metadata": {
        "id": "lWbxIslXvbky"
      }
    },
    {
      "cell_type": "code",
      "source": [
        "df = pd.read_excel('/content/drive/MyDrive/Projekty Machine Learning/ML_KMeans/titanic.xls')\n",
        "original_df = pd.DataFrame.copy(df)\n",
        "df.head()"
      ],
      "metadata": {
        "colab": {
          "base_uri": "https://localhost:8080/",
          "height": 206
        },
        "id": "uw29B7eVvdrI",
        "outputId": "40cff093-42ae-4509-be29-4f70ad073f65"
      },
      "execution_count": null,
      "outputs": [
        {
          "output_type": "execute_result",
          "data": {
            "text/plain": [
              "   pclass  survived                                             name     sex  \\\n",
              "0       1         1                    Allen, Miss. Elisabeth Walton  female   \n",
              "1       1         1                   Allison, Master. Hudson Trevor    male   \n",
              "2       1         0                     Allison, Miss. Helen Loraine  female   \n",
              "3       1         0             Allison, Mr. Hudson Joshua Creighton    male   \n",
              "4       1         0  Allison, Mrs. Hudson J C (Bessie Waldo Daniels)  female   \n",
              "\n",
              "       age  sibsp  parch  ticket      fare    cabin embarked boat   body  \\\n",
              "0  29.0000      0      0   24160  211.3375       B5        S    2    NaN   \n",
              "1   0.9167      1      2  113781  151.5500  C22 C26        S   11    NaN   \n",
              "2   2.0000      1      2  113781  151.5500  C22 C26        S  NaN    NaN   \n",
              "3  30.0000      1      2  113781  151.5500  C22 C26        S  NaN  135.0   \n",
              "4  25.0000      1      2  113781  151.5500  C22 C26        S  NaN    NaN   \n",
              "\n",
              "                         home.dest  \n",
              "0                     St Louis, MO  \n",
              "1  Montreal, PQ / Chesterville, ON  \n",
              "2  Montreal, PQ / Chesterville, ON  \n",
              "3  Montreal, PQ / Chesterville, ON  \n",
              "4  Montreal, PQ / Chesterville, ON  "
            ],
            "text/html": [
              "\n",
              "  <div id=\"df-b0af342c-e21f-4ea2-8c61-8178631865fd\">\n",
              "    <div class=\"colab-df-container\">\n",
              "      <div>\n",
              "<style scoped>\n",
              "    .dataframe tbody tr th:only-of-type {\n",
              "        vertical-align: middle;\n",
              "    }\n",
              "\n",
              "    .dataframe tbody tr th {\n",
              "        vertical-align: top;\n",
              "    }\n",
              "\n",
              "    .dataframe thead th {\n",
              "        text-align: right;\n",
              "    }\n",
              "</style>\n",
              "<table border=\"1\" class=\"dataframe\">\n",
              "  <thead>\n",
              "    <tr style=\"text-align: right;\">\n",
              "      <th></th>\n",
              "      <th>pclass</th>\n",
              "      <th>survived</th>\n",
              "      <th>name</th>\n",
              "      <th>sex</th>\n",
              "      <th>age</th>\n",
              "      <th>sibsp</th>\n",
              "      <th>parch</th>\n",
              "      <th>ticket</th>\n",
              "      <th>fare</th>\n",
              "      <th>cabin</th>\n",
              "      <th>embarked</th>\n",
              "      <th>boat</th>\n",
              "      <th>body</th>\n",
              "      <th>home.dest</th>\n",
              "    </tr>\n",
              "  </thead>\n",
              "  <tbody>\n",
              "    <tr>\n",
              "      <th>0</th>\n",
              "      <td>1</td>\n",
              "      <td>1</td>\n",
              "      <td>Allen, Miss. Elisabeth Walton</td>\n",
              "      <td>female</td>\n",
              "      <td>29.0000</td>\n",
              "      <td>0</td>\n",
              "      <td>0</td>\n",
              "      <td>24160</td>\n",
              "      <td>211.3375</td>\n",
              "      <td>B5</td>\n",
              "      <td>S</td>\n",
              "      <td>2</td>\n",
              "      <td>NaN</td>\n",
              "      <td>St Louis, MO</td>\n",
              "    </tr>\n",
              "    <tr>\n",
              "      <th>1</th>\n",
              "      <td>1</td>\n",
              "      <td>1</td>\n",
              "      <td>Allison, Master. Hudson Trevor</td>\n",
              "      <td>male</td>\n",
              "      <td>0.9167</td>\n",
              "      <td>1</td>\n",
              "      <td>2</td>\n",
              "      <td>113781</td>\n",
              "      <td>151.5500</td>\n",
              "      <td>C22 C26</td>\n",
              "      <td>S</td>\n",
              "      <td>11</td>\n",
              "      <td>NaN</td>\n",
              "      <td>Montreal, PQ / Chesterville, ON</td>\n",
              "    </tr>\n",
              "    <tr>\n",
              "      <th>2</th>\n",
              "      <td>1</td>\n",
              "      <td>0</td>\n",
              "      <td>Allison, Miss. Helen Loraine</td>\n",
              "      <td>female</td>\n",
              "      <td>2.0000</td>\n",
              "      <td>1</td>\n",
              "      <td>2</td>\n",
              "      <td>113781</td>\n",
              "      <td>151.5500</td>\n",
              "      <td>C22 C26</td>\n",
              "      <td>S</td>\n",
              "      <td>NaN</td>\n",
              "      <td>NaN</td>\n",
              "      <td>Montreal, PQ / Chesterville, ON</td>\n",
              "    </tr>\n",
              "    <tr>\n",
              "      <th>3</th>\n",
              "      <td>1</td>\n",
              "      <td>0</td>\n",
              "      <td>Allison, Mr. Hudson Joshua Creighton</td>\n",
              "      <td>male</td>\n",
              "      <td>30.0000</td>\n",
              "      <td>1</td>\n",
              "      <td>2</td>\n",
              "      <td>113781</td>\n",
              "      <td>151.5500</td>\n",
              "      <td>C22 C26</td>\n",
              "      <td>S</td>\n",
              "      <td>NaN</td>\n",
              "      <td>135.0</td>\n",
              "      <td>Montreal, PQ / Chesterville, ON</td>\n",
              "    </tr>\n",
              "    <tr>\n",
              "      <th>4</th>\n",
              "      <td>1</td>\n",
              "      <td>0</td>\n",
              "      <td>Allison, Mrs. Hudson J C (Bessie Waldo Daniels)</td>\n",
              "      <td>female</td>\n",
              "      <td>25.0000</td>\n",
              "      <td>1</td>\n",
              "      <td>2</td>\n",
              "      <td>113781</td>\n",
              "      <td>151.5500</td>\n",
              "      <td>C22 C26</td>\n",
              "      <td>S</td>\n",
              "      <td>NaN</td>\n",
              "      <td>NaN</td>\n",
              "      <td>Montreal, PQ / Chesterville, ON</td>\n",
              "    </tr>\n",
              "  </tbody>\n",
              "</table>\n",
              "</div>\n",
              "      <button class=\"colab-df-convert\" onclick=\"convertToInteractive('df-b0af342c-e21f-4ea2-8c61-8178631865fd')\"\n",
              "              title=\"Convert this dataframe to an interactive table.\"\n",
              "              style=\"display:none;\">\n",
              "        \n",
              "  <svg xmlns=\"http://www.w3.org/2000/svg\" height=\"24px\"viewBox=\"0 0 24 24\"\n",
              "       width=\"24px\">\n",
              "    <path d=\"M0 0h24v24H0V0z\" fill=\"none\"/>\n",
              "    <path d=\"M18.56 5.44l.94 2.06.94-2.06 2.06-.94-2.06-.94-.94-2.06-.94 2.06-2.06.94zm-11 1L8.5 8.5l.94-2.06 2.06-.94-2.06-.94L8.5 2.5l-.94 2.06-2.06.94zm10 10l.94 2.06.94-2.06 2.06-.94-2.06-.94-.94-2.06-.94 2.06-2.06.94z\"/><path d=\"M17.41 7.96l-1.37-1.37c-.4-.4-.92-.59-1.43-.59-.52 0-1.04.2-1.43.59L10.3 9.45l-7.72 7.72c-.78.78-.78 2.05 0 2.83L4 21.41c.39.39.9.59 1.41.59.51 0 1.02-.2 1.41-.59l7.78-7.78 2.81-2.81c.8-.78.8-2.07 0-2.86zM5.41 20L4 18.59l7.72-7.72 1.47 1.35L5.41 20z\"/>\n",
              "  </svg>\n",
              "      </button>\n",
              "      \n",
              "  <style>\n",
              "    .colab-df-container {\n",
              "      display:flex;\n",
              "      flex-wrap:wrap;\n",
              "      gap: 12px;\n",
              "    }\n",
              "\n",
              "    .colab-df-convert {\n",
              "      background-color: #E8F0FE;\n",
              "      border: none;\n",
              "      border-radius: 50%;\n",
              "      cursor: pointer;\n",
              "      display: none;\n",
              "      fill: #1967D2;\n",
              "      height: 32px;\n",
              "      padding: 0 0 0 0;\n",
              "      width: 32px;\n",
              "    }\n",
              "\n",
              "    .colab-df-convert:hover {\n",
              "      background-color: #E2EBFA;\n",
              "      box-shadow: 0px 1px 2px rgba(60, 64, 67, 0.3), 0px 1px 3px 1px rgba(60, 64, 67, 0.15);\n",
              "      fill: #174EA6;\n",
              "    }\n",
              "\n",
              "    [theme=dark] .colab-df-convert {\n",
              "      background-color: #3B4455;\n",
              "      fill: #D2E3FC;\n",
              "    }\n",
              "\n",
              "    [theme=dark] .colab-df-convert:hover {\n",
              "      background-color: #434B5C;\n",
              "      box-shadow: 0px 1px 3px 1px rgba(0, 0, 0, 0.15);\n",
              "      filter: drop-shadow(0px 1px 2px rgba(0, 0, 0, 0.3));\n",
              "      fill: #FFFFFF;\n",
              "    }\n",
              "  </style>\n",
              "\n",
              "      <script>\n",
              "        const buttonEl =\n",
              "          document.querySelector('#df-b0af342c-e21f-4ea2-8c61-8178631865fd button.colab-df-convert');\n",
              "        buttonEl.style.display =\n",
              "          google.colab.kernel.accessAllowed ? 'block' : 'none';\n",
              "\n",
              "        async function convertToInteractive(key) {\n",
              "          const element = document.querySelector('#df-b0af342c-e21f-4ea2-8c61-8178631865fd');\n",
              "          const dataTable =\n",
              "            await google.colab.kernel.invokeFunction('convertToInteractive',\n",
              "                                                     [key], {});\n",
              "          if (!dataTable) return;\n",
              "\n",
              "          const docLinkHtml = 'Like what you see? Visit the ' +\n",
              "            '<a target=\"_blank\" href=https://colab.research.google.com/notebooks/data_table.ipynb>data table notebook</a>'\n",
              "            + ' to learn more about interactive tables.';\n",
              "          element.innerHTML = '';\n",
              "          dataTable['output_type'] = 'display_data';\n",
              "          await google.colab.output.renderOutput(dataTable, element);\n",
              "          const docLink = document.createElement('div');\n",
              "          docLink.innerHTML = docLinkHtml;\n",
              "          element.appendChild(docLink);\n",
              "        }\n",
              "      </script>\n",
              "    </div>\n",
              "  </div>\n",
              "  "
            ]
          },
          "metadata": {},
          "execution_count": 4
        }
      ]
    },
    {
      "cell_type": "markdown",
      "source": [
        "##Data preprocessing"
      ],
      "metadata": {
        "id": "x6nJuiitvhUu"
      }
    },
    {
      "cell_type": "code",
      "source": [
        "df.drop(['body', 'name'], axis = 1, inplace = True)"
      ],
      "metadata": {
        "id": "-fuB7TrBvjoP"
      },
      "execution_count": null,
      "outputs": []
    },
    {
      "cell_type": "markdown",
      "source": [
        "###Handling categorical data"
      ],
      "metadata": {
        "id": "wv4nPuVuvlvL"
      }
    },
    {
      "cell_type": "code",
      "source": [
        "df.apply(pd.to_numeric, errors='ignore')\n",
        "df.fillna(0, inplace = True)\n",
        "df.head()"
      ],
      "metadata": {
        "colab": {
          "base_uri": "https://localhost:8080/",
          "height": 206
        },
        "id": "Bw05ppnivne9",
        "outputId": "f153dd49-b317-4f99-e21e-aebb9789081c"
      },
      "execution_count": null,
      "outputs": [
        {
          "output_type": "execute_result",
          "data": {
            "text/plain": [
              "   pclass  survived     sex      age  sibsp  parch  ticket      fare    cabin  \\\n",
              "0       1         1  female  29.0000      0      0   24160  211.3375       B5   \n",
              "1       1         1    male   0.9167      1      2  113781  151.5500  C22 C26   \n",
              "2       1         0  female   2.0000      1      2  113781  151.5500  C22 C26   \n",
              "3       1         0    male  30.0000      1      2  113781  151.5500  C22 C26   \n",
              "4       1         0  female  25.0000      1      2  113781  151.5500  C22 C26   \n",
              "\n",
              "  embarked boat                        home.dest  \n",
              "0        S    2                     St Louis, MO  \n",
              "1        S   11  Montreal, PQ / Chesterville, ON  \n",
              "2        S    0  Montreal, PQ / Chesterville, ON  \n",
              "3        S    0  Montreal, PQ / Chesterville, ON  \n",
              "4        S    0  Montreal, PQ / Chesterville, ON  "
            ],
            "text/html": [
              "\n",
              "  <div id=\"df-2c182b85-1300-4938-9d1d-15058b00fd35\">\n",
              "    <div class=\"colab-df-container\">\n",
              "      <div>\n",
              "<style scoped>\n",
              "    .dataframe tbody tr th:only-of-type {\n",
              "        vertical-align: middle;\n",
              "    }\n",
              "\n",
              "    .dataframe tbody tr th {\n",
              "        vertical-align: top;\n",
              "    }\n",
              "\n",
              "    .dataframe thead th {\n",
              "        text-align: right;\n",
              "    }\n",
              "</style>\n",
              "<table border=\"1\" class=\"dataframe\">\n",
              "  <thead>\n",
              "    <tr style=\"text-align: right;\">\n",
              "      <th></th>\n",
              "      <th>pclass</th>\n",
              "      <th>survived</th>\n",
              "      <th>sex</th>\n",
              "      <th>age</th>\n",
              "      <th>sibsp</th>\n",
              "      <th>parch</th>\n",
              "      <th>ticket</th>\n",
              "      <th>fare</th>\n",
              "      <th>cabin</th>\n",
              "      <th>embarked</th>\n",
              "      <th>boat</th>\n",
              "      <th>home.dest</th>\n",
              "    </tr>\n",
              "  </thead>\n",
              "  <tbody>\n",
              "    <tr>\n",
              "      <th>0</th>\n",
              "      <td>1</td>\n",
              "      <td>1</td>\n",
              "      <td>female</td>\n",
              "      <td>29.0000</td>\n",
              "      <td>0</td>\n",
              "      <td>0</td>\n",
              "      <td>24160</td>\n",
              "      <td>211.3375</td>\n",
              "      <td>B5</td>\n",
              "      <td>S</td>\n",
              "      <td>2</td>\n",
              "      <td>St Louis, MO</td>\n",
              "    </tr>\n",
              "    <tr>\n",
              "      <th>1</th>\n",
              "      <td>1</td>\n",
              "      <td>1</td>\n",
              "      <td>male</td>\n",
              "      <td>0.9167</td>\n",
              "      <td>1</td>\n",
              "      <td>2</td>\n",
              "      <td>113781</td>\n",
              "      <td>151.5500</td>\n",
              "      <td>C22 C26</td>\n",
              "      <td>S</td>\n",
              "      <td>11</td>\n",
              "      <td>Montreal, PQ / Chesterville, ON</td>\n",
              "    </tr>\n",
              "    <tr>\n",
              "      <th>2</th>\n",
              "      <td>1</td>\n",
              "      <td>0</td>\n",
              "      <td>female</td>\n",
              "      <td>2.0000</td>\n",
              "      <td>1</td>\n",
              "      <td>2</td>\n",
              "      <td>113781</td>\n",
              "      <td>151.5500</td>\n",
              "      <td>C22 C26</td>\n",
              "      <td>S</td>\n",
              "      <td>0</td>\n",
              "      <td>Montreal, PQ / Chesterville, ON</td>\n",
              "    </tr>\n",
              "    <tr>\n",
              "      <th>3</th>\n",
              "      <td>1</td>\n",
              "      <td>0</td>\n",
              "      <td>male</td>\n",
              "      <td>30.0000</td>\n",
              "      <td>1</td>\n",
              "      <td>2</td>\n",
              "      <td>113781</td>\n",
              "      <td>151.5500</td>\n",
              "      <td>C22 C26</td>\n",
              "      <td>S</td>\n",
              "      <td>0</td>\n",
              "      <td>Montreal, PQ / Chesterville, ON</td>\n",
              "    </tr>\n",
              "    <tr>\n",
              "      <th>4</th>\n",
              "      <td>1</td>\n",
              "      <td>0</td>\n",
              "      <td>female</td>\n",
              "      <td>25.0000</td>\n",
              "      <td>1</td>\n",
              "      <td>2</td>\n",
              "      <td>113781</td>\n",
              "      <td>151.5500</td>\n",
              "      <td>C22 C26</td>\n",
              "      <td>S</td>\n",
              "      <td>0</td>\n",
              "      <td>Montreal, PQ / Chesterville, ON</td>\n",
              "    </tr>\n",
              "  </tbody>\n",
              "</table>\n",
              "</div>\n",
              "      <button class=\"colab-df-convert\" onclick=\"convertToInteractive('df-2c182b85-1300-4938-9d1d-15058b00fd35')\"\n",
              "              title=\"Convert this dataframe to an interactive table.\"\n",
              "              style=\"display:none;\">\n",
              "        \n",
              "  <svg xmlns=\"http://www.w3.org/2000/svg\" height=\"24px\"viewBox=\"0 0 24 24\"\n",
              "       width=\"24px\">\n",
              "    <path d=\"M0 0h24v24H0V0z\" fill=\"none\"/>\n",
              "    <path d=\"M18.56 5.44l.94 2.06.94-2.06 2.06-.94-2.06-.94-.94-2.06-.94 2.06-2.06.94zm-11 1L8.5 8.5l.94-2.06 2.06-.94-2.06-.94L8.5 2.5l-.94 2.06-2.06.94zm10 10l.94 2.06.94-2.06 2.06-.94-2.06-.94-.94-2.06-.94 2.06-2.06.94z\"/><path d=\"M17.41 7.96l-1.37-1.37c-.4-.4-.92-.59-1.43-.59-.52 0-1.04.2-1.43.59L10.3 9.45l-7.72 7.72c-.78.78-.78 2.05 0 2.83L4 21.41c.39.39.9.59 1.41.59.51 0 1.02-.2 1.41-.59l7.78-7.78 2.81-2.81c.8-.78.8-2.07 0-2.86zM5.41 20L4 18.59l7.72-7.72 1.47 1.35L5.41 20z\"/>\n",
              "  </svg>\n",
              "      </button>\n",
              "      \n",
              "  <style>\n",
              "    .colab-df-container {\n",
              "      display:flex;\n",
              "      flex-wrap:wrap;\n",
              "      gap: 12px;\n",
              "    }\n",
              "\n",
              "    .colab-df-convert {\n",
              "      background-color: #E8F0FE;\n",
              "      border: none;\n",
              "      border-radius: 50%;\n",
              "      cursor: pointer;\n",
              "      display: none;\n",
              "      fill: #1967D2;\n",
              "      height: 32px;\n",
              "      padding: 0 0 0 0;\n",
              "      width: 32px;\n",
              "    }\n",
              "\n",
              "    .colab-df-convert:hover {\n",
              "      background-color: #E2EBFA;\n",
              "      box-shadow: 0px 1px 2px rgba(60, 64, 67, 0.3), 0px 1px 3px 1px rgba(60, 64, 67, 0.15);\n",
              "      fill: #174EA6;\n",
              "    }\n",
              "\n",
              "    [theme=dark] .colab-df-convert {\n",
              "      background-color: #3B4455;\n",
              "      fill: #D2E3FC;\n",
              "    }\n",
              "\n",
              "    [theme=dark] .colab-df-convert:hover {\n",
              "      background-color: #434B5C;\n",
              "      box-shadow: 0px 1px 3px 1px rgba(0, 0, 0, 0.15);\n",
              "      filter: drop-shadow(0px 1px 2px rgba(0, 0, 0, 0.3));\n",
              "      fill: #FFFFFF;\n",
              "    }\n",
              "  </style>\n",
              "\n",
              "      <script>\n",
              "        const buttonEl =\n",
              "          document.querySelector('#df-2c182b85-1300-4938-9d1d-15058b00fd35 button.colab-df-convert');\n",
              "        buttonEl.style.display =\n",
              "          google.colab.kernel.accessAllowed ? 'block' : 'none';\n",
              "\n",
              "        async function convertToInteractive(key) {\n",
              "          const element = document.querySelector('#df-2c182b85-1300-4938-9d1d-15058b00fd35');\n",
              "          const dataTable =\n",
              "            await google.colab.kernel.invokeFunction('convertToInteractive',\n",
              "                                                     [key], {});\n",
              "          if (!dataTable) return;\n",
              "\n",
              "          const docLinkHtml = 'Like what you see? Visit the ' +\n",
              "            '<a target=\"_blank\" href=https://colab.research.google.com/notebooks/data_table.ipynb>data table notebook</a>'\n",
              "            + ' to learn more about interactive tables.';\n",
              "          element.innerHTML = '';\n",
              "          dataTable['output_type'] = 'display_data';\n",
              "          await google.colab.output.renderOutput(dataTable, element);\n",
              "          const docLink = document.createElement('div');\n",
              "          docLink.innerHTML = docLinkHtml;\n",
              "          element.appendChild(docLink);\n",
              "        }\n",
              "      </script>\n",
              "    </div>\n",
              "  </div>\n",
              "  "
            ]
          },
          "metadata": {},
          "execution_count": 6
        }
      ]
    },
    {
      "cell_type": "code",
      "source": [
        "from sklearn.preprocessing import LabelEncoder\n",
        "le = LabelEncoder()"
      ],
      "metadata": {
        "id": "ZG6odKxLvoua"
      },
      "execution_count": null,
      "outputs": []
    },
    {
      "cell_type": "code",
      "source": [
        "import pickle\n",
        "\n",
        "columns = df.columns.values\n",
        "\n",
        "for column in columns:\n",
        "  if df[column].dtype != np.int64 and df[column].dtype != np.float64:\n",
        "    le = LabelEncoder()\n",
        "    df[column] = df[column].astype('string')\n",
        "    df[column] = le.fit_transform(df[column])\n",
        "\n",
        "    filehandler = open(f'/content/drive/MyDrive/Projekty Machine Learning/ML_KMeans/{df[column].name}.obj','wb')\n",
        "    pickle.dump(le, filehandler)\n",
        "    filehandler.close()\n",
        "\n",
        "    df[column] = le.fit_transform(df[column])"
      ],
      "metadata": {
        "id": "2gXNlQV4vqRg"
      },
      "execution_count": null,
      "outputs": []
    },
    {
      "cell_type": "code",
      "source": [
        "df.info()"
      ],
      "metadata": {
        "colab": {
          "base_uri": "https://localhost:8080/"
        },
        "id": "bY1KwXAZvr5h",
        "outputId": "f68cbe86-1c9c-48d8-a57c-62d3e7f8f9a7"
      },
      "execution_count": null,
      "outputs": [
        {
          "output_type": "stream",
          "name": "stdout",
          "text": [
            "<class 'pandas.core.frame.DataFrame'>\n",
            "RangeIndex: 1309 entries, 0 to 1308\n",
            "Data columns (total 12 columns):\n",
            " #   Column     Non-Null Count  Dtype  \n",
            "---  ------     --------------  -----  \n",
            " 0   pclass     1309 non-null   int64  \n",
            " 1   survived   1309 non-null   int64  \n",
            " 2   sex        1309 non-null   int64  \n",
            " 3   age        1309 non-null   float64\n",
            " 4   sibsp      1309 non-null   int64  \n",
            " 5   parch      1309 non-null   int64  \n",
            " 6   ticket     1309 non-null   int64  \n",
            " 7   fare       1309 non-null   float64\n",
            " 8   cabin      1309 non-null   int64  \n",
            " 9   embarked   1309 non-null   int64  \n",
            " 10  boat       1309 non-null   int64  \n",
            " 11  home.dest  1309 non-null   int64  \n",
            "dtypes: float64(2), int64(10)\n",
            "memory usage: 122.8 KB\n"
          ]
        }
      ]
    },
    {
      "cell_type": "markdown",
      "source": [
        "###Reversal of mapping"
      ],
      "metadata": {
        "id": "rB2jQaD5vu_9"
      }
    },
    {
      "cell_type": "code",
      "source": [
        "# file = open('/content/drive/MyDrive/Projekty Machine Learning/ML_KMeans/sex.obj','rb')\n",
        "# le_loaded = pickle.load(file)\n",
        "# file.close()\n",
        "\n",
        "# # df['sex'] = le_loaded.inverse_transform(df['sex'])\n",
        "# # df.head()"
      ],
      "metadata": {
        "id": "ba9uKFP1vue6"
      },
      "execution_count": null,
      "outputs": []
    },
    {
      "cell_type": "markdown",
      "source": [
        "##Feeding MeanShift algorithm with data"
      ],
      "metadata": {
        "id": "9y_Ykr9WwW3I"
      }
    },
    {
      "cell_type": "code",
      "source": [
        "X = np.array(df.drop(['survived'], axis = 1).astype(float))\n",
        "X = preprocessing.scale(X)\n",
        "y = np.array(df['survived'])"
      ],
      "metadata": {
        "id": "xQo4XB2gwZ2D"
      },
      "execution_count": null,
      "outputs": []
    },
    {
      "cell_type": "code",
      "source": [
        "clf = MeanShift()\n",
        "clf.fit(X)"
      ],
      "metadata": {
        "colab": {
          "base_uri": "https://localhost:8080/"
        },
        "id": "lvuzx5RxwbUU",
        "outputId": "951bd1c4-f2f5-432d-ca95-bbe324b49065"
      },
      "execution_count": null,
      "outputs": [
        {
          "output_type": "execute_result",
          "data": {
            "text/plain": [
              "MeanShift()"
            ]
          },
          "metadata": {},
          "execution_count": 12
        }
      ]
    },
    {
      "cell_type": "code",
      "source": [
        "labels = clf.labels_\n",
        "cluster_centers = clf.cluster_centers_\n",
        "\n",
        "original_df['cluster_group'] = np.nan\n",
        "\n",
        "for i, label in enumerate(labels):\n",
        "        original_df['cluster_group'].iloc[i] = label"
      ],
      "metadata": {
        "colab": {
          "base_uri": "https://localhost:8080/"
        },
        "id": "xQjQggzFwjwZ",
        "outputId": "9226fc29-4b42-4ec0-b789-8a6129fc7c66"
      },
      "execution_count": null,
      "outputs": [
        {
          "output_type": "stream",
          "name": "stderr",
          "text": [
            "/usr/local/lib/python3.7/dist-packages/pandas/core/indexing.py:1732: SettingWithCopyWarning: \n",
            "A value is trying to be set on a copy of a slice from a DataFrame\n",
            "\n",
            "See the caveats in the documentation: https://pandas.pydata.org/pandas-docs/stable/user_guide/indexing.html#returning-a-view-versus-a-copy\n",
            "  self._setitem_single_block(indexer, value, name)\n"
          ]
        }
      ]
    },
    {
      "cell_type": "code",
      "source": [
        "n_clusters_ = len(np.unique(labels))\n",
        "survival_rates = {}\n",
        "\n",
        "for i in range(n_clusters_):\n",
        "  temp_df = original_df[(original_df['cluster_group'] == float(i))] #new dataframes which contain data for particular clusters\n",
        "  survival_cluster = temp_df[(temp_df['survived'] == 1)]\n",
        "  survival_rate = len(survival_cluster) / len(temp_df)\n",
        "  survival_rates[i] = survival_rate\n",
        "print(survival_rates)"
      ],
      "metadata": {
        "colab": {
          "base_uri": "https://localhost:8080/"
        },
        "id": "GzLinE3VxN1U",
        "outputId": "bc3700b8-4b13-4c43-8329-ffdf7f4d84fe"
      },
      "execution_count": null,
      "outputs": [
        {
          "output_type": "stream",
          "name": "stdout",
          "text": [
            "{0: 0.38072289156626504, 1: 0.0, 2: 1.0, 3: 0.0, 4: 0.5}\n"
          ]
        }
      ]
    },
    {
      "cell_type": "markdown",
      "source": [
        "###A close look at the groups"
      ],
      "metadata": {
        "id": "PQHjeT0dzafz"
      }
    },
    {
      "cell_type": "code",
      "source": [
        "print(original_df[(original_df['cluster_group'] == 0)].describe())"
      ],
      "metadata": {
        "colab": {
          "base_uri": "https://localhost:8080/"
        },
        "id": "o9p0hG3JzaHZ",
        "outputId": "f56a1d89-2d27-4acd-d02f-f350385d0065"
      },
      "execution_count": null,
      "outputs": [
        {
          "output_type": "stream",
          "name": "stdout",
          "text": [
            "            pclass     survived         age        sibsp        parch  \\\n",
            "count  1245.000000  1245.000000  992.000000  1245.000000  1245.000000   \n",
            "mean      2.319679     0.380723   29.682628     0.406426     0.287550   \n",
            "std       0.822106     0.485760   14.204869     0.764121     0.637177   \n",
            "min       1.000000     0.000000    0.166700     0.000000     0.000000   \n",
            "25%       2.000000     0.000000   21.000000     0.000000     0.000000   \n",
            "50%       3.000000     0.000000   28.000000     0.000000     0.000000   \n",
            "75%       3.000000     1.000000   38.000000     1.000000     0.000000   \n",
            "max       3.000000     1.000000   80.000000     4.000000     4.000000   \n",
            "\n",
            "              fare        body  cluster_group  \n",
            "count  1244.000000  115.000000         1245.0  \n",
            "mean     26.303359  161.469565            0.0  \n",
            "std      31.916500   98.326642            0.0  \n",
            "min       0.000000    1.000000            0.0  \n",
            "25%       7.895800   71.000000            0.0  \n",
            "50%      13.416700  165.000000            0.0  \n",
            "75%      27.750000  257.000000            0.0  \n",
            "max     227.525000  328.000000            0.0  \n"
          ]
        }
      ]
    },
    {
      "cell_type": "markdown",
      "source": [
        "##A demo of the mean-shift clustering algorithm"
      ],
      "metadata": {
        "id": "_oBKwZdX6zsD"
      }
    },
    {
      "cell_type": "code",
      "source": [
        "import numpy as np\n",
        "from sklearn.cluster import MeanShift, estimate_bandwidth\n",
        "from sklearn.datasets import make_blobs"
      ],
      "metadata": {
        "id": "tk7o8VuB64Fv"
      },
      "execution_count": null,
      "outputs": []
    },
    {
      "cell_type": "markdown",
      "source": [
        "###Generating sample data"
      ],
      "metadata": {
        "id": "UE3ZzHHD68wX"
      }
    },
    {
      "cell_type": "code",
      "source": [
        "centers = [[1, 1], [-1, -1], [1, -1]]\n",
        "X, _ = make_blobs(n_samples=10000, centers=centers, cluster_std=0.6)"
      ],
      "metadata": {
        "id": "65NCIpcT65oL"
      },
      "execution_count": null,
      "outputs": []
    },
    {
      "cell_type": "markdown",
      "source": [
        "###Computing clustering"
      ],
      "metadata": {
        "id": "83fCIJVw7Agn"
      }
    },
    {
      "cell_type": "code",
      "source": [
        "# The following bandwidth can be automatically detected using\n",
        "bandwidth = estimate_bandwidth(X, quantile=0.2, n_samples=500)\n",
        "\n",
        "ms = MeanShift(bandwidth=bandwidth, bin_seeding=True)\n",
        "ms.fit(X)\n",
        "labels = ms.labels_\n",
        "cluster_centers = ms.cluster_centers_\n",
        "\n",
        "labels_unique = np.unique(labels)\n",
        "n_clusters_ = len(labels_unique)\n",
        "\n",
        "print(\"number of estimated clusters : %d\" % n_clusters_)"
      ],
      "metadata": {
        "colab": {
          "base_uri": "https://localhost:8080/"
        },
        "id": "pxU0zd7j7Bex",
        "outputId": "03e88bc4-5a90-438c-a4cd-c299a9180954"
      },
      "execution_count": null,
      "outputs": [
        {
          "output_type": "stream",
          "name": "stdout",
          "text": [
            "number of estimated clusters : 3\n"
          ]
        }
      ]
    },
    {
      "cell_type": "markdown",
      "source": [
        "###Plot result"
      ],
      "metadata": {
        "id": "L54DcuZZ7E6L"
      }
    },
    {
      "cell_type": "code",
      "source": [
        "import matplotlib.pyplot as plt\n",
        "from itertools import cycle\n",
        "\n",
        "plt.figure(1)\n",
        "plt.clf()\n",
        "\n",
        "colors = cycle(\"bgrcmykbgrcmykbgrcmykbgrcmyk\")\n",
        "for k, col in zip(range(n_clusters_), colors):\n",
        "    my_members = labels == k\n",
        "    cluster_center = cluster_centers[k]\n",
        "    plt.plot(X[my_members, 0], X[my_members, 1], col + \".\")\n",
        "    plt.plot(\n",
        "        cluster_center[0],\n",
        "        cluster_center[1],\n",
        "        \"o\",\n",
        "        markerfacecolor=col,\n",
        "        markeredgecolor=\"k\",\n",
        "        markersize=14,\n",
        "    )\n",
        "plt.title(\"Estimated number of clusters: %d\" % n_clusters_)\n",
        "plt.show()"
      ],
      "metadata": {
        "colab": {
          "base_uri": "https://localhost:8080/",
          "height": 282
        },
        "id": "SNsVLMbZ7GFO",
        "outputId": "6891f9f7-f915-4cc2-d94e-d184722a6f2b"
      },
      "execution_count": null,
      "outputs": [
        {
          "output_type": "display_data",
          "data": {
            "text/plain": [
              "<Figure size 432x288 with 1 Axes>"
            ],
            "image/png": "[encoded data removed]"
          },
          "metadata": {}
        }
      ]
    },
    {
      "cell_type": "markdown",
      "source": [
        "##Mean Shift from scratch"
      ],
      "metadata": {
        "id": "1FZlQrSu9XWH"
      }
    },
    {
      "cell_type": "code",
      "source": [
        "import pandas as pd\n",
        "import numpy as np\n",
        "import matplotlib.pyplot as plt\n",
        "from matplotlib import style\n",
        "style.use('ggplot')\n",
        "from sklearn.cluster import KMeans\n",
        "from sklearn import preprocessing"
      ],
      "metadata": {
        "id": "6In3v1K-9Zpf"
      },
      "execution_count": null,
      "outputs": []
    },
    {
      "cell_type": "code",
      "source": [
        "X = np.array([[1, 2],\n",
        "              [1.5, 1.8],\n",
        "              [5, 8],\n",
        "              [8, 8],\n",
        "              [1, 0.6],\n",
        "              [9, 11],\n",
        "              [8, 2],\n",
        "              [10, 2],\n",
        "              [9, 3]])"
      ],
      "metadata": {
        "id": "kLj9NFwX9mbs"
      },
      "execution_count": null,
      "outputs": []
    },
    {
      "cell_type": "code",
      "source": [
        "plt.scatter(X[:,0], X[:,1], s = 50, linewidths = 5) #All rows from first col, all rows from 2nd col\n",
        "plt.show()"
      ],
      "metadata": {
        "colab": {
          "base_uri": "https://localhost:8080/",
          "height": 265
        },
        "id": "L8zP46vh9p72",
        "outputId": "3a244e95-832f-4b91-cbd8-87dbd17dd11d"
      },
      "execution_count": null,
      "outputs": [
        {
          "output_type": "display_data",
          "data": {
            "text/plain": [
              "<Figure size 432x288 with 1 Axes>"
            ],
            "image/png": "[encoded data removed]"
          },
          "metadata": {}
        }
      ]
    },
    {
      "cell_type": "code",
      "source": [
        "colors = 10 * ['b', 'g', 'r', 'c', 'm', 'y', 'k']\n",
        "# colors = cycle(\"bgrcmykbgrcmykbgrcmykbgrcmyk\")"
      ],
      "metadata": {
        "id": "fHJjd1s39q3A"
      },
      "execution_count": 89,
      "outputs": []
    },
    {
      "cell_type": "code",
      "source": [
        "for point in range(len(X)):\n",
        "  # print (point, X[point])\n",
        "  plt.scatter(X[point][0], X[point][1], color = colors[point], s = 50, linewidths = 5)\n",
        "\n",
        "plt.show()"
      ],
      "metadata": {
        "colab": {
          "base_uri": "https://localhost:8080/",
          "height": 265
        },
        "id": "Gb7xdBX2AEUn",
        "outputId": "679e28ed-eace-48d1-9045-cab7a92af9bf"
      },
      "execution_count": null,
      "outputs": [
        {
          "output_type": "display_data",
          "data": {
            "text/plain": [
              "<Figure size 432x288 with 1 Axes>"
            ],
            "image/png": "[encoded data removed]"
          },
          "metadata": {}
        }
      ]
    },
    {
      "cell_type": "markdown",
      "source": [
        "###Creating a new class"
      ],
      "metadata": {
        "id": "L7x3aX2bA2m9"
      }
    },
    {
      "cell_type": "code",
      "source": [
        "class Mean_Shift:\n",
        "  def __init__(self, radius = None, radius_norm_step = 100):\n",
        "    self.radius = radius\n",
        "    self.radius_norm_step = radius_norm_step\n",
        "\n",
        "  def fit(self, data):\n",
        "    if self.radius == None:\n",
        "      all_data_centroid = np.average(data, axis = 0)\n",
        "      all_data_norm = np.linalg.norm(all_data_centroid)\n",
        "      self.radius = all_data_norm / self.radius_norm_step\n",
        "\n",
        "    centroids = {}\n",
        "\n",
        "    for i in range(len(data)):\n",
        "      centroids[i] = data[i] #Number of centroids is equal to number of datapoints\n",
        "\n",
        "    weights = [i for i in range(self.radius_norm_step)][::-1] #reversed list of 0 to 99\n",
        "\n",
        "    while True:\n",
        "      new_centroids = []\n",
        "      for i in centroids:\n",
        "        in_bandwidth = []\n",
        "        centroid = centroids[i]\n",
        "        \n",
        "        for featureset in data:\n",
        "          distance = np.linalg.norm(featureset - centroid)\n",
        "          if distance == 0:\n",
        "            distance = 0.00000001\n",
        "          weight_index = int(distance / self.radius)\n",
        "          if weight_index > self.radius_norm_step - 1:\n",
        "            weight_index = self.radius_norm_step - 1\n",
        "          \n",
        "          to_add = (weights[weight_index]**2)*[featureset]\n",
        "          in_bandwidth += to_add\n",
        "\n",
        "          # if np.linalg.norm(featureset - centroid) < self.radius:\n",
        "          #   in_bandwidth.append(featureset)\n",
        "        \n",
        "        new_centroid = np.average(in_bandwidth, axis = 0)\n",
        "        new_centroids.append(tuple(new_centroid)) #converting an array to the tuple!\n",
        "      \n",
        "      uniques = sorted(list(set(new_centroids))) #Set of tuples from above ^\n",
        "\n",
        "      to_pop = []\n",
        "\n",
        "      # for i in uniques:\n",
        "      #   for ii in uniques:\n",
        "      #     if i == ii:\n",
        "      #       pass #pass if identical\n",
        "      #     elif np.linalg.norm(np.array(i) - np.array(ii)) <= self.radius:\n",
        "      #       to_pop.append(ii)\n",
        "      #       break\n",
        "\n",
        "      # for i in to_pop:\n",
        "      #   try:\n",
        "      #     uniques.remove(i)\n",
        "      #   except:\n",
        "      #     pass\n",
        "\n",
        "      for i in uniques:\n",
        "        if i in to_pop: pass # we're not inspecting centroids in radius of i since i will be popped\n",
        "        for ii in uniques:\n",
        "          if i == ii:\n",
        "            pass\n",
        "          elif np.linalg.norm(np.array(i)-np.array(ii)) <= self.radius and ii not in to_pop: # skipping already-added centroids\n",
        "            to_pop.append(ii)\n",
        "\n",
        "      for i in to_pop:\n",
        "        uniques.remove(i)\n",
        "\n",
        "      prev_centroids = dict(centroids)\n",
        "\n",
        "      centroids = {}\n",
        "\n",
        "      for i in range(len(uniques)):\n",
        "        centroids[i] = np.array(uniques[i])\n",
        "\n",
        "      optimized = True\n",
        "\n",
        "      for i in centroids:\n",
        "        if not np.array_equal(centroids[i], prev_centroids[i]): #comparing two arrays\n",
        "          optimized = False\n",
        "        \n",
        "        if not optimized:\n",
        "          break\n",
        "      \n",
        "      if optimized:\n",
        "        break\n",
        "\n",
        "    self.centroids = centroids\n",
        "\n",
        "    self.classifications = {}\n",
        "    \n",
        "    for i in range(len(self.centroids)):\n",
        "      self.classifications[i] = []\n",
        "\n",
        "    for featureset in data:\n",
        "      distances = [np.linalg.norm(featureset - self.centroids[centroid]) for centroid in self.centroids]\n",
        "      classification = distances.index(min(distances))\n",
        "      self.classifications[classification].append(featureset)\n",
        "  \n",
        "  def predict(self, data):\n",
        "    distances = [np.linalg.norm(featureset - self.centroids[centroid]) for centroid in self.centroids]\n",
        "    classification = distances.index(min(distances))\n",
        "    return classification"
      ],
      "metadata": {
        "id": "gUj_1SrmA19O"
      },
      "execution_count": 137,
      "outputs": []
    },
    {
      "cell_type": "code",
      "source": [
        "clf = Mean_Shift()\n",
        "clf.fit(X)\n",
        "\n",
        "centroids = clf.centroids"
      ],
      "metadata": {
        "id": "FGo5YpHID4ob"
      },
      "execution_count": 138,
      "outputs": []
    },
    {
      "cell_type": "code",
      "source": [
        "for classification in clf.classifications:\n",
        "  color = colors[classification]\n",
        "  for featureset in clf.classifications[classification]:\n",
        "    plt.scatter(featureset[0], featureset[1], marker = 'o', color = color, s = 50, linewidths = 5)\n",
        "\n",
        "for c in centroids:\n",
        "  plt.scatter(centroids[c][0], centroids[c][1], color = 'k', marker = '*', s = 150)\n",
        "\n",
        "plt.show()"
      ],
      "metadata": {
        "colab": {
          "base_uri": "https://localhost:8080/",
          "height": 265
        },
        "id": "kQCozbgPZI7g",
        "outputId": "0a9a8f83-0952-49f8-f163-d28f50015ac9"
      },
      "execution_count": 139,
      "outputs": [
        {
          "output_type": "display_data",
          "data": {
            "text/plain": [
              "<Figure size 432x288 with 1 Axes>"
            ],
            "image/png": "[encoded data removed]"
          },
          "metadata": {}
        }
      ]
    },
    {
      "cell_type": "code",
      "source": [
        "clf = Mean_Shift(radius = 2)\n",
        "clf.fit(X)\n",
        "\n",
        "centroids = clf.centroids\n",
        "\n",
        "plt.scatter(X[:,0], X[:,1], s = 50, linewidths = 5)\n",
        "for c in centroids:\n",
        "  plt.scatter(centroids[c][0], centroids[c][1], color = 'k', marker = '*', s = 150)\n",
        "plt.show()"
      ],
      "metadata": {
        "colab": {
          "base_uri": "https://localhost:8080/",
          "height": 265
        },
        "id": "d1ivsvA5Emf0",
        "outputId": "13a330fd-c5df-4a86-d583-29d70361bb15"
      },
      "execution_count": null,
      "outputs": [
        {
          "output_type": "display_data",
          "data": {
            "text/plain": [
              "<Figure size 432x288 with 1 Axes>"
            ],
            "image/png": "[encoded data removed]"
          },
          "metadata": {}
        }
      ]
    },
    {
      "cell_type": "markdown",
      "source": [
        "####Comparison with sklearn's MeanShift"
      ],
      "metadata": {
        "id": "g_Ye3UfrF69Z"
      }
    },
    {
      "cell_type": "code",
      "source": [
        "ms = MeanShift(bandwidth=4, bin_seeding=True)\n",
        "ms.fit(X)\n",
        "labels = ms.labels_\n",
        "cluster_centers = ms.cluster_centers_\n",
        "\n",
        "labels_unique = np.unique(labels)\n",
        "n_clusters_ = len(labels_unique)\n",
        "\n",
        "print(\"number of estimated clusters : %d\" % n_clusters_)\n",
        "\n",
        "import matplotlib.pyplot as plt\n",
        "from itertools import cycle\n",
        "\n",
        "plt.figure(1)\n",
        "plt.clf()\n",
        "\n",
        "colors = cycle(\"bgrcmykbgrcmykbgrcmykbgrcmyk\")\n",
        "for k, col in zip(range(n_clusters_), colors):\n",
        "    my_members = labels == k\n",
        "    cluster_center = cluster_centers[k]\n",
        "    plt.scatter(X[my_members, 0], X[my_members, 1], s = 100)\n",
        "    plt.plot(\n",
        "        cluster_center[0],\n",
        "        cluster_center[1],\n",
        "        \"*\",\n",
        "        markerfacecolor=col,\n",
        "        markeredgecolor=\"k\",\n",
        "        markersize=10,\n",
        "    )\n",
        "plt.title(\"Estimated number of clusters: %d\" % n_clusters_)\n",
        "plt.show()"
      ],
      "metadata": {
        "colab": {
          "base_uri": "https://localhost:8080/",
          "height": 299
        },
        "id": "BF0u0CxpFdvR",
        "outputId": "ef772019-d753-4633-bdc7-6e1203313df6"
      },
      "execution_count": 150,
      "outputs": [
        {
          "output_type": "stream",
          "name": "stdout",
          "text": [
            "number of estimated clusters : 3\n"
          ]
        },
        {
          "output_type": "display_data",
          "data": {
            "text/plain": [
              "<Figure size 432x288 with 1 Axes>"
            ],
            "image/png": "[encoded data removed]"
          },
          "metadata": {}
        }
      ]
    },
    {
      "cell_type": "markdown",
      "source": [
        "###Blobs"
      ],
      "metadata": {
        "id": "31A7l26BaB-s"
      }
    },
    {
      "cell_type": "code",
      "source": [
        "# X, y\n",
        "X, _ = make_blobs(n_samples = 20, centers = 3, n_features = 2)"
      ],
      "metadata": {
        "id": "bK4_KOP3aCwy"
      },
      "execution_count": 141,
      "outputs": []
    },
    {
      "cell_type": "code",
      "source": [
        "clf = Mean_Shift()\n",
        "clf.fit(X)\n",
        "\n",
        "centroids = clf.centroids"
      ],
      "metadata": {
        "id": "2Dj7taR3aOrm"
      },
      "execution_count": 142,
      "outputs": []
    },
    {
      "cell_type": "code",
      "source": [
        "for classification in clf.classifications:\n",
        "  color = colors[classification]\n",
        "  for featureset in clf.classifications[classification]:\n",
        "    plt.scatter(featureset[0], featureset[1], marker = 'o', color = color, s = 50, linewidths = 5)\n",
        "\n",
        "for c in centroids:\n",
        "  plt.scatter(centroids[c][0], centroids[c][1], color = 'k', marker = '*', s = 150)\n",
        "\n",
        "plt.show()"
      ],
      "metadata": {
        "colab": {
          "base_uri": "https://localhost:8080/",
          "height": 265
        },
        "id": "i2OehJxoaTWT",
        "outputId": "dd80c434-4a89-46b7-8c88-942505a4fc78"
      },
      "execution_count": 143,
      "outputs": [
        {
          "output_type": "display_data",
          "data": {
            "text/plain": [
              "<Figure size 432x288 with 1 Axes>"
            ],
            "image/png": "[encoded data removed]"
          },
          "metadata": {}
        }
      ]
    }
  ]
}