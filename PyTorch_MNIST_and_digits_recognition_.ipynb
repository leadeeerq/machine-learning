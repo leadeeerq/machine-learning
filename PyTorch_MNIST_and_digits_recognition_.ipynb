{
  "nbformat": 4,
  "nbformat_minor": 0,
  "metadata": {
    "colab": {
      "provenance": [],
      "toc_visible": true,
      "mount_file_id": "14lFqH4LwLDOvzsAEAh8OGFBaMvH-DMJD",
      "authorship_tag": "ABX9TyPv6kEiG5ED/LunsN4VHK5n",
      "include_colab_link": true
    },
    "kernelspec": {
      "name": "python3",
      "display_name": "Python 3"
    },
    "language_info": {
      "name": "python"
    }
  },
  "cells": [
    {
      "cell_type": "markdown",
      "metadata": {
        "id": "view-in-github",
        "colab_type": "text"
      },
      "source": [
        "<a href=\"https://colab.research.google.com/github/leadeeerq/machine-learning/blob/main/PyTorch_MNIST_and_digits_recognition_.ipynb\" target=\"_parent\"><img src=\"https://colab.research.google.com/assets/colab-badge.svg\" alt=\"Open In Colab\"/></a>"
      ]
    },
    {
      "cell_type": "markdown",
      "source": [
        "![image.png](data:image/png;base64,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)"
      ],
      "metadata": {
        "id": "l5SsmtuCwYdT"
      }
    },
    {
      "cell_type": "markdown",
      "source": [
        "#Libraries"
      ],
      "metadata": {
        "id": "kHS3kANo49iU"
      }
    },
    {
      "cell_type": "code",
      "execution_count": 157,
      "metadata": {
        "id": "LERERaVE2y70"
      },
      "outputs": [],
      "source": [
        "import torch\n",
        "import torchvision\n",
        "from torchvision import transforms, datasets\n",
        "import matplotlib.pyplot as plt\n",
        "from matplotlib.pyplot import figure, imshow, axis\n",
        "from matplotlib.image import imread\n",
        "import numpy as np\n",
        "import torch.nn as nn\n",
        "import torch.nn.functional as F\n",
        "import torch.optim as optim\n",
        "import imageio\n",
        "import os\n",
        "import cv2"
      ]
    },
    {
      "cell_type": "markdown",
      "source": [
        "#Importing the data"
      ],
      "metadata": {
        "id": "3XkDeboB476q"
      }
    },
    {
      "cell_type": "markdown",
      "source": [
        "##Transforming the data into tensors using the transforms module"
      ],
      "metadata": {
        "id": "D4c6Qvht5EAs"
      }
    },
    {
      "cell_type": "code",
      "source": [
        "BATCH_SIZE = 32\n",
        "\n",
        "#Transformations\n",
        "transform = transforms.Compose([transforms.ToTensor()])\n",
        "\n",
        "#Download and load training dataset\n",
        "trainset = torchvision.datasets.MNIST(root='/content/drive/MyDrive/Projekty Machine Learning/PyTorch/', train=True, download=True, transform=transform)\n",
        "trainloader = torch.utils.data.DataLoader(trainset, batch_size=BATCH_SIZE, shuffle=True, num_workers=2)\n",
        "\n",
        "#Testing dataset\n",
        "testset = torchvision.datasets.MNIST(root='/content/drive/MyDrive/Projekty Machine Learning/PyTorch/', train=False, download=True, transform=transform)\n",
        "testloader = torch.utils.data.DataLoader(testset, batch_size=BATCH_SIZE, shuffle=False, num_workers=2)"
      ],
      "metadata": {
        "id": "RKfoBtc93Aah"
      },
      "execution_count": null,
      "outputs": []
    },
    {
      "cell_type": "markdown",
      "source": [
        "##Display the data"
      ],
      "metadata": {
        "id": "KQkRCGHVDHvx"
      }
    },
    {
      "cell_type": "code",
      "source": [
        "for data in trainloader:\n",
        "  print(data)\n",
        "  break"
      ],
      "metadata": {
        "colab": {
          "base_uri": "https://localhost:8080/"
        },
        "id": "cGupn7Q_BFna",
        "outputId": "b6911ffb-54a0-49b3-bea2-1de1a3854753"
      },
      "execution_count": null,
      "outputs": [
        {
          "output_type": "stream",
          "name": "stdout",
          "text": [
            "[tensor([[[[0., 0., 0.,  ..., 0., 0., 0.],\n",
            "          [0., 0., 0.,  ..., 0., 0., 0.],\n",
            "          [0., 0., 0.,  ..., 0., 0., 0.],\n",
            "          ...,\n",
            "          [0., 0., 0.,  ..., 0., 0., 0.],\n",
            "          [0., 0., 0.,  ..., 0., 0., 0.],\n",
            "          [0., 0., 0.,  ..., 0., 0., 0.]]],\n",
            "\n",
            "\n",
            "        [[[0., 0., 0.,  ..., 0., 0., 0.],\n",
            "          [0., 0., 0.,  ..., 0., 0., 0.],\n",
            "          [0., 0., 0.,  ..., 0., 0., 0.],\n",
            "          ...,\n",
            "          [0., 0., 0.,  ..., 0., 0., 0.],\n",
            "          [0., 0., 0.,  ..., 0., 0., 0.],\n",
            "          [0., 0., 0.,  ..., 0., 0., 0.]]],\n",
            "\n",
            "\n",
            "        [[[0., 0., 0.,  ..., 0., 0., 0.],\n",
            "          [0., 0., 0.,  ..., 0., 0., 0.],\n",
            "          [0., 0., 0.,  ..., 0., 0., 0.],\n",
            "          ...,\n",
            "          [0., 0., 0.,  ..., 0., 0., 0.],\n",
            "          [0., 0., 0.,  ..., 0., 0., 0.],\n",
            "          [0., 0., 0.,  ..., 0., 0., 0.]]],\n",
            "\n",
            "\n",
            "        ...,\n",
            "\n",
            "\n",
            "        [[[0., 0., 0.,  ..., 0., 0., 0.],\n",
            "          [0., 0., 0.,  ..., 0., 0., 0.],\n",
            "          [0., 0., 0.,  ..., 0., 0., 0.],\n",
            "          ...,\n",
            "          [0., 0., 0.,  ..., 0., 0., 0.],\n",
            "          [0., 0., 0.,  ..., 0., 0., 0.],\n",
            "          [0., 0., 0.,  ..., 0., 0., 0.]]],\n",
            "\n",
            "\n",
            "        [[[0., 0., 0.,  ..., 0., 0., 0.],\n",
            "          [0., 0., 0.,  ..., 0., 0., 0.],\n",
            "          [0., 0., 0.,  ..., 0., 0., 0.],\n",
            "          ...,\n",
            "          [0., 0., 0.,  ..., 0., 0., 0.],\n",
            "          [0., 0., 0.,  ..., 0., 0., 0.],\n",
            "          [0., 0., 0.,  ..., 0., 0., 0.]]],\n",
            "\n",
            "\n",
            "        [[[0., 0., 0.,  ..., 0., 0., 0.],\n",
            "          [0., 0., 0.,  ..., 0., 0., 0.],\n",
            "          [0., 0., 0.,  ..., 0., 0., 0.],\n",
            "          ...,\n",
            "          [0., 0., 0.,  ..., 0., 0., 0.],\n",
            "          [0., 0., 0.,  ..., 0., 0., 0.],\n",
            "          [0., 0., 0.,  ..., 0., 0., 0.]]]]), tensor([3, 4, 4, 7, 0, 1, 1, 5, 7, 2, 6, 2, 6, 5, 4, 7, 1, 3, 0, 6, 3, 2, 6, 1,\n",
            "        9, 0, 0, 0, 5, 7, 7, 7])]\n"
          ]
        }
      ]
    },
    {
      "cell_type": "code",
      "source": [
        "x, y = data[0][0], data[1][0]\n",
        "\n",
        "print(y)"
      ],
      "metadata": {
        "colab": {
          "base_uri": "https://localhost:8080/"
        },
        "id": "GXUjGLCYBTH-",
        "outputId": "202db572-09a4-4277-8d12-75cb18263c3c"
      },
      "execution_count": null,
      "outputs": [
        {
          "output_type": "stream",
          "name": "stdout",
          "text": [
            "tensor(3)\n"
          ]
        }
      ]
    },
    {
      "cell_type": "code",
      "source": [
        "x.shape"
      ],
      "metadata": {
        "colab": {
          "base_uri": "https://localhost:8080/"
        },
        "id": "6yajI9SXCkhD",
        "outputId": "4f490ba4-7818-496a-c0b2-89bbd66b71ca"
      },
      "execution_count": null,
      "outputs": [
        {
          "output_type": "execute_result",
          "data": {
            "text/plain": [
              "torch.Size([1, 28, 28])"
            ]
          },
          "metadata": {},
          "execution_count": 6
        }
      ]
    },
    {
      "cell_type": "code",
      "source": [
        "plt.imshow(data[0][0].view(28, 28))\n",
        "plt.show()"
      ],
      "metadata": {
        "colab": {
          "base_uri": "https://localhost:8080/",
          "height": 265
        },
        "id": "nCa7DcYACXpp",
        "outputId": "de6de729-bf5c-4d9e-9a8b-18da193121c6"
      },
      "execution_count": null,
      "outputs": [
        {
          "output_type": "display_data",
          "data": {
            "text/plain": [
              "<Figure size 432x288 with 1 Axes>"
            ],
            "image/png": "[encoded data removed]"
          },
          "metadata": {
            "needs_background": "light"
          }
        }
      ]
    },
    {
      "cell_type": "markdown",
      "source": [
        "##Function to display the image"
      ],
      "metadata": {
        "id": "JnQ01h_RDhgV"
      }
    },
    {
      "cell_type": "code",
      "source": [
        "def display_img(img):\n",
        "    #img = img / 2 + 0.5     # unnormalize\n",
        "    npimg = img.numpy()\n",
        "    plt.imshow(np.transpose(npimg, (1, 2, 0)))\n",
        "\n",
        "#Iterate through the trainset\n",
        "dataiter = iter(trainloader)\n",
        "images, labels = next(dataiter)\n",
        "\n",
        "#Display the image\n",
        "display_img(torchvision.utils.make_grid(images))"
      ],
      "metadata": {
        "colab": {
          "base_uri": "https://localhost:8080/",
          "height": 220
        },
        "id": "pc97mW9hDa0z",
        "outputId": "b143cb8b-2add-4616-d135-40a7cf1aef9b"
      },
      "execution_count": null,
      "outputs": [
        {
          "output_type": "display_data",
          "data": {
            "text/plain": [
              "<Figure size 432x288 with 1 Axes>"
            ],
            "image/png": "[encoded data removed]"
          },
          "metadata": {
            "needs_background": "light"
          }
        }
      ]
    },
    {
      "cell_type": "markdown",
      "source": [
        "##Checking the train dataset balance"
      ],
      "metadata": {
        "id": "AK3W82lWFjPL"
      }
    },
    {
      "cell_type": "code",
      "source": [
        "total = 0\n",
        "counter_dict = {0:0, 1:0, 2:0, 3:0, 4:0, 5:0, 6:0, 7:0, 8:0, 9:0}\n",
        "\n",
        "for data in trainloader:\n",
        "  Xs, ys = data\n",
        "  for y in ys:\n",
        "    counter_dict[int(y)] += 1\n",
        "    total += 1\n",
        "\n",
        "print(counter_dict)"
      ],
      "metadata": {
        "colab": {
          "base_uri": "https://localhost:8080/"
        },
        "id": "bLoz4pxVFl7G",
        "outputId": "b2c26464-03ce-44d1-e13d-b85b6c61d537"
      },
      "execution_count": null,
      "outputs": [
        {
          "output_type": "stream",
          "name": "stdout",
          "text": [
            "{0: 5923, 1: 6742, 2: 5958, 3: 6131, 4: 5842, 5: 5421, 6: 5918, 7: 6265, 8: 5851, 9: 5949}\n"
          ]
        }
      ]
    },
    {
      "cell_type": "code",
      "source": [
        "for key in counter_dict:\n",
        "  print(f'Ratio of {key} equals {round(counter_dict[key]/total*100, 2)}')"
      ],
      "metadata": {
        "colab": {
          "base_uri": "https://localhost:8080/"
        },
        "id": "z3-eKigCGBRv",
        "outputId": "73d767c7-afda-4ef2-91b7-bb86c452d5a8"
      },
      "execution_count": null,
      "outputs": [
        {
          "output_type": "stream",
          "name": "stdout",
          "text": [
            "Ratio of 0 equals 9.87\n",
            "Ratio of 1 equals 11.24\n",
            "Ratio of 2 equals 9.93\n",
            "Ratio of 3 equals 10.22\n",
            "Ratio of 4 equals 9.74\n",
            "Ratio of 5 equals 9.04\n",
            "Ratio of 6 equals 9.86\n",
            "Ratio of 7 equals 10.44\n",
            "Ratio of 8 equals 9.75\n",
            "Ratio of 9 equals 9.92\n"
          ]
        }
      ]
    },
    {
      "cell_type": "markdown",
      "source": [
        "#Neural networks"
      ],
      "metadata": {
        "id": "RZUwc04kHmSh"
      }
    },
    {
      "cell_type": "markdown",
      "source": [
        "##Network class"
      ],
      "metadata": {
        "id": "enfgHT9BHoSK"
      }
    },
    {
      "cell_type": "code",
      "source": [
        "class Net(nn.Module):\n",
        "  def __init__(self):\n",
        "    super().__init__()\n",
        "    self.fc1 = nn.Linear(28*28, 64) #Fully connected, input = 28*28 px, ouput = 64 neurons in a hidden layer\n",
        "    self.fc2 = nn.Linear(64, 64)\n",
        "    self.fc3 = nn.Linear(64, 64)\n",
        "    self.fc4 = nn.Linear(64, 10) #output = 10 classes\n",
        "\n",
        "  #Feed-forward\n",
        "  def forward(self, x):\n",
        "    x = F.relu(self.fc1(x))\n",
        "    x = F.relu(self.fc2(x))\n",
        "    x = F.relu(self.fc3(x))\n",
        "    x = self.fc4(x)\n",
        "\n",
        "    #Log softmax used for multiclass classification \n",
        "    return F.log_softmax(x, dim = 1)\n",
        "\n",
        "net = Net()\n",
        "print(net)"
      ],
      "metadata": {
        "colab": {
          "base_uri": "https://localhost:8080/"
        },
        "id": "Z5CjIAEjHn6M",
        "outputId": "971df7db-7157-4282-87d8-0c1c09b5d0be"
      },
      "execution_count": null,
      "outputs": [
        {
          "output_type": "stream",
          "name": "stdout",
          "text": [
            "Net(\n",
            "  (fc1): Linear(in_features=784, out_features=64, bias=True)\n",
            "  (fc2): Linear(in_features=64, out_features=64, bias=True)\n",
            "  (fc3): Linear(in_features=64, out_features=64, bias=True)\n",
            "  (fc4): Linear(in_features=64, out_features=10, bias=True)\n",
            ")\n"
          ]
        }
      ]
    },
    {
      "cell_type": "markdown",
      "source": [
        "##Creating sample data"
      ],
      "metadata": {
        "id": "py1sM__oDy0N"
      }
    },
    {
      "cell_type": "code",
      "source": [
        "X = torch.rand((28, 28))\n",
        "# X = X.view(28*28)"
      ],
      "metadata": {
        "id": "JYHmVfHgD0Xh"
      },
      "execution_count": null,
      "outputs": []
    },
    {
      "cell_type": "code",
      "source": [
        "plt.imshow(X.view(28, 28))\n",
        "plt.show()"
      ],
      "metadata": {
        "colab": {
          "base_uri": "https://localhost:8080/",
          "height": 265
        },
        "id": "cfqUZRsQEMx1",
        "outputId": "704cbfff-968c-418d-f7a2-ce80b0d68c4a"
      },
      "execution_count": null,
      "outputs": [
        {
          "output_type": "display_data",
          "data": {
            "text/plain": [
              "<Figure size 432x288 with 1 Axes>"
            ],
            "image/png": "[encoded data removed]"
          },
          "metadata": {
            "needs_background": "light"
          }
        }
      ]
    },
    {
      "cell_type": "markdown",
      "source": [
        "##Feed through the NN"
      ],
      "metadata": {
        "id": "img-BaVAEwub"
      }
    },
    {
      "cell_type": "code",
      "source": [
        "output = net(X.view(-1, 28*28))\n",
        "output"
      ],
      "metadata": {
        "colab": {
          "base_uri": "https://localhost:8080/"
        },
        "id": "isSDcLXkEysH",
        "outputId": "7a97f674-0012-411f-9f85-2004ff952a67"
      },
      "execution_count": null,
      "outputs": [
        {
          "output_type": "execute_result",
          "data": {
            "text/plain": [
              "tensor([[-2.1814, -2.3470, -2.2323, -2.2877, -2.2659, -2.3074, -2.3174, -2.3444,\n",
              "         -2.4618, -2.3056]], grad_fn=<LogSoftmaxBackward0>)"
            ]
          },
          "metadata": {},
          "execution_count": 99
        }
      ]
    },
    {
      "cell_type": "markdown",
      "source": [
        "##Optimizer"
      ],
      "metadata": {
        "id": "qdQLyzJfGz5J"
      }
    },
    {
      "cell_type": "code",
      "source": [
        "optimizer = optim.Adam(net.parameters(), lr = 0.001)\n",
        "\n",
        "EPOCHS = 2\n",
        "\n",
        "for epoch in range(EPOCHS):\n",
        "  #data is a batch of featuresets and labels\n",
        "  for data in trainloader:\n",
        "    X, y = data\n",
        "    # print(X[0])\n",
        "    print(y[0])\n",
        "    plt.imshow(X[0].view(28, 28))\n",
        "    plt.show()\n",
        "    break"
      ],
      "metadata": {
        "colab": {
          "base_uri": "https://localhost:8080/",
          "height": 548
        },
        "id": "ZBx-MVSYG1B2",
        "outputId": "8a48310b-f7ae-4f0b-a7c6-6d792a1bf209"
      },
      "execution_count": null,
      "outputs": [
        {
          "output_type": "stream",
          "name": "stdout",
          "text": [
            "tensor(1)\n"
          ]
        },
        {
          "output_type": "display_data",
          "data": {
            "text/plain": [
              "<Figure size 432x288 with 1 Axes>"
            ],
            "image/png": "[encoded data removed]"
          },
          "metadata": {
            "needs_background": "light"
          }
        },
        {
          "output_type": "stream",
          "name": "stdout",
          "text": [
            "tensor(5)\n"
          ]
        },
        {
          "output_type": "display_data",
          "data": {
            "text/plain": [
              "<Figure size 432x288 with 1 Axes>"
            ],
            "image/png": "[encoded data removed]"
          },
          "metadata": {
            "needs_background": "light"
          }
        }
      ]
    },
    {
      "cell_type": "markdown",
      "source": [
        "##Loss calculation"
      ],
      "metadata": {
        "id": "mcqq16egMlMc"
      }
    },
    {
      "cell_type": "code",
      "source": [
        "optimizer = optim.Adam(net.parameters(), lr = 0.001)\n",
        "\n",
        "EPOCHS = 3\n",
        "\n",
        "for epoch in range(EPOCHS):\n",
        "  #data is a batch of featuresets and labels\n",
        "  for data in trainloader:\n",
        "    X, y = data\n",
        "    net.zero_grad()\n",
        "    output = net(X.view(-1, 28*28))\n",
        "    loss = F.nll_loss(output, y)\n",
        "    loss.backward() #backpropagation of the loss\n",
        "    optimizer.step()\n",
        "  print(loss)"
      ],
      "metadata": {
        "colab": {
          "base_uri": "https://localhost:8080/"
        },
        "id": "Y5fMOkj3KWMW",
        "outputId": "252ca3bc-ed04-4acd-daaf-2d9f1c770ef5"
      },
      "execution_count": null,
      "outputs": [
        {
          "output_type": "stream",
          "name": "stdout",
          "text": [
            "tensor(0.3208, grad_fn=<NllLossBackward0>)\n",
            "tensor(0.1664, grad_fn=<NllLossBackward0>)\n",
            "tensor(0.0215, grad_fn=<NllLossBackward0>)\n"
          ]
        }
      ]
    },
    {
      "cell_type": "markdown",
      "source": [
        "##Checking how good the NN is at the moment"
      ],
      "metadata": {
        "id": "yzdbB1xOM8CK"
      }
    },
    {
      "cell_type": "code",
      "source": [
        "correct = 0\n",
        "total = 0\n",
        "\n",
        "with torch.no_grad():\n",
        "  for data in trainloader:\n",
        "    X, y = data\n",
        "    output = net(X.view(-1, 28*28))\n",
        "    for idx, i in enumerate(output):\n",
        "      if torch.argmax(i) == y[idx]:\n",
        "        correct += 1\n",
        "      total += 1\n",
        "print('Accuracy: ', round(correct/total, 2))"
      ],
      "metadata": {
        "colab": {
          "base_uri": "https://localhost:8080/"
        },
        "id": "nQTXjKU7MsfI",
        "outputId": "80c65d04-d163-4f28-e580-e887e0384e11"
      },
      "execution_count": null,
      "outputs": [
        {
          "output_type": "stream",
          "name": "stdout",
          "text": [
            "Accuracy:  0.98\n"
          ]
        }
      ]
    },
    {
      "cell_type": "code",
      "source": [
        "plt.imshow(X[0].view(28,28))\n",
        "plt.show()\n",
        "print('Label:', y[0])\n",
        "print('Prediction:', torch.argmax(net(X[0].view(-1, 28*28))))"
      ],
      "metadata": {
        "colab": {
          "base_uri": "https://localhost:8080/",
          "height": 300
        },
        "id": "XDBDR1cQO8WQ",
        "outputId": "b305514e-14ba-44de-cfca-b5f850b0b874"
      },
      "execution_count": null,
      "outputs": [
        {
          "output_type": "display_data",
          "data": {
            "text/plain": [
              "<Figure size 432x288 with 1 Axes>"
            ],
            "image/png": "[encoded data removed]"
          },
          "metadata": {
            "needs_background": "light"
          }
        },
        {
          "output_type": "stream",
          "name": "stdout",
          "text": [
            "Label: tensor(9)\n",
            "Prediction: tensor(9)\n"
          ]
        }
      ]
    },
    {
      "cell_type": "markdown",
      "source": [
        "##Checking with the digits written in Paint"
      ],
      "metadata": {
        "id": "TWqoDkoWWAdY"
      }
    },
    {
      "cell_type": "code",
      "source": [
        "path = '/content/drive/MyDrive/Projekty Machine Learning/PyTorch/Cyfry/'\n",
        "filenames = os.listdir(path)\n",
        "pictures = []\n",
        "\n",
        "for filename in filenames:\n",
        "  filename = path+filename\n",
        "  pictures.append(filename)\n",
        "\n",
        "pictures"
      ],
      "metadata": {
        "colab": {
          "base_uri": "https://localhost:8080/"
        },
        "id": "kvzkz3oFRNMZ",
        "outputId": "f9846327-e03c-4af9-c056-bfcf58a54fe8"
      },
      "execution_count": null,
      "outputs": [
        {
          "output_type": "execute_result",
          "data": {
            "text/plain": [
              "['/content/drive/MyDrive/Projekty Machine Learning/PyTorch/Cyfry/4.png',\n",
              " '/content/drive/MyDrive/Projekty Machine Learning/PyTorch/Cyfry/5.png',\n",
              " '/content/drive/MyDrive/Projekty Machine Learning/PyTorch/Cyfry/2.png',\n",
              " '/content/drive/MyDrive/Projekty Machine Learning/PyTorch/Cyfry/3.png',\n",
              " '/content/drive/MyDrive/Projekty Machine Learning/PyTorch/Cyfry/1.png',\n",
              " '/content/drive/MyDrive/Projekty Machine Learning/PyTorch/Cyfry/6.png',\n",
              " '/content/drive/MyDrive/Projekty Machine Learning/PyTorch/Cyfry/7.png',\n",
              " '/content/drive/MyDrive/Projekty Machine Learning/PyTorch/Cyfry/8.png',\n",
              " '/content/drive/MyDrive/Projekty Machine Learning/PyTorch/Cyfry/9.png',\n",
              " '/content/drive/MyDrive/Projekty Machine Learning/PyTorch/Cyfry/0.png']"
            ]
          },
          "metadata": {},
          "execution_count": 122
        }
      ]
    },
    {
      "cell_type": "code",
      "source": [
        "im = imageio.imread(pictures[0])\n",
        "plt.imshow(im)\n",
        "plt.show()"
      ],
      "metadata": {
        "colab": {
          "base_uri": "https://localhost:8080/",
          "height": 265
        },
        "id": "dFul1ECLT-Dk",
        "outputId": "0c747c3c-fcb7-4f27-8f17-50a7433013e1"
      },
      "execution_count": null,
      "outputs": [
        {
          "output_type": "display_data",
          "data": {
            "text/plain": [
              "<Figure size 432x288 with 1 Axes>"
            ],
            "image/png": "[encoded data removed]"
          },
          "metadata": {
            "needs_background": "light"
          }
        }
      ]
    },
    {
      "cell_type": "code",
      "source": [
        "im = imageio.imread(pictures[0])\n",
        "im = cv2.cvtColor(im, cv2.COLOR_BGR2GRAY)\n",
        "im = cv2.bitwise_not(im)\n",
        "plt.imshow(im)\n",
        "plt.show()"
      ],
      "metadata": {
        "colab": {
          "base_uri": "https://localhost:8080/",
          "height": 265
        },
        "id": "2zWCWHuSQwCI",
        "outputId": "c11a4589-475d-48e6-e1b9-00ffcc1c990f"
      },
      "execution_count": null,
      "outputs": [
        {
          "output_type": "display_data",
          "data": {
            "text/plain": [
              "<Figure size 432x288 with 1 Axes>"
            ],
            "image/png": "[encoded data removed]"
          },
          "metadata": {
            "needs_background": "light"
          }
        }
      ]
    },
    {
      "cell_type": "markdown",
      "source": [
        "##Convert numpy array to tensor"
      ],
      "metadata": {
        "id": "HDo9NvaOUS_d"
      }
    },
    {
      "cell_type": "code",
      "source": [
        "t = torch.from_numpy(im)\n",
        "t = t.to(torch.float32)"
      ],
      "metadata": {
        "id": "EQGwcJxEUUoD"
      },
      "execution_count": null,
      "outputs": []
    },
    {
      "cell_type": "code",
      "source": [
        "output = net(t.view(-1, 28*28))\n",
        "output"
      ],
      "metadata": {
        "colab": {
          "base_uri": "https://localhost:8080/"
        },
        "id": "FH10xBNNUIXq",
        "outputId": "0cecad0d-c73d-42a9-ea3d-e2b6bdeb820d"
      },
      "execution_count": null,
      "outputs": [
        {
          "output_type": "execute_result",
          "data": {
            "text/plain": [
              "tensor([[ -543.2499, -3485.2935,  -800.0312, -2719.2178,     0.0000, -2898.6304,\n",
              "          -336.5413, -2115.5344, -2493.5483, -1967.1587]],\n",
              "       grad_fn=<LogSoftmaxBackward0>)"
            ]
          },
          "metadata": {},
          "execution_count": 126
        }
      ]
    },
    {
      "cell_type": "markdown",
      "source": [
        "##Check all the digits"
      ],
      "metadata": {
        "id": "OKGX6rMlWHKy"
      }
    },
    {
      "cell_type": "code",
      "source": [
        "path = '/content/drive/MyDrive/Projekty Machine Learning/PyTorch/Cyfry/'\n",
        "filenames = os.listdir(path)\n",
        "pictures = []\n",
        "correct = 0\n",
        "total = 0\n",
        "\n",
        "for filename in filenames:\n",
        "  filename = path+filename\n",
        "  pictures.append(filename)\n",
        "\n",
        "for picture in pictures:\n",
        "  label = int(picture[-5])\n",
        "  im = imageio.imread(picture)\n",
        "  im = cv2.cvtColor(im, cv2.COLOR_BGR2GRAY)\n",
        "  im = cv2.bitwise_not(im)\n",
        "  t = torch.from_numpy(im)\n",
        "  t = t.to(torch.float32)\n",
        "  output = net(t.view(-1, 28*28))\n",
        "  for idx, i in enumerate(output):\n",
        "    if torch.argmax(i) == label:\n",
        "      correct += 1\n",
        "    total += 1\n",
        "  plt.imshow(im)\n",
        "  plt.title(f'Label: {label}, predicted: {torch.argmax(i)}', loc = 'center')\n",
        "  plt.show()"
      ],
      "metadata": {
        "colab": {
          "base_uri": "https://localhost:8080/",
          "height": 1000
        },
        "id": "UoORHPm2WI0V",
        "outputId": "18008c8a-8917-4417-ceaa-609ef4745253"
      },
      "execution_count": null,
      "outputs": [
        {
          "output_type": "display_data",
          "data": {
            "text/plain": [
              "<Figure size 432x288 with 1 Axes>"
            ],
            "image/png": "[encoded data removed]"
          },
          "metadata": {
            "needs_background": "light"
          }
        },
        {
          "output_type": "display_data",
          "data": {
            "text/plain": [
              "<Figure size 432x288 with 1 Axes>"
            ],
            "image/png": "[encoded data removed]"
          },
          "metadata": {
            "needs_background": "light"
          }
        },
        {
          "output_type": "display_data",
          "data": {
            "text/plain": [
              "<Figure size 432x288 with 1 Axes>"
            ],
            "image/png": "[encoded data removed]"
          },
          "metadata": {
            "needs_background": "light"
          }
        },
        {
          "output_type": "display_data",
          "data": {
            "text/plain": [
              "<Figure size 432x288 with 1 Axes>"
            ],
            "image/png": "[encoded data removed]"
          },
          "metadata": {
            "needs_background": "light"
          }
        },
        {
          "output_type": "display_data",
          "data": {
            "text/plain": [
              "<Figure size 432x288 with 1 Axes>"
            ],
            "image/png": "[encoded data removed]"
          },
          "metadata": {
            "needs_background": "light"
          }
        },
        {
          "output_type": "display_data",
          "data": {
            "text/plain": [
              "<Figure size 432x288 with 1 Axes>"
            ],
            "image/png": "[encoded data removed]"
          },
          "metadata": {
            "needs_background": "light"
          }
        },
        {
          "output_type": "display_data",
          "data": {
            "text/plain": [
              "<Figure size 432x288 with 1 Axes>"
            ],
            "image/png": "[encoded data removed]"
          },
          "metadata": {
            "needs_background": "light"
          }
        },
        {
          "output_type": "display_data",
          "data": {
            "text/plain": [
              "<Figure size 432x288 with 1 Axes>"
            ],
            "image/png": "[encoded data removed]"
          },
          "metadata": {
            "needs_background": "light"
          }
        },
        {
          "output_type": "display_data",
          "data": {
            "text/plain": [
              "<Figure size 432x288 with 1 Axes>"
            ],
            "image/png": "[encoded data removed]"
          },
          "metadata": {
            "needs_background": "light"
          }
        },
        {
          "output_type": "display_data",
          "data": {
            "text/plain": [
              "<Figure size 432x288 with 1 Axes>"
            ],
            "image/png": "[encoded data removed]"
          },
          "metadata": {
            "needs_background": "light"
          }
        }
      ]
    },
    {
      "cell_type": "code",
      "source": [
        "correct, total"
      ],
      "metadata": {
        "colab": {
          "base_uri": "https://localhost:8080/"
        },
        "id": "GzAMEKIoW3CC",
        "outputId": "cb18726c-15a2-4f62-9218-06cef5ea95b8"
      },
      "execution_count": null,
      "outputs": [
        {
          "output_type": "execute_result",
          "data": {
            "text/plain": [
              "(2, 10)"
            ]
          },
          "metadata": {},
          "execution_count": 128
        }
      ]
    },
    {
      "cell_type": "code",
      "source": [
        "path = '/content/drive/MyDrive/Projekty Machine Learning/PyTorch/Cyfry/'\n",
        "filenames = os.listdir(path)\n",
        "pictures = []\n",
        "labels = []\n",
        "predicted = []\n",
        "correct = 0\n",
        "total = 0\n",
        "\n",
        "for filename in filenames:\n",
        "  filename = path+filename\n",
        "  pictures.append(filename)\n",
        "\n",
        "for idx, picture in enumerate(pictures):\n",
        "  label = int(picture[-5])\n",
        "  labels.append(label)\n",
        "  im = imageio.imread(picture)\n",
        "  im = cv2.cvtColor(im, cv2.COLOR_BGR2GRAY)\n",
        "  im = cv2.bitwise_not(im)\n",
        "  t = torch.from_numpy(im)\n",
        "  t = t.to(torch.float32)\n",
        "  output = net(t.view(-1, 28*28))\n",
        "  predicted.append(torch.argmax(output))\n",
        "  for idx, i in enumerate(output):\n",
        "    if torch.argmax(i) == label:\n",
        "      correct += 1\n",
        "    total += 1\n",
        "\n",
        "def showImagesHorizontally(list_of_files, labels, predicted):\n",
        "    fig = figure(figsize=(20,20))\n",
        "    number_of_files = len(list_of_files)\n",
        "    for i in range(number_of_files):\n",
        "        a=fig.add_subplot(1,number_of_files,i+1)\n",
        "        a.title.set_text(f'Label: {labels[i]}\\n predicted: {predicted[i]}')\n",
        "        image = imread(list_of_files[i])\n",
        "        imshow(image,cmap='Greys_r')\n",
        "        axis('off')\n",
        "\n",
        "showImagesHorizontally(pictures, labels, predicted)"
      ],
      "metadata": {
        "colab": {
          "base_uri": "https://localhost:8080/",
          "height": 156
        },
        "id": "XEJHnF7Uq1Gt",
        "outputId": "eb61c983-dbb4-4f29-aee1-b5923f000618"
      },
      "execution_count": 176,
      "outputs": [
        {
          "output_type": "display_data",
          "data": {
            "text/plain": [
              "<Figure size 1440x1440 with 10 Axes>"
            ],
            "image/png": "[encoded data removed]"
          },
          "metadata": {
            "needs_background": "light"
          }
        }
      ]
    }
  ]
}