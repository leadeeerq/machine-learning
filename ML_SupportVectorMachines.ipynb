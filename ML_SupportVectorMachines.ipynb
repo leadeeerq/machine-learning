{
  "nbformat": 4,
  "nbformat_minor": 0,
  "metadata": {
    "colab": {
      "provenance": [],
      "collapsed_sections": [],
      "toc_visible": true,
      "mount_file_id": "1JD8pwjaIq_0JRBp2n7dl2Yyoe-2gpry6",
      "authorship_tag": "ABX9TyOpBNm+qN8tdxg9UtIX7NkC",
      "include_colab_link": true
    },
    "kernelspec": {
      "name": "python3",
      "display_name": "Python 3"
    },
    "language_info": {
      "name": "python"
    }
  },
  "cells": [
    {
      "cell_type": "markdown",
      "metadata": {
        "id": "view-in-github",
        "colab_type": "text"
      },
      "source": [
        "<a href=\"https://colab.research.google.com/github/leadeeerq/machine-learning/blob/main/ML_SupportVectorMachines.ipynb\" target=\"_parent\"><img src=\"https://colab.research.google.com/assets/colab-badge.svg\" alt=\"Open In Colab\"/></a>"
      ]
    },
    {
      "cell_type": "markdown",
      "source": [
        "#Support Vector Machines\n",
        "Breast cancer data"
      ],
      "metadata": {
        "id": "bEeI_Wmg6j4T"
      }
    },
    {
      "cell_type": "markdown",
      "source": [
        "![image.png](data:image/png;base64,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)"
      ],
      "metadata": {
        "id": "9uYxVAEhoEtv"
      }
    },
    {
      "cell_type": "code",
      "execution_count": 47,
      "metadata": {
        "id": "j-VMRIgQ4fAJ"
      },
      "outputs": [],
      "source": [
        "import numpy as np\n",
        "import pandas as pd\n",
        "import random\n",
        "from sklearn import preprocessing, neighbors, svm\n",
        "from sklearn.model_selection import train_test_split"
      ]
    },
    {
      "cell_type": "code",
      "source": [
        "df = pd.read_csv('/content/drive/MyDrive/Projekty Machine Learning/ML_KNearestNeighbors/breast-cancer-wisconsin.data')\n",
        "df.replace('?', -99999, inplace = True) #Wypełnienie pustych miejsc \"outlierami\"\n",
        "df.drop('id', axis = 1, inplace = True) "
      ],
      "metadata": {
        "id": "3Hi1j6bk6p30"
      },
      "execution_count": null,
      "outputs": []
    },
    {
      "cell_type": "code",
      "source": [
        "X = np.array(df.drop(['class'], axis = 1,))\n",
        "y = np.array(df['class'])"
      ],
      "metadata": {
        "id": "CCirdrqo62jw"
      },
      "execution_count": null,
      "outputs": []
    },
    {
      "cell_type": "code",
      "source": [
        "X_train, X_test, y_train, y_test = train_test_split(X, y, test_size = 0.2)"
      ],
      "metadata": {
        "id": "mFHJx6QV64lH"
      },
      "execution_count": null,
      "outputs": []
    },
    {
      "cell_type": "code",
      "source": [
        "clf = svm.SVC()\n",
        "clf.fit(X_train, y_train)"
      ],
      "metadata": {
        "colab": {
          "base_uri": "https://localhost:8080/"
        },
        "id": "gaV04yKL65zT",
        "outputId": "f114bf5c-d4f3-4324-93b0-9429423dee03"
      },
      "execution_count": null,
      "outputs": [
        {
          "output_type": "execute_result",
          "data": {
            "text/plain": [
              "SVC()"
            ]
          },
          "metadata": {},
          "execution_count": 33
        }
      ]
    },
    {
      "cell_type": "code",
      "source": [
        "accuracy = clf.score(X_test, y_test)\n",
        "accuracy"
      ],
      "metadata": {
        "colab": {
          "base_uri": "https://localhost:8080/"
        },
        "id": "He4i59PF67Pi",
        "outputId": "28123c19-a556-4673-c8f4-c7d7729ae5a6"
      },
      "execution_count": null,
      "outputs": [
        {
          "output_type": "execute_result",
          "data": {
            "text/plain": [
              "0.6"
            ]
          },
          "metadata": {},
          "execution_count": 34
        }
      ]
    },
    {
      "cell_type": "code",
      "source": [
        "example_measures = np.array([[4, 2, 1, 1, 1, 2, 3, 2, 1], [4, 2, 1, 2, 2, 2, 3, 2, 1]])\n",
        "example_measures"
      ],
      "metadata": {
        "colab": {
          "base_uri": "https://localhost:8080/"
        },
        "id": "wWiCBD2469LG",
        "outputId": "2efbf83a-e0ad-4453-9f7f-2d1f0f030a16"
      },
      "execution_count": null,
      "outputs": [
        {
          "output_type": "execute_result",
          "data": {
            "text/plain": [
              "array([[4, 2, 1, 1, 1, 2, 3, 2, 1],\n",
              "       [4, 2, 1, 2, 2, 2, 3, 2, 1]])"
            ]
          },
          "metadata": {},
          "execution_count": 19
        }
      ]
    },
    {
      "cell_type": "code",
      "source": [
        "prediction = clf.predict(example_measures)\n",
        "prediction"
      ],
      "metadata": {
        "colab": {
          "base_uri": "https://localhost:8080/"
        },
        "id": "atnOHqIX69Jt",
        "outputId": "72bf17cf-6b34-41d8-fba9-1bac45db4ae6"
      },
      "execution_count": null,
      "outputs": [
        {
          "output_type": "execute_result",
          "data": {
            "text/plain": [
              "array([2, 2])"
            ]
          },
          "metadata": {},
          "execution_count": 20
        }
      ]
    },
    {
      "cell_type": "markdown",
      "source": [
        "##Creating SVM from scratch"
      ],
      "metadata": {
        "id": "SngzLLeENfnE"
      }
    },
    {
      "cell_type": "code",
      "source": [
        "import matplotlib.pyplot as plt\n",
        "from matplotlib import style\n",
        "style.use('ggplot')"
      ],
      "metadata": {
        "id": "m4q2Jai0Nhdi"
      },
      "execution_count": 35,
      "outputs": []
    },
    {
      "cell_type": "code",
      "source": [
        "data_dict = {-1: np.array([[1, 7], [2, 8], [3, 8]]), \n",
        "             1: np.array([[5, 1], [6, -1], [7, 3]])}"
      ],
      "metadata": {
        "id": "xc7yJLEMNvNC"
      },
      "execution_count": 36,
      "outputs": []
    },
    {
      "cell_type": "code",
      "source": [
        "class Support_Vector_Machine:\n",
        "  def __init__(self, visualization = True): #metoda, która zostanie uruchomiona przy inicjalizacji instancji klasy\n",
        "    self.visualization = visualization\n",
        "    self.colors = {1: 'r', -1: 'b'}\n",
        "    if self.visualization:\n",
        "      self.fig = plt.figure()\n",
        "      self.ax = self.fig.add_subplot(1, 1, 1)\n",
        "\n",
        "  def fit(self, data):\n",
        "    self.data = data\n",
        "    #{||w||: [w, b]} #Dict keys = magnitudes of vectors\n",
        "    opt_dict = {}\n",
        "    transforms = [[1, 1],\n",
        "                  [-1, 1],\n",
        "                  [-1, -1],\n",
        "                  [1, -1]]\n",
        "    all_data = []\n",
        "\n",
        "    for yi in self.data:\n",
        "      for featureset in self.data[yi]:\n",
        "        for feature in featureset:\n",
        "          all_data.append(feature)\n",
        "    self.max_feature_value = max(all_data)\n",
        "    self.min_feature_value = min(all_data)\n",
        "    all_data = None #Removing the data from the memory\n",
        "    \n",
        "    step_sizes = [self.max_feature_value * 0.1,\n",
        "                  self.max_feature_value * 0.01,\n",
        "                  self.max_feature_value * 0.001]\n",
        "\n",
        "    b_range_multiple = 5\n",
        "    b_multiple = 5\n",
        "    latest_optimum = self.max_feature_value * 10\n",
        "\n",
        "    for step in step_sizes:\n",
        "      w = np.array([latest_optimum, latest_optimum])\n",
        "      optimized_val = False\n",
        "      while not optimized_val:\n",
        "        for b in np.arange(-1 * (self.max_feature_value * b_range_multiple), \n",
        "                           self.max_feature_value * b_range_multiple,\n",
        "                           step * b_multiple):\n",
        "          for transformation in transforms:\n",
        "            w_t = w * transformation\n",
        "            found_option = True\n",
        "            for i in self.data:\n",
        "              for xi in self.data[i]:\n",
        "                yi = i\n",
        "                if not yi * (np.dot(w_t, xi) + b) >= 1:\n",
        "                  found_option = False\n",
        "            if found_option:\n",
        "              opt_dict[np.linalg.norm(w_t)] = [w_t, b]\n",
        "        if w[0] < 0:\n",
        "          optimized_val = True\n",
        "          print('Optimized a step.')\n",
        "        else:\n",
        "          w = w - step\n",
        "\n",
        "      norms = sorted([n for n in opt_dict])\n",
        "      opt_choice = opt_dict[norms[0]]\n",
        "\n",
        "      self.w = opt_choice[0]\n",
        "      self.b = opt_choice[1]\n",
        "\n",
        "      latest_optimum = opt_choice[0][0] + step * 2\n",
        "\n",
        "  def predict(self, features):\n",
        "    #sign(x.w + b)\n",
        "    classification = np.sign(np.dot(np.array(features), self.w) + self.b)\n",
        "    if classification != 0 and self.visualization:\n",
        "      self.ax.scatter(features[0], features[1], s = 100, marker = '*', c = self.colors[classification])\n",
        "    return classification\n",
        "\n",
        "  def visualize(self):\n",
        "    [[self.ax.scatter(x[0], x[1], s = 100, color = self.colors[i]) for x in data_dict[i]] for i in data_dict]\n",
        "\n",
        "    def hyperplane(x, w, b, v):\n",
        "      return (-w[0] * x - b + v) / w[1]\n",
        "\n",
        "    datarange = (self.min_feature_value * 0.9, self.max_feature_value * 1.1)\n",
        "    hyp_x_min = datarange[0]\n",
        "    hyp_x_max = datarange[1]\n",
        "\n",
        "    #Positive support vector hyperplane\n",
        "    psv1 = hyperplane(hyp_x_min, self.w, self.b, 1)\n",
        "    psv2 = hyperplane(hyp_x_max, self.w, self.b, 1)\n",
        "    self.ax.plot([hyp_x_min, hyp_x_max], [psv1, psv2], 'k')\n",
        "\n",
        "    #Negative support vector hyperplane\n",
        "    nsv1 = hyperplane(hyp_x_min, self.w, self.b, -1)\n",
        "    nsv2 = hyperplane(hyp_x_max, self.w, self.b, -1)\n",
        "    self.ax.plot([hyp_x_min, hyp_x_max], [nsv1, nsv2], 'k')\n",
        "\n",
        "    #decision boundary\n",
        "    db1 = hyperplane(hyp_x_min, self.w, self.b, 0)\n",
        "    db2 = hyperplane(hyp_x_max, self.w, self.b, 0)\n",
        "    self.ax.plot([hyp_x_min, hyp_x_max], [db1, db2], 'y--')\n",
        "\n",
        "    plt.show()"
      ],
      "metadata": {
        "id": "hX-eOtirOXt7"
      },
      "execution_count": 50,
      "outputs": []
    },
    {
      "cell_type": "code",
      "source": [
        "svm = Support_Vector_Machine()\n",
        "svm.fit(data = data_dict)\n",
        "# svm.visualize()\n",
        "\n",
        "to_predict = [[0, 10],\n",
        "              [1, 3],\n",
        "              [3, 4],\n",
        "              [3, 5],\n",
        "              [5, 5],\n",
        "              [5, 6],\n",
        "              [6, -5],\n",
        "              [5,8]]\n",
        "\n",
        "for p in to_predict:\n",
        "  svm.predict(p)\n",
        "  \n",
        "svm.visualize()"
      ],
      "metadata": {
        "colab": {
          "base_uri": "https://localhost:8080/",
          "height": 317
        },
        "id": "JUBc_yXKaNxa",
        "outputId": "d257edaa-8920-4200-b517-c81d6e3fade6"
      },
      "execution_count": 51,
      "outputs": [
        {
          "output_type": "stream",
          "name": "stdout",
          "text": [
            "Optimized a step.\n",
            "Optimized a step.\n",
            "Optimized a step.\n"
          ]
        },
        {
          "output_type": "display_data",
          "data": {
            "text/plain": [
              "<Figure size 432x288 with 1 Axes>"
            ],
            "image/png": "[encoded data removed]"
          },
          "metadata": {}
        }
      ]
    },
    {
      "cell_type": "markdown",
      "source": [
        "##Prediction"
      ],
      "metadata": {
        "id": "VsLoOGglbkKY"
      }
    },
    {
      "cell_type": "code",
      "source": [
        "to_predict = [[0, 10],\n",
        "              [1, 3],\n",
        "              [3, 4],\n",
        "              [3, 5],\n",
        "              [5, 5],\n",
        "              [5, 6],\n",
        "              [6, -5],\n",
        "              [5,8]]"
      ],
      "metadata": {
        "id": "GkS4g_AQblnQ"
      },
      "execution_count": 52,
      "outputs": []
    },
    {
      "cell_type": "code",
      "source": [
        "for p in to_predict:\n",
        "  print(svm.predict(p))"
      ],
      "metadata": {
        "colab": {
          "base_uri": "https://localhost:8080/"
        },
        "id": "9VpZyTLCb04Y",
        "outputId": "bb989b33-6715-4e55-dc90-98a6391d3fe2"
      },
      "execution_count": 55,
      "outputs": [
        {
          "output_type": "stream",
          "name": "stdout",
          "text": [
            "-1.0\n",
            "-1.0\n",
            "-1.0\n",
            "-1.0\n",
            "1.0\n",
            "-1.0\n",
            "1.0\n",
            "-1.0\n"
          ]
        }
      ]
    }
  ]
}